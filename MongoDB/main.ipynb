{
 "cells": [
  {
   "cell_type": "code",
   "execution_count": 59,
   "metadata": {},
   "outputs": [],
   "source": [
    "import pymongo\n",
    "\n",
    "connection_string = \"mongodb://localhost:27017/\"\n",
    "\n",
    "client = pymongo.MongoClient(connection_string)\n",
    "\n",
    "db = client.Gx\n",
    "collection = db.Employee"
   ]
  },
  {
   "cell_type": "code",
   "execution_count": 60,
   "metadata": {},
   "outputs": [
    {
     "data": {
      "text/plain": [
       "InsertManyResult([ObjectId('660a6063d86e453eb422f008'), ObjectId('660a6063d86e453eb422f009'), ObjectId('660a6063d86e453eb422f00a'), ObjectId('660a6063d86e453eb422f00b')], acknowledged=True)"
      ]
     },
     "execution_count": 60,
     "metadata": {},
     "output_type": "execute_result"
    }
   ],
   "source": [
    "record = {\n",
    "    \"employee_id\": 3976,\n",
    "    \"first_name\": \"Mayur\",\n",
    "    \"last_name\": \"Pai\"\n",
    "}\n",
    "\n",
    "records = [\n",
    "    {\n",
    "        \"employee_id\": 5482,\n",
    "        \"first_name\": \"Anika\",\n",
    "        \"last_name\": \"Sharma\"\n",
    "    },\n",
    "    {\n",
    "        \"employee_id\": 6219,\n",
    "        \"first_name\": \"Rohan\",\n",
    "        \"last_name\": \"Patel\"\n",
    "    },\n",
    "    {\n",
    "        \"employee_id\": 7354,\n",
    "        \"first_name\": \"Priya\",\n",
    "        \"last_name\": \"Singh\"\n",
    "    },\n",
    "    {\n",
    "        \"employee_id\": 8031,\n",
    "        \"first_name\": \"Aryan\",\n",
    "        \"last_name\": \"Mehta\"\n",
    "    }\n",
    "]\n",
    "\n",
    "collection.insert_one(record)\n",
    "collection.insert_many(records)"
   ]
  },
  {
   "cell_type": "code",
   "execution_count": 64,
   "metadata": {},
   "outputs": [
    {
     "name": "stdout",
     "output_type": "stream",
     "text": [
      "{'employee_id': 3976, 'first_name': 'Mayur', 'last_name': 'Pai'}\n",
      "{'employee_id': 5482, 'first_name': 'Anika', 'last_name': 'Sharma'}\n",
      "{'employee_id': 6219, 'first_name': 'Rohan', 'last_name': 'Patel'}\n",
      "{'employee_id': 7354, 'first_name': 'Priya', 'last_name': 'Singh'}\n",
      "{'employee_id': 8031, 'first_name': 'Aryan', 'last_name': 'Mehta'}\n"
     ]
    }
   ],
   "source": [
    "for i in collection.find({}, {\"_id\": False}):\n",
    "    print(i)"
   ]
  },
  {
   "cell_type": "code",
   "execution_count": 65,
   "metadata": {},
   "outputs": [
    {
     "name": "stdout",
     "output_type": "stream",
     "text": [
      "{'employee_id': 8031, 'first_name': 'Aryan', 'last_name': 'Mehta'}\n"
     ]
    }
   ],
   "source": [
    "for i in collection.find({\"last_name\" : \"Mehta\"}, {\"_id\":False}):\n",
    "    print(i)"
   ]
  },
  {
   "cell_type": "code",
   "execution_count": 66,
   "metadata": {},
   "outputs": [
    {
     "name": "stdout",
     "output_type": "stream",
     "text": [
      "{'_id': ObjectId('660a6063d86e453eb422f007'), 'employee_id': 3976, 'first_name': 'Mayur', 'last_name': 'Pai'}\n",
      "{'_id': ObjectId('660a6063d86e453eb422f00b'), 'employee_id': 8031, 'first_name': 'Aryan', 'last_name': 'Mehta'}\n"
     ]
    }
   ],
   "source": [
    "for record in collection.find({\"last_name\":{\"$in\":[\"Pai\",\"Mehta\"]}}):\n",
    "    print(record)"
   ]
  },
  {
   "cell_type": "code",
   "execution_count": 67,
   "metadata": {},
   "outputs": [
    {
     "name": "stdout",
     "output_type": "stream",
     "text": [
      "{'_id': ObjectId('660a6063d86e453eb422f007'), 'employee_id': 3976, 'first_name': 'Mayur', 'last_name': 'Pai'}\n"
     ]
    }
   ],
   "source": [
    "for record in collection.find({\"employee_id\":{\"$lt\": 5000}}):\n",
    "    print(record)"
   ]
  },
  {
   "cell_type": "code",
   "execution_count": 69,
   "metadata": {},
   "outputs": [
    {
     "name": "stdout",
     "output_type": "stream",
     "text": [
      "{'_id': ObjectId('660a6063d86e453eb422f007'), 'employee_id': 3976, 'first_name': 'Mayur', 'last_name': 'Pai'}\n",
      "{'_id': ObjectId('660a6063d86e453eb422f00b'), 'employee_id': 8031, 'first_name': 'Aryan', 'last_name': 'Mehta'}\n"
     ]
    }
   ],
   "source": [
    "for record in collection.find({'$or':[{'first_name':'Mayur'},{'last_name':'Mehta'}]}):\n",
    "    print(record)"
   ]
  },
  {
   "cell_type": "code",
   "execution_count": 71,
   "metadata": {},
   "outputs": [
    {
     "name": "stdout",
     "output_type": "stream",
     "text": [
      "{'_id': ObjectId('660a6063d86e453eb422f007'), 'employee_id': 3976, 'first_name': 'Mayur', 'last_name': 'Pai'}\n"
     ]
    }
   ],
   "source": [
    "for record in collection.find({'$and':[{'first_name':'Mayur'},{'last_name':'Pai'}]}):\n",
    "    print(record)"
   ]
  },
  {
   "cell_type": "code",
   "execution_count": 72,
   "metadata": {},
   "outputs": [
    {
     "name": "stdout",
     "output_type": "stream",
     "text": [
      "{'_id': ObjectId('660a6063d86e453eb422f007'), 'employee_id': 3976, 'first_name': 'Mayur', 'last_name': 'Pai'}\n"
     ]
    }
   ],
   "source": [
    "for record in collection.find({'first_name':'Mayur', 'last_name':'Pai'}):\n",
    "    print(record)"
   ]
  },
  {
   "cell_type": "code",
   "execution_count": 73,
   "metadata": {},
   "outputs": [
    {
     "data": {
      "text/plain": [
       "InsertManyResult([ObjectId('660a60c2d86e453eb422f00c'), ObjectId('660a60c2d86e453eb422f00d'), ObjectId('660a60c2d86e453eb422f00e'), ObjectId('660a60c2d86e453eb422f00f'), ObjectId('660a60c2d86e453eb422f010'), ObjectId('660a60c2d86e453eb422f011'), ObjectId('660a60c2d86e453eb422f012'), ObjectId('660a60c2d86e453eb422f013'), ObjectId('660a60c2d86e453eb422f014'), ObjectId('660a60c2d86e453eb422f015')], acknowledged=True)"
      ]
     },
     "execution_count": 73,
     "metadata": {},
     "output_type": "execute_result"
    }
   ],
   "source": [
    "db.inventory.insert_many([\n",
    "    {\"item\": \"canvas\",\n",
    "     \"qty\": 100,\n",
    "     \"size\": {\"h\": 28, \"w\": 35.5, \"uom\": \"cm\"},\n",
    "     \"status\": \"A\"},\n",
    "    {\"item\": \"journal\",\n",
    "     \"qty\": 25,\n",
    "     \"size\": {\"h\": 14, \"w\": 21, \"uom\": \"cm\"},\n",
    "     \"status\": \"A\"},\n",
    "    {\"item\": \"mat\",\n",
    "     \"qty\": 85,\n",
    "     \"size\": {\"h\": 27.9, \"w\": 35.5, \"uom\": \"cm\"},\n",
    "     \"status\": \"A\"},\n",
    "    {\"item\": \"mousepad\",\n",
    "     \"qty\": 25,\n",
    "     \"size\": {\"h\": 19, \"w\": 22.85, \"uom\": \"cm\"},\n",
    "     \"status\": \"P\"},\n",
    "    {\"item\": \"notebook\",\n",
    "     \"qty\": 50,\n",
    "     \"size\": {\"h\": 8.5, \"w\": 11, \"uom\": \"in\"},\n",
    "     \"status\": \"P\"},\n",
    "    {\"item\": \"paper\",\n",
    "     \"qty\": 100,\n",
    "     \"size\": {\"h\": 8.5, \"w\": 11, \"uom\": \"in\"},\n",
    "     \"status\": \"D\"},\n",
    "    {\"item\": \"planner\",\n",
    "     \"qty\": 75,\n",
    "     \"size\": {\"h\": 22.85, \"w\": 30, \"uom\": \"cm\"},\n",
    "     \"status\": \"D\"},\n",
    "    {\"item\": \"postcard\",\n",
    "     \"qty\": 45,\n",
    "     \"size\": {\"h\": 10, \"w\": 15.25, \"uom\": \"cm\"},\n",
    "     \"status\": \"A\"},\n",
    "    {\"item\": \"sketchbook\",\n",
    "     \"qty\": 80,\n",
    "     \"size\": {\"h\": 14, \"w\": 21, \"uom\": \"cm\"},\n",
    "     \"status\": \"A\"},\n",
    "    {\"item\": \"sketch pad\",\n",
    "     \"qty\": 95,\n",
    "     \"size\": {\"h\": 22.85, \"w\": 30.5, \"uom\": \"cm\"},\n",
    "     \"status\": \"A\"}])"
   ]
  },
  {
   "cell_type": "code",
   "execution_count": 74,
   "metadata": {},
   "outputs": [
    {
     "data": {
      "text/plain": [
       "UpdateResult({'n': 1, 'nModified': 1, 'ok': 1.0, 'updatedExisting': True}, acknowledged=True)"
      ]
     },
     "execution_count": 74,
     "metadata": {},
     "output_type": "execute_result"
    }
   ],
   "source": [
    "db.inventory.update_one(\n",
    "    {\"item\": \"sketch pad\"},\n",
    "    {\"$set\": {\"size.uom\": \"m\", \"status\": \"P\"},\n",
    "        \"$currentDate\": {\"lastModified\": True}}\n",
    ")"
   ]
  },
  {
   "cell_type": "code",
   "execution_count": 75,
   "metadata": {},
   "outputs": [
    {
     "data": {
      "text/plain": [
       "UpdateResult({'n': 3, 'nModified': 3, 'ok': 1.0, 'updatedExisting': True}, acknowledged=True)"
      ]
     },
     "execution_count": 75,
     "metadata": {},
     "output_type": "execute_result"
    }
   ],
   "source": [
    "db.inventory.update_many(\n",
    "    {\"qty\": {\"$lt\": 50}},\n",
    "    {\"$set\": {\"size.uom\": \"in\", \"status\": \"P\"},\n",
    "     \"$currentDate\": {\"lastModified\": True}})"
   ]
  },
  {
   "cell_type": "code",
   "execution_count": 76,
   "metadata": {},
   "outputs": [
    {
     "data": {
      "text/plain": [
       "UpdateResult({'n': 1, 'nModified': 1, 'ok': 1.0, 'updatedExisting': True}, acknowledged=True)"
      ]
     },
     "execution_count": 76,
     "metadata": {},
     "output_type": "execute_result"
    }
   ],
   "source": [
    "db.inventory.replace_one(\n",
    "    {\"item\": \"paper\"},\n",
    "    {\"item\": \"paper\",\n",
    "     \"instock\": [\n",
    "         {\"warehouse\": \"A\", \"qty\": 60},\n",
    "         {\"warehouse\": \"B\", \"qty\": 40}]})"
   ]
  },
  {
   "cell_type": "code",
   "execution_count": 81,
   "metadata": {},
   "outputs": [],
   "source": [
    "data = [\n",
    "    {\"user\": \"Mayur\", \"subject\": \"Database\", \"score\": 80},\n",
    "    {\"user\": \"Abhijeet\",  \"subject\": \"JavaScript\", \"score\": 90},\n",
    "    {\"user\": \"Abhijeet\",  \"title\": \"Database\", \"score\": 85},\n",
    "    {\"user\": \"Mayur\",  \"title\": \"JavaScript\", \"score\": 75},    \n",
    "    {\"user\": \"Abhijeet\",  \"title\": \"Data Science\", \"score\": 60},\n",
    "    {\"user\": \"Mayur\",  \"title\": \"Data Science\", \"score\": 95}]"
   ]
  },
  {
   "cell_type": "code",
   "execution_count": 82,
   "metadata": {},
   "outputs": [
    {
     "data": {
      "text/plain": [
       "InsertOneResult(ObjectId('660a6165d86e453eb422f01c'), acknowledged=True)"
      ]
     },
     "execution_count": 82,
     "metadata": {},
     "output_type": "execute_result"
    }
   ],
   "source": [
    "db.student_scores.insert_one({\n",
    "    \"user\": \"Mayur\",  \"title\": \"Python\", \"score\": 85\n",
    "})"
   ]
  },
  {
   "cell_type": "code",
   "execution_count": 78,
   "metadata": {},
   "outputs": [
    {
     "data": {
      "text/plain": [
       "InsertManyResult([ObjectId('660a611cd86e453eb422f016'), ObjectId('660a611cd86e453eb422f017'), ObjectId('660a611cd86e453eb422f018'), ObjectId('660a611cd86e453eb422f019'), ObjectId('660a611cd86e453eb422f01a'), ObjectId('660a611cd86e453eb422f01b')], acknowledged=True)"
      ]
     },
     "execution_count": 78,
     "metadata": {},
     "output_type": "execute_result"
    }
   ],
   "source": [
    "db.student_scores.insert_many(data) "
   ]
  },
  {
   "cell_type": "code",
   "execution_count": 83,
   "metadata": {},
   "outputs": [
    {
     "name": "stdout",
     "output_type": "stream",
     "text": [
      "{'_id': 'Mayur', 'Total Subject': 4}\n",
      "{'_id': 'Abhijeet', 'Total Subject': 3}\n"
     ]
    }
   ],
   "source": [
    "agg_result = db.student_scores.aggregate(\n",
    "    [{\n",
    "        \"$group\":\n",
    "        {\"_id\": \"$user\",\n",
    "         \"Total Subject\": {\"$sum\": 1}\n",
    "         }}\n",
    "     ])\n",
    "\n",
    "for i in agg_result: \n",
    "    print(i)"
   ]
  },
  {
   "cell_type": "code",
   "execution_count": 85,
   "metadata": {},
   "outputs": [
    {
     "name": "stdout",
     "output_type": "stream",
     "text": [
      "{'_id': 'Mayur', 'Total Marks': 335}\n",
      "{'_id': 'Abhijeet', 'Total Marks': 235}\n"
     ]
    }
   ],
   "source": [
    "agg_result = db.student_scores.aggregate(\n",
    "    [{\n",
    "        \"$group\":\n",
    "        {\"_id\": \"$user\",\n",
    "         \"Total Marks\": {\"$sum\": \"$score\"}\n",
    "         }}\n",
    "     ])\n",
    "\n",
    "for i in agg_result:\n",
    "    print(i)"
   ]
  },
  {
   "cell_type": "code",
   "execution_count": 87,
   "metadata": {},
   "outputs": [
    {
     "name": "stdout",
     "output_type": "stream",
     "text": [
      "{'_id': 'Mayur', 'StudentScoreAverage': 83.75}\n",
      "{'_id': 'Abhijeet', 'StudentScoreAverage': 78.33333333333333}\n"
     ]
    }
   ],
   "source": [
    "agg_result = db.student_scores.aggregate([\n",
    "    {\n",
    "        \"$group\": {\n",
    "            \"_id\": '$user',\n",
    "            \"StudentScoreAverage\": {\n",
    "                \"$avg\": \"$score\"\n",
    "            }\n",
    "        }\n",
    "    }\n",
    "])\n",
    "\n",
    "for i in agg_result:\n",
    "    print(i)"
   ]
  },
  {
   "cell_type": "code",
   "execution_count": 88,
   "metadata": {},
   "outputs": [],
   "source": [
    "import datetime as datetime"
   ]
  },
  {
   "cell_type": "code",
   "execution_count": 89,
   "metadata": {},
   "outputs": [],
   "source": [
    "data = [{\"_id\": 1, \"item\": \"abc\", \"price\": 10, \"quantity\": 2, \"date\": datetime.datetime.utcnow()},\n",
    "        {\"_id\": 2, \"item\": \"jkl\", \"price\": 20, \"quantity\": 1,\n",
    "            \"date\": datetime.datetime.utcnow()},\n",
    "        {\"_id\": 3, \"item\": \"xyz\", \"price\": 5, \"quantity\": 5,\n",
    "            \"date\": datetime.datetime.utcnow()},\n",
    "        {\"_id\": 4, \"item\": \"abc\", \"price\": 10, \"quantity\": 10,\n",
    "            \"date\": datetime.datetime.utcnow()},\n",
    "        {\"_id\": 5, \"item\": \"xyz\", \"price\": 5, \"quantity\": 10, \"date\": datetime.datetime.utcnow()}]"
   ]
  },
  {
   "cell_type": "code",
   "execution_count": 90,
   "metadata": {},
   "outputs": [
    {
     "data": {
      "text/plain": [
       "InsertManyResult([1, 2, 3, 4, 5], acknowledged=True)"
      ]
     },
     "execution_count": 90,
     "metadata": {},
     "output_type": "execute_result"
    }
   ],
   "source": [
    "db.stores.insert_many(data)"
   ]
  },
  {
   "cell_type": "code",
   "execution_count": 93,
   "metadata": {},
   "outputs": [
    {
     "name": "stdout",
     "output_type": "stream",
     "text": [
      "{'_id': 'jkl', 'avgAmount': 20.0, 'avgQuantity': 1.0}\n",
      "{'_id': 'abc', 'avgAmount': 60.0, 'avgQuantity': 6.0}\n",
      "{'_id': 'xyz', 'avgAmount': 37.5, 'avgQuantity': 7.5}\n"
     ]
    }
   ],
   "source": [
    "agg_result = db.stores.aggregate([\n",
    "    {\n",
    "        \"$group\": {\n",
    "            \"_id\": '$item',\n",
    "            \"avgAmount\": {\"$avg\": {\"$multiply\": [\"$price\", \"$quantity\"]}},\n",
    "            \"avgQuantity\": {\"$avg\": \"$quantity\"}\n",
    "        }\n",
    "    }\n",
    "])\n",
    "\n",
    "for i in agg_result:\n",
    "    print(i)"
   ]
  },
  {
   "cell_type": "code",
   "execution_count": 94,
   "metadata": {},
   "outputs": [],
   "source": [
    "data = [{\n",
    "    \"_id\": 1,\n",
    "    \"title\": \"abc123\",\n",
    "    \"isbn\": \"0001122223334\",\n",
    "    \"author\": {\"last\": \"zzz\", \"first\": \"aaa\"},\n",
    "    \"copies\": 5\n",
    "},\n",
    "    {\n",
    "    \"_id\": 2,\n",
    "    \"title\": \"Baked Goods\",\n",
    "    \"isbn\": \"9999999999999\",\n",
    "    \"author\": {\"last\": \"xyz\", \"first\": \"abc\", \"middle\": \"\"},\n",
    "    \"copies\": 2\n",
    "}\n",
    "]"
   ]
  },
  {
   "cell_type": "code",
   "execution_count": 95,
   "metadata": {},
   "outputs": [
    {
     "data": {
      "text/plain": [
       "InsertManyResult([1, 2], acknowledged=True)"
      ]
     },
     "execution_count": 95,
     "metadata": {},
     "output_type": "execute_result"
    }
   ],
   "source": [
    "db.books.insert_many(data)"
   ]
  },
  {
   "cell_type": "code",
   "execution_count": 97,
   "metadata": {},
   "outputs": [
    {
     "name": "stdout",
     "output_type": "stream",
     "text": [
      "{'_id': 1, 'title': 'abc123', 'isbn': '0001122223334'}\n",
      "{'_id': 2, 'title': 'Baked Goods', 'isbn': '9999999999999'}\n"
     ]
    }
   ],
   "source": [
    "for row in db.books.aggregate([{\"$project\": {\"title\": 1, \"isbn\": 1}}]):\n",
    "    print(row)"
   ]
  },
  {
   "cell_type": "code",
   "execution_count": 114,
   "metadata": {},
   "outputs": [
    {
     "name": "stdout",
     "output_type": "stream",
     "text": [
      "{'_id': 'abc', 'total': 120}\n",
      "{'_id': 'xyz', 'total': 75}\n"
     ]
    }
   ],
   "source": [
    "agg_result = db.stores.aggregate([\n",
    "    {\"$match\": {\"$or\": [{\"item\": \"abc\"}, {\"item\": \"xyz\"}]}},\n",
    "    {\"$group\": {\"_id\": \"$item\", \"total\": {\"$sum\": {\"$multiply\" : [\"$quantity\", \"$price\"]}}}},\n",
    "    # {\"$sort\": {\"total\": -1}}\n",
    "])\n",
    "\n",
    "for i in agg_result:\n",
    "    print(i)"
   ]
  },
  {
   "cell_type": "code",
   "execution_count": null,
   "metadata": {},
   "outputs": [],
   "source": []
  }
 ],
 "metadata": {
  "kernelspec": {
   "display_name": "base",
   "language": "python",
   "name": "python3"
  },
  "language_info": {
   "codemirror_mode": {
    "name": "ipython",
    "version": 3
   },
   "file_extension": ".py",
   "mimetype": "text/x-python",
   "name": "python",
   "nbconvert_exporter": "python",
   "pygments_lexer": "ipython3",
   "version": "3.11.5"
  }
 },
 "nbformat": 4,
 "nbformat_minor": 2
}
