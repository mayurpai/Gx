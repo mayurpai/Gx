{
 "cells": [
  {
   "attachments": {},
   "cell_type": "markdown",
   "metadata": {},
   "source": [
    "<b>Chapter 1: Introduction To Python</b>\n"
   ]
  },
  {
   "attachments": {},
   "cell_type": "markdown",
   "metadata": {},
   "source": [
    "<b>Keywords in Python</b>\n",
    "\n",
    "👉 Keywords are reserved words in python.<br>\n",
    "👉 We can’t use a keyword as variable name or any other identifier.<br>\n",
    "👉 Keywords are case sensitive.\n"
   ]
  },
  {
   "attachments": {},
   "cell_type": "markdown",
   "metadata": {},
   "source": [
    "<b>Identifiers in Python</b>\n",
    "\n",
    "👉 Identifier is the name given to entities like class, functions, variable.<br>\n",
    "👉 It helps differentiating one entity from other.<br>\n",
    "👉 (a-z) , (A-Z) , (0-9) , ( \\_ ) .<br>\n",
    "👉 Cannot Start with digit.<br>\n",
    "👉 Keywords cannot be used as an identifier.<br>\n"
   ]
  },
  {
   "cell_type": "code",
   "execution_count": 183,
   "metadata": {},
   "outputs": [
    {
     "name": "stdout",
     "output_type": "stream",
     "text": [
      "['False', 'None', 'True', 'and', 'as', 'assert', 'async', 'await', 'break', 'class', 'continue', 'def', 'del', 'elif', 'else', 'except', 'finally', 'for', 'from', 'global', 'if', 'import', 'in', 'is', 'lambda', 'nonlocal', 'not', 'or', 'pass', 'raise', 'return', 'try', 'while', 'with', 'yield']\n",
      "35\n"
     ]
    }
   ],
   "source": [
    "import keyword as kw\n",
    "print(kw.kwlist)\n",
    "print(len(kw.kwlist))\n"
   ]
  },
  {
   "attachments": {},
   "cell_type": "markdown",
   "metadata": {},
   "source": [
    "<b>Chapter 2: Standard Input/Output</b>\n"
   ]
  },
  {
   "cell_type": "code",
   "execution_count": 184,
   "metadata": {},
   "outputs": [
    {
     "name": "stdout",
     "output_type": "stream",
     "text": [
      "Hello World\n",
      "My Name Is Mayur\n",
      "My Favorite Number Is 5\n",
      "The Value Of a Is 4 And b Is 6\n",
      "The Value Of b Is 6 And a Is 4\n",
      "Hello, Master Mayur\n",
      "Mayur's Age Is 23\n",
      "1\n",
      "10\n",
      "1\n",
      "10\n"
     ]
    }
   ],
   "source": [
    "print(\"Hello World\")\n",
    "\n",
    "name = \"Mayur\"\n",
    "print(\"My Name Is \" + name)\n",
    "\n",
    "number = 5\n",
    "print(\"My Favorite Number Is \" + str(number))\n",
    "\n",
    "a = 4\n",
    "b = 6\n",
    "print(\"The Value Of a Is {} And b Is {}\". format(a, b))\n",
    "\n",
    "a = 4\n",
    "b = 6\n",
    "print(\"The Value Of b Is {1} And a Is {0}\". format(a, b))\n",
    "\n",
    "print(\"{Hello}, {} {Name}\".format(\"Master\", Hello=\"Hello\", Name=\"Mayur\"))\n",
    "\n",
    "n = int(input(\"What Is Your Age?\"))\n",
    "print(\"Mayur's Age Is\", n)\n",
    "\n",
    "n, k = map(int, input().split())\n",
    "print(n)\n",
    "print(k)\n",
    "\n",
    "n, k = map(int, input().split(\",\"))\n",
    "print(n)\n",
    "print(k)\n"
   ]
  },
  {
   "attachments": {},
   "cell_type": "markdown",
   "metadata": {},
   "source": [
    "<b>Chapter 3: Comment Indentation, Data Types & Operators</b>\n"
   ]
  },
  {
   "attachments": {},
   "cell_type": "markdown",
   "metadata": {},
   "source": [
    "<b>Comment Indentation</b>\n",
    "\n",
    "👉 Comments are lines that exist in computer programs that are ignored\n",
    "by compilers & interpreters.<br>\n",
    "👉 Including comments in program makes code more readable for\n",
    "humans as it provides some information or explanation about what\n",
    "each part of a program is doing.\n"
   ]
  },
  {
   "cell_type": "code",
   "execution_count": 185,
   "metadata": {},
   "outputs": [
    {
     "name": "stdout",
     "output_type": "stream",
     "text": [
      "Hello\n"
     ]
    }
   ],
   "source": [
    "# Single Line Comment\n",
    "\n",
    "\"\"\"Multi Line Comment\"\"\"\n",
    "\n",
    "print(\"Hello\")\n"
   ]
  },
  {
   "attachments": {},
   "cell_type": "markdown",
   "metadata": {},
   "source": [
    "<b>Data Types</b>\n",
    "\n",
    "👉 Every value in python has a datatype. Since, everything is an object in\n",
    "python programming, data types are actually classes & variables are\n",
    "instances (object) of these classes.\n"
   ]
  },
  {
   "cell_type": "code",
   "execution_count": 1,
   "metadata": {},
   "outputs": [
    {
     "name": "stdout",
     "output_type": "stream",
     "text": [
      "<class 'int'>\n",
      "<class 'str'>\n",
      "<class 'complex'>\n",
      "True\n",
      "True\n",
      "M\n",
      "5\n",
      "M\n",
      "ayu\n",
      "Mayur\n",
      "yur\n",
      "May\n",
      "['Mayur', 'Pai', 5]\n",
      "5\n",
      "['Mayur', 'Pai', 'B H']\n",
      "(1, 2, 4)\n",
      "{1, 3, 5, 6}\n",
      "{'FirstName': 'Mayur', 'LastName': 'Pai'}\n",
      "Mayur\n",
      "{'FirstName': 'Mayur', 'LastName': 'B H', 'MiddleName': 'Pai'}\n",
      "1.0\n",
      "1\n"
     ]
    },
    {
     "data": {
      "text/plain": [
       "['M', 'a', 'y', 'u', 'r']"
      ]
     },
     "execution_count": 1,
     "metadata": {},
     "output_type": "execute_result"
    }
   ],
   "source": [
    "a = 10\n",
    "\n",
    "name = \"Mayur\"\n",
    "\n",
    "x = y = z = 245\n",
    "\n",
    "complex_number = 2 + 1j\n",
    "\n",
    "boolean_value = True\n",
    "\n",
    "print(type(x))\n",
    "print(type(name))\n",
    "print(type(complex_number))\n",
    "print(isinstance(complex_number, complex))\n",
    "print(isinstance(boolean_value, bool))\n",
    "print(name[0])\n",
    "print(len(name))\n",
    "print(name[len(name) - 5])\n",
    "print(name[1:4])\n",
    "print(name[:])\n",
    "print(name[2:])\n",
    "print(name[:3])\n",
    "\n",
    "# Python Lists Are Mutable\n",
    "python_list = [\"Mayur\", \"Pai\", 5]\n",
    "print(python_list)\n",
    "print(python_list[2])\n",
    "python_list[2] = \"B H\"\n",
    "print(python_list)\n",
    "\n",
    "# Python Tuples Are Immutable\n",
    "python_tuple = (1, 2, 4)\n",
    "# python_tuple[2] = 3\n",
    "print(python_tuple)\n",
    "\n",
    "# Python Sets Don't Follow Orders, Hence Can't Be Indexed\n",
    "python_set = {1, 3, 6, 5, 5}\n",
    "print(python_set)\n",
    "\n",
    "python_dictionary = {\"FirstName\": \"Mayur\", \"LastName\": \"Pai\"}\n",
    "print(python_dictionary)\n",
    "print(python_dictionary[\"FirstName\"])\n",
    "python_dictionary[\"MiddleName\"] = \"Pai\"\n",
    "python_dictionary[\"LastName\"] = \"B H\"\n",
    "print(python_dictionary)\n",
    "\n",
    "print(float(1))\n",
    "print(int(1.3))\n",
    "list(\"Mayur\")\n"
   ]
  },
  {
   "attachments": {},
   "cell_type": "markdown",
   "metadata": {},
   "source": [
    "<b>Operators in Python</b>\n",
    "\n",
    "👉 Operators are special symbols in python that carry out arithmetic or\n",
    "logical computation. The value that the operator operates on is called\n",
    "the operand.\n",
    "\n",
    "👉 Types:\n",
    "\n",
    "▪ Arithmetic Operator<br>\n",
    "▪ Relational Operator<br>\n",
    "▪ Logical Operator<br>\n",
    "▪ Bitwise Operator<br>\n",
    "▪ Assignment Operator<br>\n",
    "▪ Special Operator<br>\n"
   ]
  },
  {
   "cell_type": "code",
   "execution_count": null,
   "metadata": {},
   "outputs": [
    {
     "name": "stdout",
     "output_type": "stream",
     "text": [
      "30\n",
      "-10\n",
      "200\n",
      "100000000000000000000\n",
      "0.5\n",
      "0\n",
      "10\n",
      "True\n",
      "30\n",
      "0\n",
      "False\n",
      "True\n",
      "True\n",
      "30\n",
      "False\n",
      "True\n",
      "False\n",
      "False\n",
      "False\n",
      "True\n",
      "True\n",
      "False\n"
     ]
    }
   ],
   "source": [
    "x, y = 10, 20\n",
    "print(x + y)\n",
    "print(x - y)\n",
    "print(x * y)\n",
    "print(x ** y)\n",
    "print(x / y)\n",
    "print(x // y)\n",
    "print(x % y)\n",
    "print(x != y)\n",
    "print(x | y)\n",
    "print(x & y)\n",
    "\n",
    "a, b, c = True, False, True\n",
    "print(a and b)\n",
    "print(a or b)\n",
    "print(a and not b)\n",
    "\n",
    "x = x + 10\n",
    "x += 10\n",
    "print(x)\n",
    "\n",
    "print(x is y)\n",
    "print(a is c)\n",
    "\n",
    "first_name = \"Mayur\"\n",
    "alias_name = \"mayur\"\n",
    "print(first_name is alias_name)\n",
    "\n",
    "even_numbers = [2, 4, 6, 8, 10]\n",
    "even_numbers_2 = [2, 4, 6, 8, 10]\n",
    "odd_numbers = [1, 3, 5, 7, 9]\n",
    "print(even_numbers is odd_numbers)\n",
    "print(even_numbers is even_numbers_2)\n",
    "print(4 in even_numbers)\n",
    "\n",
    "python_dictionary = {\"FirstName\": \"Mayur\", \"LastName\": \"Pai\"}\n",
    "print(\"FirstName\" in python_dictionary)\n",
    "print(\"Mayur\" in python_dictionary)\n"
   ]
  },
  {
   "attachments": {},
   "cell_type": "markdown",
   "metadata": {},
   "source": [
    "<b>Chapter 4: If Else & Else Statements</b>\n"
   ]
  },
  {
   "attachments": {},
   "cell_type": "markdown",
   "metadata": {},
   "source": [
    "Python supports the usual logical conditions from mathematics:<br>\n",
    "• Equals: a == b<br>\n",
    "• Not Equals: a != b<br>\n",
    "• Less than: a < b<br>\n",
    "• Less than or equal to: a <= b<br>\n",
    "• Greater than: a > b<br>\n",
    "• Greater than or equal to: a >= b<br>\n",
    "These conditions can be used in several ways, most commonly in \"if statements\" and loops.<br>\n",
    "An \"if statement\" is written by using the if keyword.\n"
   ]
  },
  {
   "cell_type": "code",
   "execution_count": null,
   "metadata": {},
   "outputs": [
    {
     "name": "stdout",
     "output_type": "stream",
     "text": [
      "a < b\n"
     ]
    }
   ],
   "source": [
    "a = 10\n",
    "b = 20\n",
    "if a > b:\n",
    "    print(\"a > b\")\n",
    "else:\n",
    "    print(\"a < b\")\n"
   ]
  },
  {
   "attachments": {},
   "cell_type": "markdown",
   "metadata": {},
   "source": [
    "Elif\n",
    "\n",
    "The elif keyword is pythons way of saying \"if the previous conditions were not true, then try this condition\".\n"
   ]
  },
  {
   "cell_type": "code",
   "execution_count": null,
   "metadata": {},
   "outputs": [
    {
     "name": "stdout",
     "output_type": "stream",
     "text": [
      "a and b are equal\n"
     ]
    }
   ],
   "source": [
    "a = 33\n",
    "b = 33\n",
    "if b > a:\n",
    "    print(\"b is greater than a\")\n",
    "elif a == b:\n",
    "    print(\"a and b are equal\")\n"
   ]
  },
  {
   "attachments": {},
   "cell_type": "markdown",
   "metadata": {},
   "source": [
    "<b>Chapter 5: Loops In Python, Break & Continue</b>\n"
   ]
  },
  {
   "attachments": {},
   "cell_type": "markdown",
   "metadata": {},
   "source": [
    "Python has two primitive loop commands: <br>\n",
    "• while loops <br>\n",
    "• for loops <br>\n"
   ]
  },
  {
   "attachments": {},
   "cell_type": "markdown",
   "metadata": {},
   "source": [
    "With the while loop we can execute a set of statements as long as a condition is true.\n"
   ]
  },
  {
   "cell_type": "code",
   "execution_count": null,
   "metadata": {},
   "outputs": [
    {
     "name": "stdout",
     "output_type": "stream",
     "text": [
      "1\n",
      "2\n",
      "3\n",
      "4\n",
      "5\n"
     ]
    }
   ],
   "source": [
    "i = 1\n",
    "while i < 6:\n",
    "    print(i)\n",
    "    i += 1\n"
   ]
  },
  {
   "cell_type": "code",
   "execution_count": null,
   "metadata": {},
   "outputs": [
    {
     "name": "stdout",
     "output_type": "stream",
     "text": [
      "The Product Of All The Numbers In The List Is 120\n"
     ]
    }
   ],
   "source": [
    "numbers = [1, 2, 3, 4, 5]\n",
    "i, product = 0, 1\n",
    "while i < len(numbers):\n",
    "    product *= numbers[i]\n",
    "    i += 1\n",
    "print(\"The Product Of All The Numbers In The List Is {}\".format(product))\n"
   ]
  },
  {
   "attachments": {},
   "cell_type": "markdown",
   "metadata": {},
   "source": [
    "👉 A for loop is used for iterating over a sequence (that is either a list, a tuple, a dictionary, a set, or a string). <br>\n",
    "👉 This is less like the for keyword in other programming languages, and works more like an iterator method as found in other object-orientated programming languages. <br>\n",
    "👉 With the for loop we can execute a set of statements, once for each item in a list, tuple, set etc.\n"
   ]
  },
  {
   "cell_type": "code",
   "execution_count": null,
   "metadata": {},
   "outputs": [
    {
     "name": "stdout",
     "output_type": "stream",
     "text": [
      "apple\n",
      "banana\n",
      "cherry\n"
     ]
    }
   ],
   "source": [
    "fruits = [\"apple\", \"banana\", \"cherry\"]\n",
    "for x in fruits:\n",
    "    print(x)\n"
   ]
  },
  {
   "cell_type": "code",
   "execution_count": null,
   "metadata": {},
   "outputs": [
    {
     "name": "stdout",
     "output_type": "stream",
     "text": [
      "In The Range Of 2 And 20, These Are The Following Prime Numbers: [2, 3, 5, 7, 11, 13, 17, 19]\n",
      "There Are 8 Prime Numbers Between 2 And 20\n"
     ]
    }
   ],
   "source": [
    "lower_range = int(input(\"Enter Lower Range\"))\n",
    "upper_range = int(input(\"Enter Upper Range\"))\n",
    "prime_numbers = []\n",
    "\n",
    "\n",
    "def prime_number_generator(n):\n",
    "    flag = True\n",
    "    if n > 1:\n",
    "        for i in range(2, n):\n",
    "            if n % i == 0:\n",
    "                flag = False\n",
    "                break\n",
    "\n",
    "    if flag:\n",
    "        prime_numbers.append(n)\n",
    "\n",
    "\n",
    "print(\"In The Range Of {} And {}, These Are The Following Prime Numbers: \".format(\n",
    "    lower_range, upper_range), end=\"\")\n",
    "for i in range(lower_range, upper_range + 1):\n",
    "    prime_number_generator(i)\n",
    "print(prime_numbers)\n",
    "print(\"There Are {} Prime Numbers Between {} And {}\".format(\n",
    "    len(prime_numbers), lower_range, upper_range))\n"
   ]
  },
  {
   "attachments": {},
   "cell_type": "markdown",
   "metadata": {},
   "source": [
    "<b>Chapter 6: Lists In Python</b>\n"
   ]
  },
  {
   "attachments": {},
   "cell_type": "markdown",
   "metadata": {},
   "source": [
    "👉 A list in Python is used to store the sequence of various types of data. Python lists are mutable type its mean we can modify its element after it created. However, Python consists of six data-types that are capable to store the sequences, but the most common and reliable type is the list.<br>\n",
    "👉 A list can be defined as a collection of values or items of different types. The items in the list are separated with the comma (,) and enclosed with the square brackets [].\n"
   ]
  },
  {
   "cell_type": "code",
   "execution_count": null,
   "metadata": {},
   "outputs": [
    {
     "name": "stdout",
     "output_type": "stream",
     "text": [
      "[1, 2, 3, 4.5, 'Mayur']\n",
      "['Pai', '5']\n",
      "2\n",
      "[1, 2, 3, 4.5, 'Mayur', '6']\n",
      "[1, 2, 'B H', 3, 4.5, 'Mayur', '6']\n",
      "['5']\n",
      "[1, 2, 'B H', 3, 4.5, 'Mayur', '6', '5']\n",
      "[1, 2, 'B H', 3, 'Mayur', '6', '5']\n",
      "5\n",
      "[1, 2, 'B H', 3, 'Mayur', '6']\n",
      "[19, 17, 13, 11, 7, 5, 3, 2]\n",
      "[2, 3, 5, 7, 11, 13, 17, 19]\n",
      "[2, 3, 5, 7, 11, 13, 17, 19]\n",
      "[2, 5, 11, 17]\n",
      "[5, 11, 17]\n",
      "Yes\n",
      "No\n",
      "['My', 'Name', 'Is', 'Mayur', 'Pai']\n",
      "['My', 'Name', 'Is', 'Mayur', 'Pai', 2, 3, 5, 7, 11, 13, 17, 19]\n",
      "1\n",
      "[0, 1, 4, 9, 16, 25, 36, 49, 64, 81]\n",
      "[0, 1, 8, 27, 64, 125, 216, 343, 512, 729]\n",
      "[(0, 0), (1, 2), (2, 4), (3, 6), (4, 8), (5, 10), (6, 12), (7, 14), (8, 16), (9, 18)]\n"
     ]
    }
   ],
   "source": [
    "lists = [1, 2, 3, 4.5, \"Mayur\"]\n",
    "prime_numbers = [2, 3, 5, 7, 11, 13, 17, 19]\n",
    "print(lists)\n",
    "\n",
    "new_list = [\"Pai\", \"5\"]\n",
    "print(new_list)\n",
    "print(len(new_list))\n",
    "\n",
    "lists.append(\"6\")\n",
    "print(lists)\n",
    "\n",
    "lists.insert(2, \"B H\")\n",
    "print(lists)\n",
    "\n",
    "new_list.remove(\"Pai\")\n",
    "print(new_list)\n",
    "\n",
    "# new_list.append(list)\n",
    "# print(new_list)\n",
    "\n",
    "lists.extend(new_list)\n",
    "print(lists)\n",
    "\n",
    "del lists[4]\n",
    "print(lists)\n",
    "\n",
    "print(lists.pop())\n",
    "print(lists)\n",
    "prime_numbers.reverse()\n",
    "print(prime_numbers)\n",
    "prime_numbers.sort()\n",
    "print(prime_numbers)\n",
    "print(sorted(prime_numbers))\n",
    "print(prime_numbers[::2])\n",
    "print(prime_numbers[2::2])\n",
    "\n",
    "if \"Mayur\" in lists:\n",
    "    print(\"Yes\")\n",
    "\n",
    "if \"5\" not in lists:\n",
    "    print(\"No\")\n",
    "\n",
    "string = \"My Name Is Mayur Pai\"\n",
    "string_list = string.split()\n",
    "print(string_list)\n",
    "\n",
    "print(string_list + prime_numbers)\n",
    "\n",
    "print(prime_numbers.count(2))\n",
    "\n",
    "squares = []\n",
    "for i in range(0, 10):\n",
    "    squares.append(i*i)\n",
    "\n",
    "print(squares)\n",
    "\n",
    "cubes = [i*i*i for i in range(0, 10)]\n",
    "print(cubes)\n",
    "\n",
    "cordinates = [(i, 2*i) for i in range(10)]\n",
    "print(cordinates)\n"
   ]
  },
  {
   "attachments": {},
   "cell_type": "markdown",
   "metadata": {},
   "source": [
    "<b>Chapter 7: Tuples In Python</b>\n"
   ]
  },
  {
   "attachments": {},
   "cell_type": "markdown",
   "metadata": {},
   "source": [
    "👉 A Tuple is a collection of Python objects separated by commas. In someways a tuple is similar to a list in terms of indexing, nested objects and repetition but a tuple is immutable unlike lists which are mutable.\n"
   ]
  },
  {
   "cell_type": "code",
   "execution_count": null,
   "metadata": {},
   "outputs": [
    {
     "name": "stdout",
     "output_type": "stream",
     "text": [
      "[1, 1, 2, 2, 3, 3, 4]\n",
      "(1, 2, 3, 4, 3, 2, 1)\n",
      "2\n",
      "(1, 2, 3, [4, 5], 'Six')\n",
      "1\n",
      "4\n",
      "[4, 5]\n",
      "5\n",
      "(1, 2, 3, [4, 'Five'], 'Six')\n",
      "(1, 2, 3, [4, 'Five'], 'Six', 1, 2, 3, [4, 'Five'], 'Six')\n",
      "<class 'str'>\n",
      "<class 'tuple'>\n",
      "<class 'str'>\n",
      "<class 'tuple'>\n"
     ]
    }
   ],
   "source": [
    "t = ()\n",
    "t = (1, 2, 3, 4, 3, 2, 1)\n",
    "print(sorted(t))\n",
    "print(t)\n",
    "print(t[1])\n",
    "t = (1, 2, 3, [4, 5], \"Six\")\n",
    "print(t)\n",
    "print(t.count(2))\n",
    "print(t.index(\"Six\"))\n",
    "print(t[3])\n",
    "print(t[3][1])\n",
    "t[3][1] = \"Five\"\n",
    "print(t)\n",
    "print(t*2)\n",
    "t = \"Mayur\"\n",
    "print(type(t))\n",
    "t = 'Mayur',\n",
    "print(type(t))\n",
    "t = ('Mayur')\n",
    "print(type(t))\n",
    "t = ('Mayur',)\n",
    "print(type(t))\n",
    "del t\n"
   ]
  },
  {
   "attachments": {},
   "cell_type": "markdown",
   "metadata": {},
   "source": [
    "<b>Chapter 8: String And Set</b>\n"
   ]
  },
  {
   "attachments": {},
   "cell_type": "markdown",
   "metadata": {},
   "source": [
    "👉 A string is a sequence of characters.<br>\n",
    "👉 A character is simply a symbol.\n"
   ]
  },
  {
   "cell_type": "code",
   "execution_count": 5,
   "metadata": {},
   "outputs": [
    {
     "name": "stdout",
     "output_type": "stream",
     "text": [
      "Hello\n",
      "Hello\n",
      "Hello\n",
      "HelloHelloHello\n",
      "2\n",
      "True\n",
      "True\n",
      "hello\n",
      "NEXT\n",
      "['My', 'Name', 'Is', 'Mayur']\n",
      "My_Name_Is_Mayur\n",
      "9\n",
      "Good Morning\n",
      "Bad Morning\n",
      "Good Morning\n",
      "Palindrome\n",
      "['r', 'a', 'c', 'e', 'c', 'a', 'r']\n",
      "1407232044784\n",
      "['Python', 'Program', 'To', 'Sort', 'Words', 'In', 'Alphabetical', 'Order']\n",
      "['Alphabetical', 'In', 'Order', 'Program', 'Python', 'Sort', 'To', 'Words']\n",
      "Alphabetical\n",
      "In\n",
      "Order\n",
      "Program\n",
      "Python\n",
      "Sort\n",
      "To\n",
      "Words\n"
     ]
    }
   ],
   "source": [
    "string = 'Hello'\n",
    "print(string)\n",
    "string = \"Hello\"\n",
    "print(string)\n",
    "string = \"\"\"Hello\"\"\"\n",
    "print(string)\n",
    "print(string*3)\n",
    "\n",
    "count = 0\n",
    "for i in string:\n",
    "    if i == 'l':\n",
    "        count += 1\n",
    "print(count)\n",
    "\n",
    "print('l' in 'Hello World')\n",
    "print('or' in 'Hello World')\n",
    "\n",
    "del string\n",
    "\n",
    "print(\"HELLO\".lower())\n",
    "print(\"next\".upper())\n",
    "print(\"My Name Is Mayur\".split())\n",
    "print('_'.join(['My', 'Name', 'Is', 'Mayur']))\n",
    "print(\"Good Morning\".find(\"in\"))\n",
    "print(\"Bad Morning\".replace(\"Bad\", \"Good\"))\n",
    "s1 = \"Bad Morning\"\n",
    "s2 = s1.replace(\"Bad\", \"Good\")\n",
    "print(s1)\n",
    "print(s2)\n",
    "\n",
    "\n",
    "myStr = \"RaceCar\"\n",
    "myStr = myStr.lower()\n",
    "revStr = reversed(myStr)\n",
    "if list(myStr) == list(revStr):\n",
    "    print(\"Palindrome\")\n",
    "else:\n",
    "    print(\"Not Palindrome\")\n",
    "\n",
    "print(list(myStr))\n",
    "print(id(revStr))\n",
    "\n",
    "\n",
    "myStr = \"Python Program To Sort Words In Alphabetical Order\"\n",
    "words = myStr.split()\n",
    "print(words)\n",
    "words.sort()\n",
    "print(words)\n",
    "for word in words:\n",
    "    print(word)\n"
   ]
  },
  {
   "attachments": {},
   "cell_type": "markdown",
   "metadata": {},
   "source": [
    "👉 Sets are used to store multiple items in a single variable.\n"
   ]
  },
  {
   "cell_type": "code",
   "execution_count": 3,
   "metadata": {},
   "outputs": [
    {
     "name": "stdout",
     "output_type": "stream",
     "text": [
      "{1, 2, 3}\n",
      "<class 'set'>\n",
      "{1, 2, 3, 4}\n",
      "{1, 2, 3, 4, 5}\n",
      "<class 'set'>\n",
      "{1, 2, 3}\n",
      "{1, 2, 3, 5, 6}\n",
      "{1, 2, 3, 5, 6, 8, 9, 10}\n",
      "{1, 2, 3, 4, 5}\n",
      "{1, 2, 3, 5}\n",
      "{1, 3, 5}\n",
      "{1, 3, 5}\n",
      "{2, 3, 4, 5}\n",
      "{3, 4, 5}\n",
      "set()\n",
      "{1, 2, 3, 4, 5, 6, 7}\n",
      "{1, 2, 3, 4, 5, 6, 7}\n",
      "{3, 4, 5}\n",
      "{3, 4, 5}\n",
      "{1, 2}\n",
      "{1, 2, 6, 7}\n",
      "Is X Subset Of Y? False\n",
      "Is Y Subset Of X? True\n",
      "frozenset({1, 2, 3, 4, 5, 6})\n",
      "frozenset({3, 4, 5, 6})\n",
      "frozenset({1, 2, 3, 4, 5, 6})\n",
      "frozenset({3, 4})\n",
      "frozenset({1, 2, 5, 6})\n",
      "frozenset({1, 2, 5, 6})\n"
     ]
    }
   ],
   "source": [
    "s = {1, 2, 3}\n",
    "print(s)\n",
    "print(type(s))\n",
    "\n",
    "s = {1, 2, 3, 1, 4}\n",
    "print(s)\n",
    "\n",
    "s = set([1, 2, 3, 1, 4, 5])\n",
    "print(s)\n",
    "\n",
    "s = set()\n",
    "print(type(s))\n",
    "\n",
    "s = {1, 3}\n",
    "# print(s[1])\n",
    "\n",
    "s.add(2)\n",
    "print(s)\n",
    "\n",
    "s.update([5, 6, 1])\n",
    "print(s)\n",
    "\n",
    "s.update([8, 9], {10, 2, 3})\n",
    "print(s)\n",
    "\n",
    "s = {1, 2, 3, 4, 5}\n",
    "print(s)\n",
    "s.discard(4)\n",
    "print(s)\n",
    "\n",
    "s.remove(2)\n",
    "print(s)\n",
    "\n",
    "# s.remove(7)\n",
    "\n",
    "s.discard(7)\n",
    "print(s)\n",
    "\n",
    "\n",
    "s = {1, 2, 3, 5, 4}\n",
    "s.pop()\n",
    "print(s)\n",
    "\n",
    "s.pop()\n",
    "print(s)\n",
    "\n",
    "s = {1, 5, 2, 3, 6}\n",
    "s.clear()\n",
    "print(s)\n",
    "\n",
    "set1 = {1, 2, 3, 4, 5}\n",
    "set2 = {3, 4, 5, 6, 7}\n",
    "print(set1 | set2)\n",
    "\n",
    "print(set1.union(set2))\n",
    "print(set1 & set2)\n",
    "print(set1.intersection(set2))\n",
    "print(set1 - set2)\n",
    "print(set1 ^ set2)\n",
    "\n",
    "x = {\"a\", \"b\", \"c\", \"d\", \"e\"}\n",
    "y = {\"c\", \"d\"}\n",
    "\n",
    "print(\"Is X Subset Of Y?\", x.issubset(y))\n",
    "\n",
    "print(\"Is Y Subset Of X?\", y.issubset(x))\n",
    "\n",
    "set1 = frozenset([1, 2, 3, 4])\n",
    "set2 = frozenset([3, 4, 5, 6])\n",
    "# set1.add(5)\n",
    "\n",
    "# print(set1[1])\n",
    "\n",
    "print(set1 | set2)\n",
    "print(set2 & set2)\n",
    "\n",
    "print(set1.union(set2))\n",
    "print(set1.intersection(set2))\n",
    "\n",
    "print(set1 ^ set2)\n",
    "print(set1.symmetric_difference(set2))\n"
   ]
  },
  {
   "attachments": {},
   "cell_type": "markdown",
   "metadata": {},
   "source": [
    "<b>Chapter 9: Dictionary</b>\n"
   ]
  },
  {
   "attachments": {},
   "cell_type": "markdown",
   "metadata": {},
   "source": [
    "👉 A function is a block of code which only runs when it is called. <br>\n",
    "👉 You can pass data, known as parameters, into a function. A function can return data as a result.\n"
   ]
  },
  {
   "cell_type": "code",
   "execution_count": 19,
   "metadata": {},
   "outputs": [
    {
     "name": "stdout",
     "output_type": "stream",
     "text": [
      "{'Name': 'Mayur', 'Age': 23, 'Salary': 'XXXXXX'}\n",
      "Mayur\n",
      "{'Name': 'Mayur', 'Salary': 'XXXXXX'}\n",
      "{'Name': 'Mayur', 'Salary': 'XXXXXX', 'Age': 24, 'Mobile': 9611609185}\n",
      "24\n",
      "{'Name': 'Mayur', 'Salary': 'XXXXXX', 'Mobile': 9611609185}\n",
      "('Mobile', 9611609185)\n",
      "{'Name': 'Mayur', 'Salary': 'XXXXXX'}\n",
      "{'List': [1, 2, 3]}\n",
      "[1, 2, 3]\n",
      "{}\n",
      "{'first_name': 'Mayur', 'last_name': 'Pai'}\n",
      "None\n",
      "{2: 4, 3: 9, 4: 16, 5: 25}\n",
      "{'Math': 0, 'English': 0, 'Hindi': 0}\n",
      "dict_items([(2, 4), (3, 9), (4, 16), (5, 25)])\n",
      "dict_keys([2, 3, 4, 5])\n",
      "dict_values([4, 9, 16, 25])\n",
      "['__class__', '__class_getitem__', '__contains__', '__delattr__', '__delitem__', '__dir__', '__doc__', '__eq__', '__format__', '__ge__', '__getattribute__', '__getitem__', '__gt__', '__hash__', '__init__', '__init_subclass__', '__ior__', '__iter__', '__le__', '__len__', '__lt__', '__ne__', '__new__', '__or__', '__reduce__', '__reduce_ex__', '__repr__', '__reversed__', '__ror__', '__setattr__', '__setitem__', '__sizeof__', '__str__', '__subclasshook__', 'clear', 'copy', 'fromkeys', 'get', 'items', 'keys', 'pop', 'popitem', 'setdefault', 'update', 'values']\n",
      "('a', 1)\n",
      "('b', 2)\n",
      "('c', 3)\n",
      "{'c': 3, 'd': 4}\n",
      "{'cc': 6, 'dc': 8, 'ec': 10}\n"
     ]
    }
   ],
   "source": [
    "my_dict = {}\n",
    "\n",
    "my_dict = {\"Name\": \"Mayur\", \"Age\": 23, \"Salary\": \"XXXXXX\"}\n",
    "print(my_dict)\n",
    "print(my_dict[\"Name\"])\n",
    "del my_dict[\"Age\"]\n",
    "print(my_dict)\n",
    "\n",
    "my_dict[\"Age\"] = 24\n",
    "my_dict[\"Mobile\"] = 9611609185\n",
    "print(my_dict)\n",
    "\n",
    "print(my_dict.pop(\"Age\"))\n",
    "print(my_dict)\n",
    "\n",
    "print(my_dict.popitem())\n",
    "print(my_dict)\n",
    "\n",
    "my_dict = {\"List\": [1, 2, 3]}\n",
    "print(my_dict)\n",
    "print(my_dict.get(\"List\"))\n",
    "\n",
    "my_dict = dict()\n",
    "print(my_dict)\n",
    "\n",
    "my_dict = dict([(\"first_name\", \"Mayur\"), (\"last_name\", \"Pai\")])\n",
    "print(my_dict)\n",
    "my_dict.clear()\n",
    "print(my_dict.get(\"Name\"))\n",
    "# print(my_dict[\"Name\"])\n",
    "\n",
    "\n",
    "squares = {2: 4, 3: 9, 4: 16, 5: 25}\n",
    "my_dict = squares.copy()\n",
    "print(my_dict)\n",
    "\n",
    "subjects = {}.fromkeys(['Math', 'English', 'Hindi'], 0)\n",
    "print(subjects)\n",
    "\n",
    "subjects = {2: 4, 3: 9, 4: 16, 5: 25}\n",
    "print(subjects.items())\n",
    "\n",
    "subjects = {2: 4, 3: 9, 4: 16, 5: 25}\n",
    "print(subjects.keys())\n",
    "\n",
    "subjects = {2: 4, 3: 9, 4: 16, 5: 25}\n",
    "print(subjects.values())\n",
    "\n",
    "d = {}\n",
    "print(dir(d))\n",
    "\n",
    "d = {'a': 1, 'b': 2, 'c': 3}\n",
    "for pair in d.items():\n",
    "    print(pair)\n",
    "\n",
    "d = {'a': 1, 'b': 2, 'c': 3, 'd': 4}\n",
    "new_dict = {k: v for k, v in d.items() if v > 2}\n",
    "print(new_dict)\n",
    "\n",
    "d = {'a': 1, 'b': 2, 'c': 3, 'd': 4, 'e': 5}\n",
    "d = {k + 'c': v * 2 for k, v in d.items() if v > 2}\n",
    "print(d)\n"
   ]
  },
  {
   "attachments": {},
   "cell_type": "markdown",
   "metadata": {},
   "source": [
    "<b>Chapter 10: Functions</b>\n"
   ]
  },
  {
   "attachments": {},
   "cell_type": "markdown",
   "metadata": {},
   "source": [
    "👉 A function is a block of code which only runs when it is called. <br>\n",
    "👉 You can pass data, known as parameters, into a function. <br>\n",
    "👉 A function can return data as a result. <br>\n"
   ]
  },
  {
   "cell_type": "code",
   "execution_count": 18,
   "metadata": {},
   "outputs": [
    {
     "name": "stdout",
     "output_type": "stream",
     "text": [
      "Hello Mayur\n",
      "\n",
      "    Write A Name Function\n",
      "    \n",
      "Good Morning Mayur\n",
      "Good Morning Mayur Pai\n",
      "15\n",
      "1\n",
      "2\n",
      "2\n",
      "H.C.F of 98 and 78 is 2\n",
      "2\n",
      "100\n",
      "True\n",
      "False\n",
      "True\n",
      "False\n",
      "['__add__', '__class__', '__class_getitem__', '__contains__', '__delattr__', '__delitem__', '__dir__', '__doc__', '__eq__', '__format__', '__ge__', '__getattribute__', '__getitem__', '__gt__', '__hash__', '__iadd__', '__imul__', '__init__', '__init_subclass__', '__iter__', '__le__', '__len__', '__lt__', '__mul__', '__ne__', '__new__', '__reduce__', '__reduce_ex__', '__repr__', '__reversed__', '__rmul__', '__setattr__', '__setitem__', '__sizeof__', '__str__', '__subclasshook__', 'append', 'clear', 'copy', 'count', 'extend', 'index', 'insert', 'pop', 'remove', 'reverse', 'sort']\n",
      "(4, 1)\n",
      "index 5 has value 10\n",
      "index 6 has value 20\n",
      "index 7 has value 30\n",
      "index 8 has value 40\n",
      "[-10, -9, -8, -7, -6, -5, -4, -3, -2, -1, 0, 1, 2, 3, 4, 5, 6, 7, 8, 9]\n",
      "[1, 2, 3, 4, 5, 6, 7, 8, 9]\n",
      "True\n",
      "False\n",
      "[1, 4, 9, 16, 25]\n",
      "[1, 4, 9, 16, 25]\n",
      "24\n",
      "24\n",
      "10\n",
      "10\n",
      "[1, 4, 9, 16, 25]\n",
      "[2, 4]\n",
      "120\n",
      "Factorial of 5 is 120\n",
      "Fibonacci Sequence: \n",
      "0\n",
      "1\n",
      "1\n",
      "2\n",
      "3\n",
      "5\n",
      "8\n",
      "13\n",
      "21\n",
      "34\n",
      "40320\n",
      "M\n"
     ]
    }
   ],
   "source": [
    "from functools import reduce\n",
    "\n",
    "\n",
    "def write_name(name):\n",
    "    \"\"\"\n",
    "    Write A Name Function\n",
    "    \"\"\"\n",
    "    print(\"Hello \" + name)\n",
    "\n",
    "\n",
    "write_name(\"Mayur\")\n",
    "\n",
    "print(write_name.__doc__)\n",
    "\n",
    "def greeting(name = \"Mayur\"): return \"Good Morning \" + name\n",
    "print(greeting())\n",
    "print(greeting(\"Mayur Pai\"))\n",
    "\n",
    "def sum_calculator(lst):\n",
    "    \"\"\"\n",
    "    Pass List, Return Sum\n",
    "    \"\"\"\n",
    "    sum = 0\n",
    "    for num in lst:\n",
    "        sum = sum + num\n",
    "    return sum\n",
    "\n",
    "\n",
    "s = sum_calculator([1, 2, 3, 4, 5])\n",
    "print(s)\n",
    "\n",
    "global_var = \"2\"\n",
    "\n",
    "\n",
    "def test_life_time():\n",
    "    \"\"\"\n",
    "    Local & Global Variables Check\n",
    "    \"\"\"\n",
    "    local_var = \"1\"\n",
    "    print(local_var)\n",
    "    print(global_var)\n",
    "\n",
    "\n",
    "test_life_time()\n",
    "print(global_var)\n",
    "# print(local_var)\n",
    "\n",
    "\n",
    "def HCF(a, b):\n",
    "    \"\"\"\n",
    "    HCF Calculator\n",
    "    \"\"\"\n",
    "    if a > b:\n",
    "        k = b\n",
    "    else:\n",
    "        k = a\n",
    "\n",
    "    smaller = k\n",
    "    hcf = 1\n",
    "    for i in range(1, smaller + 1):\n",
    "        if(a % i == 0) and (b % i == 0):\n",
    "            hcf = i\n",
    "    return hcf\n",
    "\n",
    "\n",
    "num1 = 98\n",
    "num2 = 78\n",
    "\n",
    "print(\"H.C.F of {0} and {1} is {2}\".format(num1, num2, HCF(num1, num2)))\n",
    "\n",
    "\n",
    "def gcd(a, b):\n",
    "    if b == 0:\n",
    "        return a\n",
    "    return gcd(b, a % b)\n",
    "\n",
    "\n",
    "print(gcd(98, 78))\n",
    "\n",
    "num = -100\n",
    "print(abs(num))\n",
    "\n",
    "lst = [1, 2, 3, 4]\n",
    "print(all(lst))\n",
    "\n",
    "lst = [0, 1, 2, 3, 4]\n",
    "print(all(lst))\n",
    "\n",
    "lst = []\n",
    "print(all(lst))\n",
    "\n",
    "lst = [False, 1, 2]\n",
    "print(all(lst))\n",
    "\n",
    "numbers = [1, 2, 3]\n",
    "print(dir(numbers))\n",
    "\n",
    "print(divmod(9, 2))\n",
    "\n",
    "numbers = [10, 20, 30, 40]\n",
    "for index, num in enumerate(numbers, 5):\n",
    "    print(\"index {0} has value {1}\".format(index, num))\n",
    "\n",
    "\n",
    "def positive_number(num):\n",
    "    \"\"\"Posotive Number Filter\"\"\"\n",
    "    if num > 0:\n",
    "        return num\n",
    "\n",
    "\n",
    "num_list = range(-10, 10)\n",
    "print(list(num_list))\n",
    "positive_no_list = list(filter(positive_number, num_list))\n",
    "print(positive_no_list)\n",
    "\n",
    "lst = [1, 2, 3, 4, 5]\n",
    "print(isinstance(lst, list))\n",
    "\n",
    "t = (1, 2, 3, 4, 5)\n",
    "print(isinstance(t, list))\n",
    "\n",
    "numbers = [1, 2, 3, 4, 5]\n",
    "squared = []\n",
    "for num in numbers:\n",
    "    squared.append(num**2)\n",
    "print(squared)\n",
    "\n",
    "\n",
    "def power_func(num):\n",
    "    return num**2\n",
    "\n",
    "\n",
    "squared = list(map(power_func, numbers))\n",
    "print(squared)\n",
    "\n",
    "product = 1\n",
    "lst = [1, 2, 3, 4]\n",
    "for num in lst:\n",
    "    product *= num\n",
    "print(product)\n",
    "\n",
    "# from functools import reduce\n",
    "\n",
    "\n",
    "def multiply(x, y):\n",
    "    return x*y\n",
    "\n",
    "\n",
    "product = reduce(multiply, lst)\n",
    "print(product)\n",
    "\n",
    "\n",
    "def double(x):\n",
    "    return x*2\n",
    "\n",
    "\n",
    "print(double(5))\n",
    "\n",
    "\n",
    "def double(x): return x*2\n",
    "\n",
    "\n",
    "print(double(5))\n",
    "\n",
    "lst = [1, 2, 3, 4, 5]\n",
    "new_lst = list(map(lambda x: x**2, lst))\n",
    "print(new_lst)\n",
    "\n",
    "lst = [1, 2, 3, 4, 5]\n",
    "even_list = list(filter(lambda x: (x % 2 == 0), lst))\n",
    "print(even_list)\n",
    "\n",
    "lst = [1, 2, 3, 4, 5]\n",
    "product_lst = reduce(lambda x, y: x*y, lst)\n",
    "print(product_lst)\n",
    "\n",
    "\n",
    "def factorial(num):\n",
    "    \"\"\"\n",
    "    Recursive Function To Find The Factorial Of A Given Number\n",
    "    \"\"\"\n",
    "    return 1 if num == 1 else (num * factorial(num - 1))\n",
    "\n",
    "\n",
    "num = 5\n",
    "print(\"Factorial of {0} is {1}\".format(num, factorial(num)))\n",
    "\n",
    "\n",
    "def fibo(n):\n",
    "    if n <= 1:\n",
    "        return n\n",
    "    else:\n",
    "        return(fibo(n-1) + fibo(n-2))\n",
    "\n",
    "\n",
    "nterms = 10\n",
    "if nterms <= 0:\n",
    "    print(\"Plese Enter A Positive Integer\")\n",
    "else:\n",
    "    print(\"Fibonacci Sequence: \")\n",
    "    for i in range(nterms):\n",
    "        print(fibo(i))\n",
    "\n",
    "\n",
    "def f(n): return n*f(n-1) if n > 0 else 1\n",
    "print(f(8))\n",
    "\n",
    "s = input(\"Enter A String\")\n",
    "s1 = \"\"\n",
    "i = 0\n",
    "for x in s:\n",
    "    if(s.index(x) == i):\n",
    "        s1 += x\n",
    "i += 1\n",
    "print(s1)\n"
   ]
  },
  {
   "cell_type": "code",
   "execution_count": null,
   "metadata": {},
   "outputs": [],
   "source": []
  }
 ],
 "metadata": {
  "kernelspec": {
   "display_name": "Python 3",
   "language": "python",
   "name": "python3"
  },
  "language_info": {
   "codemirror_mode": {
    "name": "ipython",
    "version": 3
   },
   "file_extension": ".py",
   "mimetype": "text/x-python",
   "name": "python",
   "nbconvert_exporter": "python",
   "pygments_lexer": "ipython3",
   "version": "3.10.5"
  },
  "orig_nbformat": 4
 },
 "nbformat": 4,
 "nbformat_minor": 2
}
