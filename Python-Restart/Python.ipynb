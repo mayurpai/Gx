{
 "cells": [
  {
   "attachments": {},
   "cell_type": "markdown",
   "metadata": {},
   "source": [
    "<b>Chapter 1: Introduction To Python</b>\n"
   ]
  },
  {
   "attachments": {},
   "cell_type": "markdown",
   "metadata": {},
   "source": [
    "<b>Keywords in Python</b>\n",
    "\n",
    "👉 Keywords are reserved words in python.<br>\n",
    "👉 We can’t use a keyword as variable name or any other identifier.<br>\n",
    "👉 Keywords are case sensitive.\n"
   ]
  },
  {
   "attachments": {},
   "cell_type": "markdown",
   "metadata": {},
   "source": [
    "<b>Identifiers in Python</b>\n",
    "\n",
    "👉 Identifier is the name given to entities like class, functions, variable.<br>\n",
    "👉 It helps differentiating one entity from other.<br>\n",
    "👉 (a-z) , (A-Z) , (0-9) , ( \\_ ) .<br>\n",
    "👉 Cannot Start with digit.<br>\n",
    "👉 Keywords cannot be used as an identifier.<br>\n"
   ]
  },
  {
   "cell_type": "code",
   "execution_count": 1,
   "metadata": {},
   "outputs": [
    {
     "name": "stdout",
     "output_type": "stream",
     "text": [
      "['False', 'None', 'True', 'and', 'as', 'assert', 'async', 'await', 'break', 'class', 'continue', 'def', 'del', 'elif', 'else', 'except', 'finally', 'for', 'from', 'global', 'if', 'import', 'in', 'is', 'lambda', 'nonlocal', 'not', 'or', 'pass', 'raise', 'return', 'try', 'while', 'with', 'yield']\n",
      "35\n"
     ]
    }
   ],
   "source": [
    "import keyword as kw\n",
    "print(kw.kwlist)\n",
    "print(len(kw.kwlist))\n"
   ]
  },
  {
   "attachments": {},
   "cell_type": "markdown",
   "metadata": {},
   "source": [
    "<b>Chapter 2: Standard Input/Output</b>\n"
   ]
  },
  {
   "cell_type": "code",
   "execution_count": 2,
   "metadata": {},
   "outputs": [
    {
     "name": "stdout",
     "output_type": "stream",
     "text": [
      "Hello World\n",
      "My Name Is Mayur\n",
      "My Favorite Number Is 5\n",
      "The Value Of a Is 4 And b Is 6\n",
      "The Value Of b Is 6 And a Is 4\n",
      "Hello, Master Mayur\n",
      "Mayur's Age Is 23\n",
      "1\n",
      "10\n",
      "2\n",
      "5\n"
     ]
    }
   ],
   "source": [
    "print(\"Hello World\")\n",
    "\n",
    "name = \"Mayur\"\n",
    "print(\"My Name Is \" + name)\n",
    "\n",
    "number = 5\n",
    "print(\"My Favorite Number Is \" + str(number))\n",
    "\n",
    "a = 4\n",
    "b = 6\n",
    "print(\"The Value Of a Is {} And b Is {}\". format(a, b))\n",
    "\n",
    "a = 4\n",
    "b = 6\n",
    "print(\"The Value Of b Is {1} And a Is {0}\". format(a, b))\n",
    "\n",
    "print(\"{Hello}, {} {Name}\".format(\"Master\", Hello=\"Hello\", Name=\"Mayur\"))\n",
    "\n",
    "n = int(input(\"What Is Your Age?\"))\n",
    "print(\"Mayur's Age Is\", n)\n",
    "\n",
    "n, k = map(int, input().split())\n",
    "print(n)\n",
    "print(k)\n",
    "\n",
    "n, k = map(int, input().split(\",\"))\n",
    "print(n)\n",
    "print(k)\n"
   ]
  },
  {
   "attachments": {},
   "cell_type": "markdown",
   "metadata": {},
   "source": [
    "<b>Chapter 3: Comment Indentation, Data Types & Operators</b>\n"
   ]
  },
  {
   "attachments": {},
   "cell_type": "markdown",
   "metadata": {},
   "source": [
    "<b>Comment Indentation</b>\n",
    "\n",
    "👉 Comments are lines that exist in computer programs that are ignored\n",
    "by compilers & interpreters.<br>\n",
    "👉 Including comments in program makes code more readable for\n",
    "humans as it provides some information or explanation about what\n",
    "each part of a program is doing.\n"
   ]
  },
  {
   "cell_type": "code",
   "execution_count": 8,
   "metadata": {},
   "outputs": [
    {
     "name": "stdout",
     "output_type": "stream",
     "text": [
      "Hello\n"
     ]
    }
   ],
   "source": [
    "# Single Line Comment\n",
    "\n",
    "\"\"\"Multi Line Comment\"\"\"\n",
    "\n",
    "print(\"Hello\")\n"
   ]
  },
  {
   "attachments": {},
   "cell_type": "markdown",
   "metadata": {},
   "source": [
    "<b>Data Types</b>\n",
    "\n",
    "👉 Every value in python has a datatype. Since, everything is an object in\n",
    "python programming, data types are actually classes & variables are\n",
    "instances (object) of these classes.\n"
   ]
  },
  {
   "cell_type": "code",
   "execution_count": 2,
   "metadata": {},
   "outputs": [
    {
     "name": "stdout",
     "output_type": "stream",
     "text": [
      "<class 'int'>\n",
      "<class 'str'>\n",
      "<class 'complex'>\n",
      "True\n",
      "True\n",
      "M\n",
      "5\n",
      "M\n",
      "ayu\n",
      "Mayur\n",
      "yur\n",
      "May\n",
      "['Mayur', 'Pai', 5]\n",
      "5\n",
      "['Mayur', 'Pai', 'B H']\n",
      "(1, 2, 4)\n",
      "{1, 3, 5, 6}\n",
      "{'FirstName': 'Mayur', 'LastName': 'Pai'}\n",
      "Mayur\n",
      "{'FirstName': 'Mayur', 'LastName': 'B H', 'MiddleName': 'Pai'}\n",
      "1.0\n",
      "1\n"
     ]
    },
    {
     "data": {
      "text/plain": [
       "['M', 'a', 'y', 'u', 'r']"
      ]
     },
     "execution_count": 2,
     "metadata": {},
     "output_type": "execute_result"
    }
   ],
   "source": [
    "a = 10\n",
    "\n",
    "name = \"Mayur\"\n",
    "\n",
    "x = y = z = 245\n",
    "\n",
    "complex_number = 2 + 1j\n",
    "\n",
    "boolean_value = True\n",
    "\n",
    "print(type(x))\n",
    "print(type(name))\n",
    "print(type(complex_number))\n",
    "print(isinstance(complex_number, complex))\n",
    "print(isinstance(boolean_value, bool))\n",
    "print(name[0])\n",
    "print(len(name))\n",
    "print(name[len(name) - 5])\n",
    "print(name[1:4])\n",
    "print(name[:])\n",
    "print(name[2:])\n",
    "print(name[:3])\n",
    "\n",
    "# Python Lists Are Mutable\n",
    "python_list = [\"Mayur\", \"Pai\", 5]\n",
    "print(python_list)\n",
    "print(python_list[2])\n",
    "python_list[2] = \"B H\"\n",
    "print(python_list)\n",
    "\n",
    "# Python Tuples Are Immutable\n",
    "python_tuple = (1, 2, 4)\n",
    "# python_tuple[2] = 3\n",
    "print(python_tuple)\n",
    "\n",
    "# Python Sets Don't Follow Orders, Hence Can't Be Indexed\n",
    "python_set = {1, 3, 6, 5, 5}\n",
    "print(python_set)\n",
    "\n",
    "python_dictionary = {\"FirstName\": \"Mayur\", \"LastName\": \"Pai\"}\n",
    "print(python_dictionary)\n",
    "print(python_dictionary[\"FirstName\"])\n",
    "python_dictionary[\"MiddleName\"] = \"Pai\"\n",
    "python_dictionary[\"LastName\"] = \"B H\"\n",
    "print(python_dictionary)\n",
    "\n",
    "print(float(1))\n",
    "print(int(1.3))\n",
    "list(\"Mayur\")\n"
   ]
  },
  {
   "attachments": {},
   "cell_type": "markdown",
   "metadata": {},
   "source": [
    "<b>Operators in Python</b>\n",
    "\n",
    "👉 Operators are special symbols in python that carry out arithmetic or\n",
    "logical computation. The value that the operator operates on is called\n",
    "the operand.\n",
    "\n",
    "👉 Types:\n",
    "\n",
    "▪ Arithmetic Operator<br>\n",
    "▪ Relational Operator<br>\n",
    "▪ Logical Operator<br>\n",
    "▪ Bitwise Operator<br>\n",
    "▪ Assignment Operator<br>\n",
    "▪ Special Operator<br>\n"
   ]
  },
  {
   "cell_type": "code",
   "execution_count": 27,
   "metadata": {},
   "outputs": [
    {
     "name": "stdout",
     "output_type": "stream",
     "text": [
      "30\n",
      "-10\n",
      "200\n",
      "100000000000000000000\n",
      "0.5\n",
      "0\n",
      "10\n",
      "True\n",
      "30\n",
      "0\n",
      "False\n",
      "True\n",
      "True\n",
      "30\n",
      "False\n",
      "True\n",
      "False\n",
      "False\n",
      "False\n",
      "True\n",
      "True\n",
      "False\n"
     ]
    }
   ],
   "source": [
    "x, y = 10, 20\n",
    "print(x + y)\n",
    "print(x - y)\n",
    "print(x * y)\n",
    "print(x ** y)\n",
    "print(x / y)\n",
    "print(x // y)\n",
    "print(x % y)\n",
    "print(x != y)\n",
    "print(x | y)\n",
    "print(x & y)\n",
    "\n",
    "a, b, c = True, False, True\n",
    "print(a and b)\n",
    "print(a or b)\n",
    "print(a and not b)\n",
    "\n",
    "x = x + 10\n",
    "x += 10\n",
    "print(x)\n",
    "\n",
    "print(x is y)\n",
    "print(a is c)\n",
    "\n",
    "first_name = \"Mayur\"\n",
    "alias_name = \"mayur\"\n",
    "print(first_name is alias_name)\n",
    "\n",
    "even_numbers = [2, 4, 6, 8, 10]\n",
    "even_numbers_2 = [2, 4, 6, 8, 10]\n",
    "odd_numbers = [1,3,5,7,9]\n",
    "print(even_numbers is odd_numbers)\n",
    "print(even_numbers is even_numbers_2)\n",
    "print(4 in even_numbers)\n",
    "\n",
    "python_dictionary = {\"FirstName\": \"Mayur\", \"LastName\": \"Pai\"}\n",
    "print(\"FirstName\" in python_dictionary)\n",
    "print(\"Mayur\" in python_dictionary)\n",
    "\n"
   ]
  },
  {
   "attachments": {},
   "cell_type": "markdown",
   "metadata": {},
   "source": [
    "<b>Chapter 4: If Else & Else Statements</b>"
   ]
  },
  {
   "attachments": {},
   "cell_type": "markdown",
   "metadata": {},
   "source": [
    "Python supports the usual logical conditions from mathematics:<br>\n",
    "• Equals: a == b<br>\n",
    "• Not Equals: a != b<br>\n",
    "• Less than: a < b<br>\n",
    "• Less than or equal to: a <= b<br>\n",
    "• Greater than: a > b<br>\n",
    "• Greater than or equal to: a >= b<br>\n",
    "These conditions can be used in several ways, most commonly in \"if statements\" and loops.<br>\n",
    "An \"if statement\" is written by using the if keyword."
   ]
  },
  {
   "cell_type": "code",
   "execution_count": 29,
   "metadata": {},
   "outputs": [
    {
     "name": "stdout",
     "output_type": "stream",
     "text": [
      "a < b\n"
     ]
    }
   ],
   "source": [
    "a = 10\n",
    "b = 20\n",
    "if a > b:\n",
    "    print(\"a > b\")\n",
    "else:\n",
    "    print(\"a < b\")"
   ]
  },
  {
   "attachments": {},
   "cell_type": "markdown",
   "metadata": {},
   "source": [
    "Elif\n",
    "\n",
    "The elif keyword is pythons way of saying \"if the previous conditions were not true, then try this condition\"."
   ]
  },
  {
   "cell_type": "code",
   "execution_count": 31,
   "metadata": {},
   "outputs": [
    {
     "name": "stdout",
     "output_type": "stream",
     "text": [
      "a and b are equal\n"
     ]
    }
   ],
   "source": [
    "a = 33\n",
    "b = 33\n",
    "if b > a:\n",
    "    print(\"b is greater than a\")\n",
    "elif a == b:\n",
    "    print(\"a and b are equal\")"
   ]
  },
  {
   "attachments": {},
   "cell_type": "markdown",
   "metadata": {},
   "source": [
    "<b>Chapter 5: Loops In Python, Break & Continue</b>"
   ]
  },
  {
   "attachments": {},
   "cell_type": "markdown",
   "metadata": {},
   "source": [
    "Python has two primitive loop commands: <br>\n",
    "• while loops <br>\n",
    "• for loops <br>"
   ]
  },
  {
   "attachments": {},
   "cell_type": "markdown",
   "metadata": {},
   "source": [
    "With the while loop we can execute a set of statements as long as a condition is true."
   ]
  },
  {
   "cell_type": "code",
   "execution_count": 33,
   "metadata": {},
   "outputs": [
    {
     "name": "stdout",
     "output_type": "stream",
     "text": [
      "1\n",
      "2\n",
      "3\n",
      "4\n",
      "5\n"
     ]
    }
   ],
   "source": [
    "i = 1\n",
    "while i < 6:\n",
    "    print(i)\n",
    "    i += 1\n"
   ]
  },
  {
   "cell_type": "code",
   "execution_count": 46,
   "metadata": {},
   "outputs": [
    {
     "name": "stdout",
     "output_type": "stream",
     "text": [
      "The Product Of All The Numbers In The List Is 120\n"
     ]
    }
   ],
   "source": [
    "numbers = [1, 2, 3, 4, 5]\n",
    "i, product = 0, 1\n",
    "while i < len(numbers):\n",
    "    product *= numbers[i]\n",
    "    i += 1\n",
    "print(\"The Product Of All The Numbers In The List Is {}\".format(product))\n"
   ]
  },
  {
   "attachments": {},
   "cell_type": "markdown",
   "metadata": {},
   "source": [
    "👉 A for loop is used for iterating over a sequence (that is either a list, a tuple, a dictionary, a set, or a string). <br>\n",
    "👉 This is less like the for keyword in other programming languages, and works more like an iterator method as found in other object-orientated programming languages. <br>\n",
    "👉 With the for loop we can execute a set of statements, once for each item in a list, tuple, set etc."
   ]
  },
  {
   "cell_type": "code",
   "execution_count": 34,
   "metadata": {},
   "outputs": [
    {
     "name": "stdout",
     "output_type": "stream",
     "text": [
      "apple\n",
      "banana\n",
      "cherry\n"
     ]
    }
   ],
   "source": [
    "fruits = [\"apple\", \"banana\", \"cherry\"]\n",
    "for x in fruits:\n",
    "    print(x)\n"
   ]
  },
  {
   "cell_type": "code",
   "execution_count": 87,
   "metadata": {},
   "outputs": [
    {
     "name": "stdout",
     "output_type": "stream",
     "text": [
      "In The Range Of 2 And 20, These Are The Following Prime Numbers: [2, 3, 5, 7, 11, 13, 17, 19]\n",
      "There Are 8 Prime Numbers Between 2 And 20\n"
     ]
    }
   ],
   "source": [
    "lower_range = int(input(\"Enter Lower Range\"))\n",
    "upper_range = int(input(\"Enter Upper Range\"))\n",
    "prime_numbers = []\n",
    "def prime_number_generator(n):\n",
    "    flag = True\n",
    "    if n > 1:\n",
    "        for i in range(2, n):\n",
    "            if n % i == 0:\n",
    "                flag = False\n",
    "                break;\n",
    "\n",
    "    if flag:\n",
    "        prime_numbers.append(n)\n",
    "\n",
    "\n",
    "print(\"In The Range Of {} And {}, These Are The Following Prime Numbers: \".format(lower_range, upper_range), end=\"\")\n",
    "for i in range(lower_range, upper_range + 1):\n",
    "    prime_number_generator(i)\n",
    "print(prime_numbers)\n",
    "print(\"There Are {} Prime Numbers Between {} And {}\".format(len(prime_numbers), lower_range, upper_range))\n"
   ]
  },
  {
   "attachments": {},
   "cell_type": "markdown",
   "metadata": {},
   "source": [
    "<b>Chapter 6: Lists In Python</b>"
   ]
  },
  {
   "attachments": {},
   "cell_type": "markdown",
   "metadata": {},
   "source": [
    "👉 A list in Python is used to store the sequence of various types of data. Python lists are mutable type its mean we can modify its element after it created. However, Python consists of six data-types that are capable to store the sequences, but the most common and reliable type is the list.<br>\n",
    "👉 A list can be defined as a collection of values or items of different types. The items in the list are separated with the comma (,) and enclosed with the square brackets []."
   ]
  },
  {
   "cell_type": "code",
   "execution_count": 136,
   "metadata": {},
   "outputs": [
    {
     "name": "stdout",
     "output_type": "stream",
     "text": [
      "[1, 2, 3, 4.5, 'Mayur']\n",
      "['Pai', '5']\n",
      "2\n",
      "[1, 2, 3, 4.5, 'Mayur', '6']\n",
      "[1, 2, 'B H', 3, 4.5, 'Mayur', '6']\n",
      "['5']\n",
      "[1, 2, 'B H', 3, 4.5, 'Mayur', '6', '5']\n",
      "[1, 2, 'B H', 3, 'Mayur', '6', '5']\n",
      "5\n",
      "[1, 2, 'B H', 3, 'Mayur', '6']\n",
      "[19, 17, 13, 11, 7, 5, 3, 2]\n",
      "[2, 3, 5, 7, 11, 13, 17, 19]\n",
      "[2, 3, 5, 7, 11, 13, 17, 19]\n",
      "[2, 5, 11, 17]\n",
      "[5, 11, 17]\n",
      "Yes\n",
      "No\n",
      "['My', 'Name', 'Is', 'Mayur', 'Pai']\n",
      "['My', 'Name', 'Is', 'Mayur', 'Pai', 2, 3, 5, 7, 11, 13, 17, 19]\n",
      "1\n",
      "[0, 1, 4, 9, 16, 25, 36, 49, 64, 81]\n",
      "[0, 1, 8, 27, 64, 125, 216, 343, 512, 729]\n",
      "[(0, 0), (1, 2), (2, 4), (3, 6), (4, 8), (5, 10), (6, 12), (7, 14), (8, 16), (9, 18)]\n"
     ]
    }
   ],
   "source": [
    "list = [1, 2, 3, 4.5, \"Mayur\"]\n",
    "prime_numbers = [2, 3, 5, 7, 11, 13, 17, 19]\n",
    "print(list)\n",
    "\n",
    "new_list = [\"Pai\", \"5\"]\n",
    "print(new_list)\n",
    "print(len(new_list))\n",
    "\n",
    "list.append(\"6\")\n",
    "print(list)\n",
    "\n",
    "list.insert(2, \"B H\")\n",
    "print(list)\n",
    "\n",
    "new_list.remove(\"Pai\")\n",
    "print(new_list)\n",
    "\n",
    "# new_list.append(list)\n",
    "# print(new_list)\n",
    "\n",
    "list.extend(new_list)\n",
    "print(list)\n",
    "\n",
    "del list[4]\n",
    "print(list)\n",
    "\n",
    "print(list.pop())\n",
    "print(list)\n",
    "prime_numbers.reverse()\n",
    "print(prime_numbers)\n",
    "prime_numbers.sort()\n",
    "print(prime_numbers)\n",
    "print(sorted(prime_numbers))\n",
    "print(prime_numbers[::2])\n",
    "print(prime_numbers[2::2])\n",
    "\n",
    "if \"Mayur\" in list:\n",
    "    print(\"Yes\")\n",
    "    \n",
    "if \"5\" not in list:\n",
    "    print(\"No\")\n",
    "    \n",
    "string = \"My Name Is Mayur Pai\"\n",
    "string_list = string.split()\n",
    "print(string_list)\n",
    "\n",
    "print(string_list + prime_numbers)\n",
    "\n",
    "print(prime_numbers.count(2))\n",
    "\n",
    "squares = []\n",
    "for i in range(0,10):\n",
    "    squares.append(i*i)\n",
    "    \n",
    "print(squares)\n",
    "\n",
    "cubes = [i*i*i for i in range(0,10)]\n",
    "print(cubes)\n",
    "\n",
    "cordinates = [(i, 2*i) for i in range(10)]\n",
    "print(cordinates)"
   ]
  },
  {
   "attachments": {},
   "cell_type": "markdown",
   "metadata": {},
   "source": [
    "<b>Chapter 7: Tuples In Python</b>"
   ]
  },
  {
   "attachments": {},
   "cell_type": "markdown",
   "metadata": {},
   "source": [
    "👉 A Tuple is a collection of Python objects separated by commas. In someways a tuple is similar to a list in terms of indexing, nested objects and repetition but a tuple is immutable unlike lists which are mutable."
   ]
  },
  {
   "cell_type": "code",
   "execution_count": 158,
   "metadata": {},
   "outputs": [
    {
     "name": "stdout",
     "output_type": "stream",
     "text": [
      "[1, 1, 2, 2, 3, 3, 4]\n",
      "(1, 2, 3, 4, 3, 2, 1)\n",
      "2\n",
      "(1, 2, 3, [4, 5], 'Six')\n",
      "1\n",
      "4\n",
      "[4, 5]\n",
      "5\n",
      "(1, 2, 3, [4, 'Five'], 'Six')\n",
      "(1, 2, 3, [4, 'Five'], 'Six', 1, 2, 3, [4, 'Five'], 'Six')\n",
      "<class 'str'>\n",
      "<class 'tuple'>\n",
      "<class 'str'>\n",
      "<class 'tuple'>\n"
     ]
    }
   ],
   "source": [
    "t = ()\n",
    "t = (1, 2, 3, 4, 3, 2, 1)\n",
    "print(sorted(t))\n",
    "print(t)\n",
    "print(t[1])\n",
    "t = (1, 2, 3, [4, 5], \"Six\")\n",
    "print(t)\n",
    "print(t.count(2))\n",
    "print(t.index(\"Six\"))\n",
    "print(t[3])\n",
    "print(t[3][1])\n",
    "t[3][1] = \"Five\"\n",
    "print(t)\n",
    "print(t*2)\n",
    "t = \"Mayur\"\n",
    "print(type(t))\n",
    "t = 'Mayur',\n",
    "print(type(t))\n",
    "t = ('Mayur')\n",
    "print(type(t))\n",
    "t = ('Mayur',)\n",
    "print(type(t))\n",
    "del t"
   ]
  }
 ],
 "metadata": {
  "kernelspec": {
   "display_name": "Python 3",
   "language": "python",
   "name": "python3"
  },
  "language_info": {
   "codemirror_mode": {
    "name": "ipython",
    "version": 3
   },
   "file_extension": ".py",
   "mimetype": "text/x-python",
   "name": "python",
   "nbconvert_exporter": "python",
   "pygments_lexer": "ipython3",
   "version": "3.10.5"
  },
  "orig_nbformat": 4
 },
 "nbformat": 4,
 "nbformat_minor": 2
}
