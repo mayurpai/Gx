{
 "cells": [
  {
   "attachments": {},
   "cell_type": "markdown",
   "metadata": {},
   "source": [
    "<b>Chapter 1: Introduction To Python</b>\n"
   ]
  },
  {
   "attachments": {},
   "cell_type": "markdown",
   "metadata": {},
   "source": [
    "<b>Keywords in Python</b>\n",
    "\n",
    "👉 Keywords are reserved words in python.<br>\n",
    "👉 We can’t use a keyword as variable name or any other identifier.<br>\n",
    "👉 Keywords are case sensitive.\n"
   ]
  },
  {
   "attachments": {},
   "cell_type": "markdown",
   "metadata": {},
   "source": [
    "<b>Identifiers in Python</b>\n",
    "\n",
    "👉 Identifier is the name given to entities like class, functions, variable.<br>\n",
    "👉 It helps differentiating one entity from other.<br>\n",
    "👉 (a-z) , (A-Z) , (0-9) , ( \\_ ) .<br>\n",
    "👉 Cannot Start with digit.<br>\n",
    "👉 Keywords cannot be used as an identifier.<br>\n"
   ]
  },
  {
   "cell_type": "code",
   "execution_count": 1,
   "metadata": {},
   "outputs": [
    {
     "name": "stdout",
     "output_type": "stream",
     "text": [
      "['False', 'None', 'True', 'and', 'as', 'assert', 'async', 'await', 'break', 'class', 'continue', 'def', 'del', 'elif', 'else', 'except', 'finally', 'for', 'from', 'global', 'if', 'import', 'in', 'is', 'lambda', 'nonlocal', 'not', 'or', 'pass', 'raise', 'return', 'try', 'while', 'with', 'yield']\n",
      "35\n"
     ]
    }
   ],
   "source": [
    "import keyword as kw\n",
    "print(kw.kwlist)\n",
    "print(len(kw.kwlist))\n"
   ]
  },
  {
   "attachments": {},
   "cell_type": "markdown",
   "metadata": {},
   "source": [
    "<b>Chapter 2: Standard Input/Output</b>\n"
   ]
  },
  {
   "cell_type": "code",
   "execution_count": 2,
   "metadata": {},
   "outputs": [
    {
     "name": "stdout",
     "output_type": "stream",
     "text": [
      "Hello World\n",
      "My Name Is Mayur\n",
      "My Favorite Number Is 5\n",
      "The Value Of a Is 4 And b Is 6\n",
      "The Value Of b Is 6 And a Is 4\n",
      "Hello, Master Mayur\n",
      "Mayur's Age Is 23\n",
      "1\n",
      "10\n",
      "2\n",
      "5\n"
     ]
    }
   ],
   "source": [
    "print(\"Hello World\")\n",
    "\n",
    "name = \"Mayur\"\n",
    "print(\"My Name Is \" + name)\n",
    "\n",
    "number = 5\n",
    "print(\"My Favorite Number Is \" + str(number))\n",
    "\n",
    "a = 4\n",
    "b = 6\n",
    "print(\"The Value Of a Is {} And b Is {}\". format(a, b))\n",
    "\n",
    "a = 4\n",
    "b = 6\n",
    "print(\"The Value Of b Is {1} And a Is {0}\". format(a, b))\n",
    "\n",
    "print(\"{Hello}, {} {Name}\".format(\"Master\", Hello=\"Hello\", Name=\"Mayur\"))\n",
    "\n",
    "n = int(input(\"What Is Your Age?\"))\n",
    "print(\"Mayur's Age Is\", n)\n",
    "\n",
    "n, k = map(int, input().split())\n",
    "print(n)\n",
    "print(k)\n",
    "\n",
    "n, k = map(int, input().split(\",\"))\n",
    "print(n)\n",
    "print(k)\n"
   ]
  },
  {
   "attachments": {},
   "cell_type": "markdown",
   "metadata": {},
   "source": [
    "<b>Chapter 3: Comment Indentation, Data Types & Operators</b>\n"
   ]
  },
  {
   "attachments": {},
   "cell_type": "markdown",
   "metadata": {},
   "source": [
    "<b>Comment Indentation</b>\n",
    "\n",
    "👉 Comments are lines that exist in computer programs that are ignored\n",
    "by compilers & interpreters.<br>\n",
    "👉 Including comments in program makes code more readable for\n",
    "humans as it provides some information or explanation about what\n",
    "each part of a program is doing.\n"
   ]
  },
  {
   "cell_type": "code",
   "execution_count": 8,
   "metadata": {},
   "outputs": [
    {
     "name": "stdout",
     "output_type": "stream",
     "text": [
      "Hello\n"
     ]
    }
   ],
   "source": [
    "# Single Line Comment\n",
    "\n",
    "\"\"\"Multi Line Comment\"\"\"\n",
    "\n",
    "print(\"Hello\")\n"
   ]
  },
  {
   "attachments": {},
   "cell_type": "markdown",
   "metadata": {},
   "source": [
    "<b>Data Types</b>\n",
    "\n",
    "👉 Every value in python has a datatype. Since, everything is an object in\n",
    "python programming, data types are actually classes & variables are\n",
    "instances (object) of these classes.\n"
   ]
  },
  {
   "cell_type": "code",
   "execution_count": 2,
   "metadata": {},
   "outputs": [
    {
     "name": "stdout",
     "output_type": "stream",
     "text": [
      "<class 'int'>\n",
      "<class 'str'>\n",
      "<class 'complex'>\n",
      "True\n",
      "True\n",
      "M\n",
      "5\n",
      "M\n",
      "ayu\n",
      "Mayur\n",
      "yur\n",
      "May\n",
      "['Mayur', 'Pai', 5]\n",
      "5\n",
      "['Mayur', 'Pai', 'B H']\n",
      "(1, 2, 4)\n",
      "{1, 3, 5, 6}\n",
      "{'FirstName': 'Mayur', 'LastName': 'Pai'}\n",
      "Mayur\n",
      "{'FirstName': 'Mayur', 'LastName': 'B H', 'MiddleName': 'Pai'}\n",
      "1.0\n",
      "1\n"
     ]
    },
    {
     "data": {
      "text/plain": [
       "['M', 'a', 'y', 'u', 'r']"
      ]
     },
     "execution_count": 2,
     "metadata": {},
     "output_type": "execute_result"
    }
   ],
   "source": [
    "a = 10\n",
    "\n",
    "name = \"Mayur\"\n",
    "\n",
    "x = y = z = 245\n",
    "\n",
    "complex_number = 2 + 1j\n",
    "\n",
    "boolean_value = True\n",
    "\n",
    "print(type(x))\n",
    "print(type(name))\n",
    "print(type(complex_number))\n",
    "print(isinstance(complex_number, complex))\n",
    "print(isinstance(boolean_value, bool))\n",
    "print(name[0])\n",
    "print(len(name))\n",
    "print(name[len(name) - 5])\n",
    "print(name[1:4])\n",
    "print(name[:])\n",
    "print(name[2:])\n",
    "print(name[:3])\n",
    "\n",
    "# Python Lists Are Mutable\n",
    "python_list = [\"Mayur\", \"Pai\", 5]\n",
    "print(python_list)\n",
    "print(python_list[2])\n",
    "python_list[2] = \"B H\"\n",
    "print(python_list)\n",
    "\n",
    "# Python Tuples Are Immutable\n",
    "python_tuple = (1, 2, 4)\n",
    "# python_tuple[2] = 3\n",
    "print(python_tuple)\n",
    "\n",
    "# Python Sets Don't Follow Orders, Hence Can't Be Indexed\n",
    "python_set = {1, 3, 6, 5, 5}\n",
    "print(python_set)\n",
    "\n",
    "python_dictionary = {\"FirstName\": \"Mayur\", \"LastName\": \"Pai\"}\n",
    "print(python_dictionary)\n",
    "print(python_dictionary[\"FirstName\"])\n",
    "python_dictionary[\"MiddleName\"] = \"Pai\"\n",
    "python_dictionary[\"LastName\"] = \"B H\"\n",
    "print(python_dictionary)\n",
    "\n",
    "print(float(1))\n",
    "print(int(1.3))\n",
    "list(\"Mayur\")\n"
   ]
  },
  {
   "attachments": {},
   "cell_type": "markdown",
   "metadata": {},
   "source": [
    "<b>Operators in Python</b>\n",
    "\n",
    "👉 Operators are special symbols in python that carry out arithmetic or\n",
    "logical computation. The value that the operator operates on is called\n",
    "the operand.\n",
    "\n",
    "👉 Types:\n",
    "\n",
    "▪ Arithmetic Operator<br>\n",
    "▪ Relational Operator<br>\n",
    "▪ Logical Operator<br>\n",
    "▪ Bitwise Operator<br>\n",
    "▪ Assignment Operator<br>\n",
    "▪ Special Operator<br>\n"
   ]
  },
  {
   "cell_type": "code",
   "execution_count": 27,
   "metadata": {},
   "outputs": [
    {
     "name": "stdout",
     "output_type": "stream",
     "text": [
      "30\n",
      "-10\n",
      "200\n",
      "100000000000000000000\n",
      "0.5\n",
      "0\n",
      "10\n",
      "True\n",
      "30\n",
      "0\n",
      "False\n",
      "True\n",
      "True\n",
      "30\n",
      "False\n",
      "True\n",
      "False\n",
      "False\n",
      "False\n",
      "True\n",
      "True\n",
      "False\n"
     ]
    }
   ],
   "source": [
    "x, y = 10, 20\n",
    "print(x + y)\n",
    "print(x - y)\n",
    "print(x * y)\n",
    "print(x ** y)\n",
    "print(x / y)\n",
    "print(x // y)\n",
    "print(x % y)\n",
    "print(x != y)\n",
    "print(x | y)\n",
    "print(x & y)\n",
    "\n",
    "a, b, c = True, False, True\n",
    "print(a and b)\n",
    "print(a or b)\n",
    "print(a and not b)\n",
    "\n",
    "x = x + 10\n",
    "x += 10\n",
    "print(x)\n",
    "\n",
    "print(x is y)\n",
    "print(a is c)\n",
    "\n",
    "first_name = \"Mayur\"\n",
    "alias_name = \"mayur\"\n",
    "print(first_name is alias_name)\n",
    "\n",
    "even_numbers = [2, 4, 6, 8, 10]\n",
    "even_numbers_2 = [2, 4, 6, 8, 10]\n",
    "odd_numbers = [1,3,5,7,9]\n",
    "print(even_numbers is odd_numbers)\n",
    "print(even_numbers is even_numbers_2)\n",
    "print(4 in even_numbers)\n",
    "\n",
    "python_dictionary = {\"FirstName\": \"Mayur\", \"LastName\": \"Pai\"}\n",
    "print(\"FirstName\" in python_dictionary)\n",
    "print(\"Mayur\" in python_dictionary)\n",
    "\n"
   ]
  }
 ],
 "metadata": {
  "kernelspec": {
   "display_name": "Python 3",
   "language": "python",
   "name": "python3"
  },
  "language_info": {
   "codemirror_mode": {
    "name": "ipython",
    "version": 3
   },
   "file_extension": ".py",
   "mimetype": "text/x-python",
   "name": "python",
   "nbconvert_exporter": "python",
   "pygments_lexer": "ipython3",
   "version": "3.10.5"
  },
  "orig_nbformat": 4
 },
 "nbformat": 4,
 "nbformat_minor": 2
}
