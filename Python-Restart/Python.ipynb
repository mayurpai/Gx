{
 "cells": [
  {
   "attachments": {},
   "cell_type": "markdown",
   "metadata": {},
   "source": [
    "<b>Chapter 1: Introduction To Python</b>\n"
   ]
  },
  {
   "attachments": {},
   "cell_type": "markdown",
   "metadata": {},
   "source": [
    "<b>Keywords in Python</b>\n",
    "\n",
    "👉 Keywords are reserved words in python.<br>\n",
    "👉 We can’t use a keyword as variable name or any other identifier.<br>\n",
    "👉 Keywords are case sensitive.\n"
   ]
  },
  {
   "attachments": {},
   "cell_type": "markdown",
   "metadata": {},
   "source": [
    "<b>Identifiers in Python</b>\n",
    "\n",
    "👉 Identifier is the name given to entities like class, functions, variable.<br>\n",
    "👉 It helps differentiating one entity from other.<br>\n",
    "👉 (a-z) , (A-Z) , (0-9) , ( \\_ ) .<br>\n",
    "👉 Cannot Start with digit.<br>\n",
    "👉 Keywords cannot be used as an identifier.<br>\n"
   ]
  },
  {
   "cell_type": "code",
   "execution_count": 2,
   "metadata": {},
   "outputs": [
    {
     "name": "stdout",
     "output_type": "stream",
     "text": [
      "['False', 'None', 'True', 'and', 'as', 'assert', 'async', 'await', 'break', 'class', 'continue', 'def', 'del', 'elif', 'else', 'except', 'finally', 'for', 'from', 'global', 'if', 'import', 'in', 'is', 'lambda', 'nonlocal', 'not', 'or', 'pass', 'raise', 'return', 'try', 'while', 'with', 'yield']\n",
      "35\n"
     ]
    }
   ],
   "source": [
    "import keyword as kw\n",
    "print(kw.kwlist)\n",
    "print(len(kw.kwlist))\n"
   ]
  },
  {
   "attachments": {},
   "cell_type": "markdown",
   "metadata": {},
   "source": [
    "<b>Chapter 2: Standard Input/Output</b>\n"
   ]
  },
  {
   "cell_type": "code",
   "execution_count": 3,
   "metadata": {},
   "outputs": [
    {
     "name": "stdout",
     "output_type": "stream",
     "text": [
      "Hello World\n",
      "My Name Is Mayur\n",
      "My Favorite Number Is 5\n",
      "The Value Of a Is 4 And b Is 6\n",
      "The Value Of b Is 6 And a Is 4\n",
      "Hello, Master Mayur\n",
      "Mayur's Age Is 23\n",
      "1\n",
      "10\n",
      "1\n",
      "10\n"
     ]
    }
   ],
   "source": [
    "print(\"Hello World\")\n",
    "\n",
    "name = \"Mayur\"\n",
    "print(\"My Name Is \" + name)\n",
    "\n",
    "number = 5\n",
    "print(\"My Favorite Number Is \" + str(number))\n",
    "\n",
    "a = 4\n",
    "b = 6\n",
    "print(\"The Value Of a Is {} And b Is {}\". format(a, b))\n",
    "\n",
    "a = 4\n",
    "b = 6\n",
    "print(\"The Value Of b Is {1} And a Is {0}\". format(a, b))\n",
    "\n",
    "print(\"{Hello}, {} {Name}\".format(\"Master\", Hello=\"Hello\", Name=\"Mayur\"))\n",
    "\n",
    "n = int(input(\"What Is Your Age?\"))\n",
    "print(\"Mayur's Age Is\", n)\n",
    "\n",
    "n, k = map(int, input().split())\n",
    "print(n)\n",
    "print(k)\n",
    "\n",
    "n, k = map(int, input().split(\",\"))\n",
    "print(n)\n",
    "print(k)\n"
   ]
  },
  {
   "attachments": {},
   "cell_type": "markdown",
   "metadata": {},
   "source": [
    "<b>Chapter 3: Comment Indentation, Data Types & Operators</b>\n"
   ]
  },
  {
   "attachments": {},
   "cell_type": "markdown",
   "metadata": {},
   "source": [
    "<b>Comment Indentation</b>\n",
    "\n",
    "👉 Comments are lines that exist in computer programs that are ignored\n",
    "by compilers & interpreters.<br>\n",
    "👉 Including comments in program makes code more readable for\n",
    "humans as it provides some information or explanation about what\n",
    "each part of a program is doing.\n"
   ]
  },
  {
   "cell_type": "code",
   "execution_count": 4,
   "metadata": {},
   "outputs": [
    {
     "name": "stdout",
     "output_type": "stream",
     "text": [
      "Hello\n"
     ]
    }
   ],
   "source": [
    "# Single Line Comment\n",
    "\n",
    "\"\"\"Multi Line Comment\"\"\"\n",
    "\n",
    "print(\"Hello\")\n"
   ]
  },
  {
   "attachments": {},
   "cell_type": "markdown",
   "metadata": {},
   "source": [
    "<b>Data Types</b>\n",
    "\n",
    "👉 Every value in python has a datatype. Since, everything is an object in\n",
    "python programming, data types are actually classes & variables are\n",
    "instances (object) of these classes.\n"
   ]
  },
  {
   "cell_type": "code",
   "execution_count": 5,
   "metadata": {},
   "outputs": [
    {
     "name": "stdout",
     "output_type": "stream",
     "text": [
      "<class 'int'>\n",
      "<class 'str'>\n",
      "<class 'complex'>\n",
      "True\n",
      "True\n",
      "M\n",
      "5\n",
      "M\n",
      "ayu\n",
      "Mayur\n",
      "yur\n",
      "May\n",
      "['Mayur', 'Pai', 5]\n",
      "5\n",
      "['Mayur', 'Pai', 'B H']\n",
      "(1, 2, 4)\n",
      "{1, 3, 5, 6}\n",
      "{'FirstName': 'Mayur', 'LastName': 'Pai'}\n",
      "Mayur\n",
      "{'FirstName': 'Mayur', 'LastName': 'B H', 'MiddleName': 'Pai'}\n",
      "1.0\n",
      "1\n"
     ]
    },
    {
     "data": {
      "text/plain": [
       "['M', 'a', 'y', 'u', 'r']"
      ]
     },
     "execution_count": 5,
     "metadata": {},
     "output_type": "execute_result"
    }
   ],
   "source": [
    "a = 10\n",
    "\n",
    "name = \"Mayur\"\n",
    "\n",
    "x = y = z = 245\n",
    "\n",
    "complex_number = 2 + 1j\n",
    "\n",
    "boolean_value = True\n",
    "\n",
    "print(type(x))\n",
    "print(type(name))\n",
    "print(type(complex_number))\n",
    "print(isinstance(complex_number, complex))\n",
    "print(isinstance(boolean_value, bool))\n",
    "print(name[0])\n",
    "print(len(name))\n",
    "print(name[len(name) - 5])\n",
    "print(name[1:4])\n",
    "print(name[:])\n",
    "print(name[2:])\n",
    "print(name[:3])\n",
    "\n",
    "# Python Lists Are Mutable\n",
    "python_list = [\"Mayur\", \"Pai\", 5]\n",
    "print(python_list)\n",
    "print(python_list[2])\n",
    "python_list[2] = \"B H\"\n",
    "print(python_list)\n",
    "\n",
    "# Python Tuples Are Immutable\n",
    "python_tuple = (1, 2, 4)\n",
    "# python_tuple[2] = 3\n",
    "print(python_tuple)\n",
    "\n",
    "# Python Sets Don't Follow Orders, Hence Can't Be Indexed\n",
    "python_set = {1, 3, 6, 5, 5}\n",
    "print(python_set)\n",
    "\n",
    "python_dictionary = {\"FirstName\": \"Mayur\", \"LastName\": \"Pai\"}\n",
    "print(python_dictionary)\n",
    "print(python_dictionary[\"FirstName\"])\n",
    "python_dictionary[\"MiddleName\"] = \"Pai\"\n",
    "python_dictionary[\"LastName\"] = \"B H\"\n",
    "print(python_dictionary)\n",
    "\n",
    "print(float(1))\n",
    "print(int(1.3))\n",
    "list(\"Mayur\")\n"
   ]
  },
  {
   "attachments": {},
   "cell_type": "markdown",
   "metadata": {},
   "source": [
    "<b>Operators in Python</b>\n",
    "\n",
    "👉 Operators are special symbols in python that carry out arithmetic or\n",
    "logical computation. The value that the operator operates on is called\n",
    "the operand.\n",
    "\n",
    "👉 Types:\n",
    "\n",
    "👉 Arithmetic Operator<br>\n",
    "👉 Relational Operator<br>\n",
    "👉 Logical Operator<br>\n",
    "👉 Bitwise Operator<br>\n",
    "👉 Assignment Operator<br>\n",
    "👉 Special Operator<br>\n"
   ]
  },
  {
   "cell_type": "code",
   "execution_count": 6,
   "metadata": {},
   "outputs": [
    {
     "name": "stdout",
     "output_type": "stream",
     "text": [
      "30\n",
      "-10\n",
      "200\n",
      "100000000000000000000\n",
      "0.5\n",
      "0\n",
      "10\n",
      "True\n",
      "30\n",
      "0\n",
      "False\n",
      "True\n",
      "True\n",
      "30\n",
      "False\n",
      "True\n",
      "False\n",
      "False\n",
      "False\n",
      "True\n",
      "True\n",
      "False\n"
     ]
    }
   ],
   "source": [
    "x, y = 10, 20\n",
    "print(x + y)\n",
    "print(x - y)\n",
    "print(x * y)\n",
    "print(x ** y)\n",
    "print(x / y)\n",
    "print(x // y)\n",
    "print(x % y)\n",
    "print(x != y)\n",
    "print(x | y)\n",
    "print(x & y)\n",
    "\n",
    "a, b, c = True, False, True\n",
    "print(a and b)\n",
    "print(a or b)\n",
    "print(a and not b)\n",
    "\n",
    "x = x + 10\n",
    "x += 10\n",
    "print(x)\n",
    "\n",
    "print(x is y)\n",
    "print(a is c)\n",
    "\n",
    "first_name = \"Mayur\"\n",
    "alias_name = \"mayur\"\n",
    "print(first_name is alias_name)\n",
    "\n",
    "even_numbers = [2, 4, 6, 8, 10]\n",
    "even_numbers_2 = [2, 4, 6, 8, 10]\n",
    "odd_numbers = [1, 3, 5, 7, 9]\n",
    "print(even_numbers is odd_numbers)\n",
    "print(even_numbers is even_numbers_2)\n",
    "print(4 in even_numbers)\n",
    "\n",
    "python_dictionary = {\"FirstName\": \"Mayur\", \"LastName\": \"Pai\"}\n",
    "print(\"FirstName\" in python_dictionary)\n",
    "print(\"Mayur\" in python_dictionary)\n"
   ]
  },
  {
   "attachments": {},
   "cell_type": "markdown",
   "metadata": {},
   "source": [
    "<b>Chapter 4: If Else & Else Statements</b>\n"
   ]
  },
  {
   "attachments": {},
   "cell_type": "markdown",
   "metadata": {},
   "source": [
    "Python supports the usual logical conditions from mathematics:<br>\n",
    "• Equals: a == b<br>\n",
    "• Not Equals: a != b<br>\n",
    "• Less than: a < b<br>\n",
    "• Less than or equal to: a <= b<br>\n",
    "• Greater than: a > b<br>\n",
    "• Greater than or equal to: a >= b<br>\n",
    "These conditions can be used in several ways, most commonly in \"if statements\" and loops.<br>\n",
    "An \"if statement\" is written by using the if keyword.\n"
   ]
  },
  {
   "cell_type": "code",
   "execution_count": 7,
   "metadata": {},
   "outputs": [
    {
     "name": "stdout",
     "output_type": "stream",
     "text": [
      "a < b\n"
     ]
    }
   ],
   "source": [
    "a = 10\n",
    "b = 20\n",
    "if a > b:\n",
    "    print(\"a > b\")\n",
    "else:\n",
    "    print(\"a < b\")\n"
   ]
  },
  {
   "attachments": {},
   "cell_type": "markdown",
   "metadata": {},
   "source": [
    "Elif\n",
    "\n",
    "The elif keyword is pythons way of saying \"if the previous conditions were not true, then try this condition\".\n"
   ]
  },
  {
   "cell_type": "code",
   "execution_count": 8,
   "metadata": {},
   "outputs": [
    {
     "name": "stdout",
     "output_type": "stream",
     "text": [
      "a and b are equal\n"
     ]
    }
   ],
   "source": [
    "a = 33\n",
    "b = 33\n",
    "if b > a:\n",
    "    print(\"b is greater than a\")\n",
    "elif a == b:\n",
    "    print(\"a and b are equal\")\n"
   ]
  },
  {
   "attachments": {},
   "cell_type": "markdown",
   "metadata": {},
   "source": [
    "<b>Chapter 5: Loops In Python, Break & Continue</b>\n"
   ]
  },
  {
   "attachments": {},
   "cell_type": "markdown",
   "metadata": {},
   "source": [
    "Python has two primitive loop commands: <br>\n",
    "• while loops <br>\n",
    "• for loops <br>\n"
   ]
  },
  {
   "attachments": {},
   "cell_type": "markdown",
   "metadata": {},
   "source": [
    "With the while loop we can execute a set of statements as long as a condition is true.\n"
   ]
  },
  {
   "cell_type": "code",
   "execution_count": 9,
   "metadata": {},
   "outputs": [
    {
     "name": "stdout",
     "output_type": "stream",
     "text": [
      "1\n",
      "2\n",
      "3\n",
      "4\n",
      "5\n"
     ]
    }
   ],
   "source": [
    "i = 1\n",
    "while i < 6:\n",
    "    print(i)\n",
    "    i += 1\n"
   ]
  },
  {
   "cell_type": "code",
   "execution_count": 10,
   "metadata": {},
   "outputs": [
    {
     "name": "stdout",
     "output_type": "stream",
     "text": [
      "The Product Of All The Numbers In The List Is 120\n"
     ]
    }
   ],
   "source": [
    "numbers = [1, 2, 3, 4, 5]\n",
    "i, product = 0, 1\n",
    "while i < len(numbers):\n",
    "    product *= numbers[i]\n",
    "    i += 1\n",
    "print(\"The Product Of All The Numbers In The List Is {}\".format(product))\n"
   ]
  },
  {
   "attachments": {},
   "cell_type": "markdown",
   "metadata": {},
   "source": [
    "👉 A for loop is used for iterating over a sequence (that is either a list, a tuple, a dictionary, a set, or a string). <br>\n",
    "👉 This is less like the for keyword in other programming languages, and works more like an iterator method as found in other object-orientated programming languages. <br>\n",
    "👉 With the for loop we can execute a set of statements, once for each item in a list, tuple, set etc.\n"
   ]
  },
  {
   "cell_type": "code",
   "execution_count": 11,
   "metadata": {},
   "outputs": [
    {
     "name": "stdout",
     "output_type": "stream",
     "text": [
      "apple\n",
      "banana\n",
      "cherry\n"
     ]
    }
   ],
   "source": [
    "fruits = [\"apple\", \"banana\", \"cherry\"]\n",
    "for x in fruits:\n",
    "    print(x)\n"
   ]
  },
  {
   "cell_type": "code",
   "execution_count": 12,
   "metadata": {},
   "outputs": [
    {
     "name": "stdout",
     "output_type": "stream",
     "text": [
      "In The Range Of 1 And 20, These Are The Following Prime Numbers: [1, 2, 3, 5, 7, 11, 13, 17, 19]\n",
      "There Are 9 Prime Numbers Between 1 And 20\n"
     ]
    }
   ],
   "source": [
    "lower_range = int(input(\"Enter Lower Range\"))\n",
    "upper_range = int(input(\"Enter Upper Range\"))\n",
    "prime_numbers = []\n",
    "\n",
    "\n",
    "def prime_number_generator(n):\n",
    "    flag = True\n",
    "    if n > 1:\n",
    "        for i in range(2, n):\n",
    "            if n % i == 0:\n",
    "                flag = False\n",
    "                break\n",
    "\n",
    "    if flag:\n",
    "        prime_numbers.append(n)\n",
    "\n",
    "\n",
    "print(\"In The Range Of {} And {}, These Are The Following Prime Numbers: \".format(\n",
    "    lower_range, upper_range), end=\"\")\n",
    "for i in range(lower_range, upper_range + 1):\n",
    "    prime_number_generator(i)\n",
    "print(prime_numbers)\n",
    "print(\"There Are {} Prime Numbers Between {} And {}\".format(\n",
    "    len(prime_numbers), lower_range, upper_range))\n"
   ]
  },
  {
   "attachments": {},
   "cell_type": "markdown",
   "metadata": {},
   "source": [
    "<b>Chapter 6: Lists In Python</b>\n"
   ]
  },
  {
   "attachments": {},
   "cell_type": "markdown",
   "metadata": {},
   "source": [
    "👉 A list in Python is used to store the sequence of various types of data. Python lists are mutable type its mean we can modify its element after it created. However, Python consists of six data-types that are capable to store the sequences, but the most common and reliable type is the list.<br>\n",
    "👉 A list can be defined as a collection of values or items of different types. The items in the list are separated with the comma (,) and enclosed with the square brackets [].\n"
   ]
  },
  {
   "cell_type": "code",
   "execution_count": 13,
   "metadata": {},
   "outputs": [
    {
     "name": "stdout",
     "output_type": "stream",
     "text": [
      "[1, 2, 3, 4.5, 'Mayur']\n",
      "['Pai', '5']\n",
      "2\n",
      "[1, 2, 3, 4.5, 'Mayur', '6']\n",
      "[1, 2, 'B H', 3, 4.5, 'Mayur', '6']\n",
      "['5']\n",
      "[1, 2, 'B H', 3, 4.5, 'Mayur', '6', '5']\n",
      "[1, 2, 'B H', 3, 'Mayur', '6', '5']\n",
      "5\n",
      "[1, 2, 'B H', 3, 'Mayur', '6']\n",
      "[19, 17, 13, 11, 7, 5, 3, 2]\n",
      "[2, 3, 5, 7, 11, 13, 17, 19]\n",
      "[2, 3, 5, 7, 11, 13, 17, 19]\n",
      "[2, 5, 11, 17]\n",
      "[5, 11, 17]\n",
      "Yes\n",
      "No\n",
      "['My', 'Name', 'Is', 'Mayur', 'Pai']\n",
      "['My', 'Name', 'Is', 'Mayur', 'Pai', 2, 3, 5, 7, 11, 13, 17, 19]\n",
      "1\n",
      "[0, 1, 4, 9, 16, 25, 36, 49, 64, 81]\n",
      "[0, 1, 8, 27, 64, 125, 216, 343, 512, 729]\n",
      "[(0, 0), (1, 2), (2, 4), (3, 6), (4, 8), (5, 10), (6, 12), (7, 14), (8, 16), (9, 18)]\n"
     ]
    }
   ],
   "source": [
    "lists = [1, 2, 3, 4.5, \"Mayur\"]\n",
    "prime_numbers = [2, 3, 5, 7, 11, 13, 17, 19]\n",
    "print(lists)\n",
    "\n",
    "new_list = [\"Pai\", \"5\"]\n",
    "print(new_list)\n",
    "print(len(new_list))\n",
    "\n",
    "lists.append(\"6\")\n",
    "print(lists)\n",
    "\n",
    "lists.insert(2, \"B H\")\n",
    "print(lists)\n",
    "\n",
    "new_list.remove(\"Pai\")\n",
    "print(new_list)\n",
    "\n",
    "# new_list.append(list)\n",
    "# print(new_list)\n",
    "\n",
    "lists.extend(new_list)\n",
    "print(lists)\n",
    "\n",
    "del lists[4]\n",
    "print(lists)\n",
    "\n",
    "print(lists.pop())\n",
    "print(lists)\n",
    "prime_numbers.reverse()\n",
    "print(prime_numbers)\n",
    "prime_numbers.sort()\n",
    "print(prime_numbers)\n",
    "print(sorted(prime_numbers))\n",
    "print(prime_numbers[::2])\n",
    "print(prime_numbers[2::2])\n",
    "\n",
    "if \"Mayur\" in lists:\n",
    "    print(\"Yes\")\n",
    "\n",
    "if \"5\" not in lists:\n",
    "    print(\"No\")\n",
    "\n",
    "string = \"My Name Is Mayur Pai\"\n",
    "string_list = string.split()\n",
    "print(string_list)\n",
    "\n",
    "print(string_list + prime_numbers)\n",
    "\n",
    "print(prime_numbers.count(2))\n",
    "\n",
    "squares = []\n",
    "for i in range(0, 10):\n",
    "    squares.append(i*i)\n",
    "\n",
    "print(squares)\n",
    "\n",
    "cubes = [i*i*i for i in range(0, 10)]\n",
    "print(cubes)\n",
    "\n",
    "cordinates = [(i, 2*i) for i in range(10)]\n",
    "print(cordinates)\n"
   ]
  },
  {
   "attachments": {},
   "cell_type": "markdown",
   "metadata": {},
   "source": [
    "<b>Chapter 7: Tuples In Python</b>\n"
   ]
  },
  {
   "attachments": {},
   "cell_type": "markdown",
   "metadata": {},
   "source": [
    "👉 A Tuple is a collection of Python objects separated by commas. In someways a tuple is similar to a list in terms of indexing, nested objects and repetition but a tuple is immutable unlike lists which are mutable.\n"
   ]
  },
  {
   "cell_type": "code",
   "execution_count": 14,
   "metadata": {},
   "outputs": [
    {
     "name": "stdout",
     "output_type": "stream",
     "text": [
      "[1, 1, 2, 2, 3, 3, 4]\n",
      "(1, 2, 3, 4, 3, 2, 1)\n",
      "2\n",
      "(1, 2, 3, [4, 5], 'Six')\n",
      "1\n",
      "4\n",
      "[4, 5]\n",
      "5\n",
      "(1, 2, 3, [4, 'Five'], 'Six')\n",
      "(1, 2, 3, [4, 'Five'], 'Six', 1, 2, 3, [4, 'Five'], 'Six')\n",
      "<class 'str'>\n",
      "<class 'tuple'>\n",
      "<class 'str'>\n",
      "<class 'tuple'>\n"
     ]
    }
   ],
   "source": [
    "t = ()\n",
    "t = (1, 2, 3, 4, 3, 2, 1)\n",
    "print(sorted(t))\n",
    "print(t)\n",
    "print(t[1])\n",
    "t = (1, 2, 3, [4, 5], \"Six\")\n",
    "print(t)\n",
    "print(t.count(2))\n",
    "print(t.index(\"Six\"))\n",
    "print(t[3])\n",
    "print(t[3][1])\n",
    "t[3][1] = \"Five\"\n",
    "print(t)\n",
    "print(t*2)\n",
    "t = \"Mayur\"\n",
    "print(type(t))\n",
    "t = 'Mayur',\n",
    "print(type(t))\n",
    "t = ('Mayur')\n",
    "print(type(t))\n",
    "t = ('Mayur',)\n",
    "print(type(t))\n",
    "del t\n"
   ]
  },
  {
   "attachments": {},
   "cell_type": "markdown",
   "metadata": {},
   "source": [
    "<b>Chapter 8: String And Set</b>\n"
   ]
  },
  {
   "attachments": {},
   "cell_type": "markdown",
   "metadata": {},
   "source": [
    "👉 A string is a sequence of characters.<br>\n",
    "👉 A character is simply a symbol.\n"
   ]
  },
  {
   "cell_type": "code",
   "execution_count": 15,
   "metadata": {},
   "outputs": [
    {
     "name": "stdout",
     "output_type": "stream",
     "text": [
      "Hello\n",
      "Hello\n",
      "Hello\n",
      "HelloHelloHello\n",
      "2\n",
      "True\n",
      "True\n",
      "hello\n",
      "NEXT\n",
      "['My', 'Name', 'Is', 'Mayur']\n",
      "My_Name_Is_Mayur\n",
      "9\n",
      "Good Morning\n",
      "Bad Morning\n",
      "Good Morning\n",
      "Palindrome\n",
      "['r', 'a', 'c', 'e', 'c', 'a', 'r']\n",
      "2895089205152\n",
      "['Python', 'Program', 'To', 'Sort', 'Words', 'In', 'Alphabetical', 'Order']\n",
      "['Alphabetical', 'In', 'Order', 'Program', 'Python', 'Sort', 'To', 'Words']\n",
      "Alphabetical\n",
      "In\n",
      "Order\n",
      "Program\n",
      "Python\n",
      "Sort\n",
      "To\n",
      "Words\n"
     ]
    }
   ],
   "source": [
    "string = 'Hello'\n",
    "print(string)\n",
    "string = \"Hello\"\n",
    "print(string)\n",
    "string = \"\"\"Hello\"\"\"\n",
    "print(string)\n",
    "print(string*3)\n",
    "\n",
    "count = 0\n",
    "for i in string:\n",
    "    if i == 'l':\n",
    "        count += 1\n",
    "print(count)\n",
    "\n",
    "print('l' in 'Hello World')\n",
    "print('or' in 'Hello World')\n",
    "\n",
    "del string\n",
    "\n",
    "print(\"HELLO\".lower())\n",
    "print(\"next\".upper())\n",
    "print(\"My Name Is Mayur\".split())\n",
    "print('_'.join(['My', 'Name', 'Is', 'Mayur']))\n",
    "print(\"Good Morning\".find(\"in\"))\n",
    "print(\"Bad Morning\".replace(\"Bad\", \"Good\"))\n",
    "s1 = \"Bad Morning\"\n",
    "s2 = s1.replace(\"Bad\", \"Good\")\n",
    "print(s1)\n",
    "print(s2)\n",
    "\n",
    "\n",
    "myStr = \"RaceCar\"\n",
    "myStr = myStr.lower()\n",
    "revStr = reversed(myStr)\n",
    "if list(myStr) == list(revStr):\n",
    "    print(\"Palindrome\")\n",
    "else:\n",
    "    print(\"Not Palindrome\")\n",
    "\n",
    "print(list(myStr))\n",
    "print(id(revStr))\n",
    "\n",
    "\n",
    "myStr = \"Python Program To Sort Words In Alphabetical Order\"\n",
    "words = myStr.split()\n",
    "print(words)\n",
    "words.sort()\n",
    "print(words)\n",
    "for word in words:\n",
    "    print(word)\n"
   ]
  },
  {
   "attachments": {},
   "cell_type": "markdown",
   "metadata": {},
   "source": [
    "👉 Sets are used to store multiple items in a single variable.\n"
   ]
  },
  {
   "cell_type": "code",
   "execution_count": 16,
   "metadata": {},
   "outputs": [
    {
     "name": "stdout",
     "output_type": "stream",
     "text": [
      "{1, 2, 3}\n",
      "<class 'set'>\n",
      "{1, 2, 3, 4}\n",
      "{1, 2, 3, 4, 5}\n",
      "<class 'set'>\n",
      "{1, 2, 3}\n",
      "{1, 2, 3, 5, 6}\n",
      "{1, 2, 3, 5, 6, 8, 9, 10}\n",
      "{1, 2, 3, 4, 5}\n",
      "{1, 2, 3, 5}\n",
      "{1, 3, 5}\n",
      "{1, 3, 5}\n",
      "{2, 3, 4, 5}\n",
      "{3, 4, 5}\n",
      "set()\n",
      "{1, 2, 3, 4, 5, 6, 7}\n",
      "{1, 2, 3, 4, 5, 6, 7}\n",
      "{3, 4, 5}\n",
      "{3, 4, 5}\n",
      "{1, 2}\n",
      "{1, 2, 6, 7}\n",
      "Is X Subset Of Y? False\n",
      "Is Y Subset Of X? True\n",
      "frozenset({1, 2, 3, 4, 5, 6})\n",
      "frozenset({3, 4, 5, 6})\n",
      "frozenset({1, 2, 3, 4, 5, 6})\n",
      "frozenset({3, 4})\n",
      "frozenset({1, 2, 5, 6})\n",
      "frozenset({1, 2, 5, 6})\n"
     ]
    }
   ],
   "source": [
    "s = {1, 2, 3}\n",
    "print(s)\n",
    "print(type(s))\n",
    "\n",
    "s = {1, 2, 3, 1, 4}\n",
    "print(s)\n",
    "\n",
    "s = set([1, 2, 3, 1, 4, 5])\n",
    "print(s)\n",
    "\n",
    "s = set()\n",
    "print(type(s))\n",
    "\n",
    "s = {1, 3}\n",
    "# print(s[1])\n",
    "\n",
    "s.add(2)\n",
    "print(s)\n",
    "\n",
    "s.update([5, 6, 1])\n",
    "print(s)\n",
    "\n",
    "s.update([8, 9], {10, 2, 3})\n",
    "print(s)\n",
    "\n",
    "s = {1, 2, 3, 4, 5}\n",
    "print(s)\n",
    "s.discard(4)\n",
    "print(s)\n",
    "\n",
    "s.remove(2)\n",
    "print(s)\n",
    "\n",
    "# s.remove(7)\n",
    "\n",
    "s.discard(7)\n",
    "print(s)\n",
    "\n",
    "\n",
    "s = {1, 2, 3, 5, 4}\n",
    "s.pop()\n",
    "print(s)\n",
    "\n",
    "s.pop()\n",
    "print(s)\n",
    "\n",
    "s = {1, 5, 2, 3, 6}\n",
    "s.clear()\n",
    "print(s)\n",
    "\n",
    "set1 = {1, 2, 3, 4, 5}\n",
    "set2 = {3, 4, 5, 6, 7}\n",
    "print(set1 | set2)\n",
    "\n",
    "print(set1.union(set2))\n",
    "print(set1 & set2)\n",
    "print(set1.intersection(set2))\n",
    "print(set1 - set2)\n",
    "print(set1 ^ set2)\n",
    "\n",
    "x = {\"a\", \"b\", \"c\", \"d\", \"e\"}\n",
    "y = {\"c\", \"d\"}\n",
    "\n",
    "print(\"Is X Subset Of Y?\", x.issubset(y))\n",
    "\n",
    "print(\"Is Y Subset Of X?\", y.issubset(x))\n",
    "\n",
    "set1 = frozenset([1, 2, 3, 4])\n",
    "set2 = frozenset([3, 4, 5, 6])\n",
    "# set1.add(5)\n",
    "\n",
    "# print(set1[1])\n",
    "\n",
    "print(set1 | set2)\n",
    "print(set2 & set2)\n",
    "\n",
    "print(set1.union(set2))\n",
    "print(set1.intersection(set2))\n",
    "\n",
    "print(set1 ^ set2)\n",
    "print(set1.symmetric_difference(set2))\n"
   ]
  },
  {
   "attachments": {},
   "cell_type": "markdown",
   "metadata": {},
   "source": [
    "<b>Chapter 9: Dictionary</b>\n"
   ]
  },
  {
   "attachments": {},
   "cell_type": "markdown",
   "metadata": {},
   "source": [
    "👉 A function is a block of code which only runs when it is called. <br>\n",
    "👉 You can pass data, known as parameters, into a function. A function can return data as a result.\n"
   ]
  },
  {
   "cell_type": "code",
   "execution_count": 17,
   "metadata": {},
   "outputs": [
    {
     "name": "stdout",
     "output_type": "stream",
     "text": [
      "{'Name': 'Mayur', 'Age': 23, 'Salary': 'XXXXXX'}\n",
      "Mayur\n",
      "{'Name': 'Mayur', 'Salary': 'XXXXXX'}\n",
      "{'Name': 'Mayur', 'Salary': 'XXXXXX', 'Age': 24, 'Mobile': 9611609185}\n",
      "24\n",
      "{'Name': 'Mayur', 'Salary': 'XXXXXX', 'Mobile': 9611609185}\n",
      "('Mobile', 9611609185)\n",
      "{'Name': 'Mayur', 'Salary': 'XXXXXX'}\n",
      "{'List': [1, 2, 3]}\n",
      "[1, 2, 3]\n",
      "{}\n",
      "{'first_name': 'Mayur', 'last_name': 'Pai'}\n",
      "None\n",
      "{2: 4, 3: 9, 4: 16, 5: 25}\n",
      "{'Math': 0, 'English': 0, 'Hindi': 0}\n",
      "dict_items([(2, 4), (3, 9), (4, 16), (5, 25)])\n",
      "dict_keys([2, 3, 4, 5])\n",
      "dict_values([4, 9, 16, 25])\n",
      "['__class__', '__class_getitem__', '__contains__', '__delattr__', '__delitem__', '__dir__', '__doc__', '__eq__', '__format__', '__ge__', '__getattribute__', '__getitem__', '__gt__', '__hash__', '__init__', '__init_subclass__', '__ior__', '__iter__', '__le__', '__len__', '__lt__', '__ne__', '__new__', '__or__', '__reduce__', '__reduce_ex__', '__repr__', '__reversed__', '__ror__', '__setattr__', '__setitem__', '__sizeof__', '__str__', '__subclasshook__', 'clear', 'copy', 'fromkeys', 'get', 'items', 'keys', 'pop', 'popitem', 'setdefault', 'update', 'values']\n",
      "('a', 1)\n",
      "('b', 2)\n",
      "('c', 3)\n",
      "{'c': 3, 'd': 4}\n",
      "{'cc': 6, 'dc': 8, 'ec': 10}\n"
     ]
    }
   ],
   "source": [
    "my_dict = {}\n",
    "\n",
    "my_dict = {\"Name\": \"Mayur\", \"Age\": 23, \"Salary\": \"XXXXXX\"}\n",
    "print(my_dict)\n",
    "print(my_dict[\"Name\"])\n",
    "del my_dict[\"Age\"]\n",
    "print(my_dict)\n",
    "\n",
    "my_dict[\"Age\"] = 24\n",
    "my_dict[\"Mobile\"] = 9611609185\n",
    "print(my_dict)\n",
    "\n",
    "print(my_dict.pop(\"Age\"))\n",
    "print(my_dict)\n",
    "\n",
    "print(my_dict.popitem())\n",
    "print(my_dict)\n",
    "\n",
    "my_dict = {\"List\": [1, 2, 3]}\n",
    "print(my_dict)\n",
    "print(my_dict.get(\"List\"))\n",
    "\n",
    "my_dict = dict()\n",
    "print(my_dict)\n",
    "\n",
    "my_dict = dict([(\"first_name\", \"Mayur\"), (\"last_name\", \"Pai\")])\n",
    "print(my_dict)\n",
    "my_dict.clear()\n",
    "print(my_dict.get(\"Name\"))\n",
    "# print(my_dict[\"Name\"])\n",
    "\n",
    "\n",
    "squares = {2: 4, 3: 9, 4: 16, 5: 25}\n",
    "my_dict = squares.copy()\n",
    "print(my_dict)\n",
    "\n",
    "subjects = {}.fromkeys(['Math', 'English', 'Hindi'], 0)\n",
    "print(subjects)\n",
    "\n",
    "subjects = {2: 4, 3: 9, 4: 16, 5: 25}\n",
    "print(subjects.items())\n",
    "\n",
    "subjects = {2: 4, 3: 9, 4: 16, 5: 25}\n",
    "print(subjects.keys())\n",
    "\n",
    "subjects = {2: 4, 3: 9, 4: 16, 5: 25}\n",
    "print(subjects.values())\n",
    "\n",
    "d = {}\n",
    "print(dir(d))\n",
    "\n",
    "d = {'a': 1, 'b': 2, 'c': 3}\n",
    "for pair in d.items():\n",
    "    print(pair)\n",
    "\n",
    "d = {'a': 1, 'b': 2, 'c': 3, 'd': 4}\n",
    "new_dict = {k: v for k, v in d.items() if v > 2}\n",
    "print(new_dict)\n",
    "\n",
    "d = {'a': 1, 'b': 2, 'c': 3, 'd': 4, 'e': 5}\n",
    "d = {k + 'c': v * 2 for k, v in d.items() if v > 2}\n",
    "print(d)\n"
   ]
  },
  {
   "attachments": {},
   "cell_type": "markdown",
   "metadata": {},
   "source": [
    "<b>Chapter 10: Functions</b>\n"
   ]
  },
  {
   "attachments": {},
   "cell_type": "markdown",
   "metadata": {},
   "source": [
    "👉 A function is a block of code which only runs when it is called. <br>\n",
    "👉 You can pass data, known as parameters, into a function. <br>\n",
    "👉 A function can return data as a result. <br>\n"
   ]
  },
  {
   "cell_type": "code",
   "execution_count": 18,
   "metadata": {},
   "outputs": [
    {
     "name": "stdout",
     "output_type": "stream",
     "text": [
      "Hello Mayur\n",
      "\n",
      "    Write A Name Function\n",
      "    \n",
      "Good Morning Mayur\n",
      "Good Morning Mayur Pai\n",
      "15\n",
      "1\n",
      "2\n",
      "2\n",
      "H.C.F of 98 and 78 is 2\n",
      "2\n",
      "100\n",
      "True\n",
      "False\n",
      "True\n",
      "False\n",
      "['__add__', '__class__', '__class_getitem__', '__contains__', '__delattr__', '__delitem__', '__dir__', '__doc__', '__eq__', '__format__', '__ge__', '__getattribute__', '__getitem__', '__gt__', '__hash__', '__iadd__', '__imul__', '__init__', '__init_subclass__', '__iter__', '__le__', '__len__', '__lt__', '__mul__', '__ne__', '__new__', '__reduce__', '__reduce_ex__', '__repr__', '__reversed__', '__rmul__', '__setattr__', '__setitem__', '__sizeof__', '__str__', '__subclasshook__', 'append', 'clear', 'copy', 'count', 'extend', 'index', 'insert', 'pop', 'remove', 'reverse', 'sort']\n",
      "(4, 1)\n",
      "index 5 has value 10\n",
      "index 6 has value 20\n",
      "index 7 has value 30\n",
      "index 8 has value 40\n",
      "[-10, -9, -8, -7, -6, -5, -4, -3, -2, -1, 0, 1, 2, 3, 4, 5, 6, 7, 8, 9]\n",
      "[1, 2, 3, 4, 5, 6, 7, 8, 9]\n",
      "True\n",
      "False\n",
      "[1, 4, 9, 16, 25]\n",
      "[1, 4, 9, 16, 25]\n",
      "24\n",
      "24\n",
      "10\n",
      "10\n",
      "[1, 4, 9, 16, 25]\n",
      "[2, 4]\n",
      "120\n",
      "Factorial of 5 is 120\n",
      "Fibonacci Sequence: \n",
      "0\n",
      "1\n",
      "1\n",
      "2\n",
      "3\n",
      "5\n",
      "8\n",
      "13\n",
      "21\n",
      "34\n",
      "40320\n",
      "mayur\n"
     ]
    }
   ],
   "source": [
    "from functools import reduce\n",
    "\n",
    "\n",
    "def write_name(name):\n",
    "    \"\"\"\n",
    "    Write A Name Function\n",
    "    \"\"\"\n",
    "    print(\"Hello \" + name)\n",
    "\n",
    "\n",
    "write_name(\"Mayur\")\n",
    "\n",
    "print(write_name.__doc__)\n",
    "\n",
    "\n",
    "def greeting(name=\"Mayur\"): return \"Good Morning \" + name\n",
    "\n",
    "\n",
    "print(greeting())\n",
    "print(greeting(\"Mayur Pai\"))\n",
    "\n",
    "\n",
    "def sum_calculator(lst):\n",
    "    \"\"\"\n",
    "    Pass List, Return Sum\n",
    "    \"\"\"\n",
    "    sum = 0\n",
    "    for num in lst:\n",
    "        sum = sum + num\n",
    "    return sum\n",
    "\n",
    "\n",
    "s = sum_calculator([1, 2, 3, 4, 5])\n",
    "print(s)\n",
    "\n",
    "global_var = \"2\"\n",
    "\n",
    "\n",
    "def test_life_time():\n",
    "    \"\"\"\n",
    "    Local & Global Variables Check\n",
    "    \"\"\"\n",
    "    local_var = \"1\"\n",
    "    print(local_var)\n",
    "    print(global_var)\n",
    "\n",
    "\n",
    "test_life_time()\n",
    "print(global_var)\n",
    "# print(local_var)\n",
    "\n",
    "\n",
    "def HCF(a, b):\n",
    "    \"\"\"\n",
    "    HCF Calculator\n",
    "    \"\"\"\n",
    "    if a > b:\n",
    "        k = b\n",
    "    else:\n",
    "        k = a\n",
    "\n",
    "    smaller = k\n",
    "    hcf = 1\n",
    "    for i in range(1, smaller + 1):\n",
    "        if(a % i == 0) and (b % i == 0):\n",
    "            hcf = i\n",
    "    return hcf\n",
    "\n",
    "\n",
    "num1 = 98\n",
    "num2 = 78\n",
    "\n",
    "print(\"H.C.F of {0} and {1} is {2}\".format(num1, num2, HCF(num1, num2)))\n",
    "\n",
    "\n",
    "def gcd(a, b):\n",
    "    if b == 0:\n",
    "        return a\n",
    "    return gcd(b, a % b)\n",
    "\n",
    "\n",
    "print(gcd(98, 78))\n",
    "\n",
    "num = -100\n",
    "print(abs(num))\n",
    "\n",
    "lst = [1, 2, 3, 4]\n",
    "print(all(lst))\n",
    "\n",
    "lst = [0, 1, 2, 3, 4]\n",
    "print(all(lst))\n",
    "\n",
    "lst = []\n",
    "print(all(lst))\n",
    "\n",
    "lst = [False, 1, 2]\n",
    "print(all(lst))\n",
    "\n",
    "numbers = [1, 2, 3]\n",
    "print(dir(numbers))\n",
    "\n",
    "print(divmod(9, 2))\n",
    "\n",
    "numbers = [10, 20, 30, 40]\n",
    "for index, num in enumerate(numbers, 5):\n",
    "    print(\"index {0} has value {1}\".format(index, num))\n",
    "\n",
    "\n",
    "def positive_number(num):\n",
    "    \"\"\"Posotive Number Filter\"\"\"\n",
    "    if num > 0:\n",
    "        return num\n",
    "\n",
    "\n",
    "num_list = range(-10, 10)\n",
    "print(list(num_list))\n",
    "positive_no_list = list(filter(positive_number, num_list))\n",
    "print(positive_no_list)\n",
    "\n",
    "lst = [1, 2, 3, 4, 5]\n",
    "print(isinstance(lst, list))\n",
    "\n",
    "t = (1, 2, 3, 4, 5)\n",
    "print(isinstance(t, list))\n",
    "\n",
    "numbers = [1, 2, 3, 4, 5]\n",
    "squared = []\n",
    "for num in numbers:\n",
    "    squared.append(num**2)\n",
    "print(squared)\n",
    "\n",
    "\n",
    "def power_func(num):\n",
    "    return num**2\n",
    "\n",
    "\n",
    "squared = list(map(power_func, numbers))\n",
    "print(squared)\n",
    "\n",
    "product = 1\n",
    "lst = [1, 2, 3, 4]\n",
    "for num in lst:\n",
    "    product *= num\n",
    "print(product)\n",
    "\n",
    "# from functools import reduce\n",
    "\n",
    "\n",
    "def multiply(x, y):\n",
    "    return x*y\n",
    "\n",
    "\n",
    "product = reduce(multiply, lst)\n",
    "print(product)\n",
    "\n",
    "\n",
    "def double(x):\n",
    "    return x*2\n",
    "\n",
    "\n",
    "print(double(5))\n",
    "\n",
    "\n",
    "def double(x): return x*2\n",
    "\n",
    "\n",
    "print(double(5))\n",
    "\n",
    "lst = [1, 2, 3, 4, 5]\n",
    "new_lst = list(map(lambda x: x**2, lst))\n",
    "print(new_lst)\n",
    "\n",
    "lst = [1, 2, 3, 4, 5]\n",
    "even_list = list(filter(lambda x: (x % 2 == 0), lst))\n",
    "print(even_list)\n",
    "\n",
    "lst = [1, 2, 3, 4, 5]\n",
    "product_lst = reduce(lambda x, y: x*y, lst)\n",
    "print(product_lst)\n",
    "\n",
    "\n",
    "def factorial(num):\n",
    "    \"\"\"\n",
    "    Recursive Function To Find The Factorial Of A Given Number\n",
    "    \"\"\"\n",
    "    return 1 if num == 1 else (num * factorial(num - 1))\n",
    "\n",
    "\n",
    "num = 5\n",
    "print(\"Factorial of {0} is {1}\".format(num, factorial(num)))\n",
    "\n",
    "\n",
    "def fibo(n):\n",
    "    if n <= 1:\n",
    "        return n\n",
    "    else:\n",
    "        return(fibo(n-1) + fibo(n-2))\n",
    "\n",
    "\n",
    "nterms = 10\n",
    "if nterms <= 0:\n",
    "    print(\"Plese Enter A Positive Integer\")\n",
    "else:\n",
    "    print(\"Fibonacci Sequence: \")\n",
    "    for i in range(nterms):\n",
    "        print(fibo(i))\n",
    "\n",
    "\n",
    "def f(n): return n*f(n-1) if n > 0 else 1\n",
    "\n",
    "\n",
    "print(f(8))\n",
    "\n",
    "s = input(\"Enter A String\")\n",
    "s1 = \"\"\n",
    "i = 0\n",
    "for x in s:\n",
    "    if(s.index(x) == i):\n",
    "        s1 += x\n",
    "    i += 1\n",
    "print(s1)\n"
   ]
  },
  {
   "attachments": {},
   "cell_type": "markdown",
   "metadata": {},
   "source": [
    "<b>Chapter 11: Python Programs</b>\n"
   ]
  },
  {
   "cell_type": "code",
   "execution_count": 19,
   "metadata": {},
   "outputs": [
    {
     "name": "stdout",
     "output_type": "stream",
     "text": [
      "2000 Is A Leap Year\n"
     ]
    }
   ],
   "source": [
    "# Leap Year\n",
    "\n",
    "n = int(input(\"Enter The Year\"))\n",
    "if n % 400 == 0:\n",
    "    print(str(n) + \" Is A Leap Year\")\n",
    "elif n % 4 == 0 and n % 100 != 0:\n",
    "    print(str(n) + \" Is A Leap Year\")\n",
    "else:\n",
    "    print(str(n) + \" Is Not A Leap Year\")\n"
   ]
  },
  {
   "cell_type": "code",
   "execution_count": 20,
   "metadata": {},
   "outputs": [
    {
     "name": "stdout",
     "output_type": "stream",
     "text": [
      "[1]\n"
     ]
    }
   ],
   "source": [
    "# Remove Duplicates\n",
    "\n",
    "numbers = [eval(x) for x in input().split()]\n",
    "print(list(set(numbers)))\n"
   ]
  },
  {
   "cell_type": "code",
   "execution_count": 21,
   "metadata": {},
   "outputs": [
    {
     "name": "stdout",
     "output_type": "stream",
     "text": [
      "[1, 2, 3, 4, 5, 6, 7, 8, 9, 10]\n"
     ]
    }
   ],
   "source": [
    "# Print First Natural Numbers\n",
    "\n",
    "print(list(range(1, 11)))\n"
   ]
  },
  {
   "cell_type": "code",
   "execution_count": 22,
   "metadata": {},
   "outputs": [
    {
     "name": "stdout",
     "output_type": "stream",
     "text": [
      "[4, 3, 2, 1]\n"
     ]
    }
   ],
   "source": [
    "# Reverse A Tuple\n",
    "\n",
    "t = (1, 2, 3, 4)\n",
    "reverse_tuple = list(reversed(list(t)))\n",
    "print(reverse_tuple)\n"
   ]
  },
  {
   "cell_type": "code",
   "execution_count": 23,
   "metadata": {},
   "outputs": [
    {
     "name": "stdout",
     "output_type": "stream",
     "text": [
      "23\n"
     ]
    }
   ],
   "source": [
    "# Print Next Prime\n",
    "\n",
    "def Nextprime(n):\n",
    "    while True:\n",
    "        n += 1\n",
    "        for i in range(2, n):\n",
    "            if n % i == 0:\n",
    "                break\n",
    "        else:\n",
    "            return n\n",
    "\n",
    "\n",
    "print(Nextprime(19))\n"
   ]
  },
  {
   "cell_type": "code",
   "execution_count": 24,
   "metadata": {},
   "outputs": [
    {
     "name": "stdout",
     "output_type": "stream",
     "text": [
      "40320\n"
     ]
    }
   ],
   "source": [
    "# Single Line Factorial\n",
    "\n",
    "def f(n): return n*f(n-1) if n > 0 else 1\n",
    "\n",
    "\n",
    "print(f(8))\n"
   ]
  },
  {
   "cell_type": "code",
   "execution_count": 25,
   "metadata": {},
   "outputs": [
    {
     "name": "stdout",
     "output_type": "stream",
     "text": [
      "55\n"
     ]
    }
   ],
   "source": [
    "# Sum Of Squares Using Recursion\n",
    "\n",
    "def sqaures_calculator(n):\n",
    "    if n == 1:\n",
    "        return 1\n",
    "    return n**2 + sqaures_calculator(n-1)\n",
    "\n",
    "\n",
    "print(sqaures_calculator(5))\n"
   ]
  },
  {
   "cell_type": "code",
   "execution_count": 26,
   "metadata": {},
   "outputs": [
    {
     "name": "stdout",
     "output_type": "stream",
     "text": [
      "Mayur ruyaM\n"
     ]
    }
   ],
   "source": [
    "# Reverse A String Using Slicing\n",
    "\n",
    "string_one = \"Mayur\"\n",
    "string_two = string_one[::-1]\n",
    "print(string_one, string_two)\n"
   ]
  },
  {
   "cell_type": "code",
   "execution_count": 27,
   "metadata": {},
   "outputs": [
    {
     "name": "stdout",
     "output_type": "stream",
     "text": [
      "mayur "
     ]
    },
    {
     "ename": "SyntaxError",
     "evalue": "invalid syntax (<string>, line 1)",
     "output_type": "error",
     "traceback": [
      "Traceback \u001b[1;36m(most recent call last)\u001b[0m:\n",
      "  File \u001b[0;32mc:\\Users\\Admin\\AppData\\Local\\Programs\\Python\\Python310\\lib\\site-packages\\IPython\\core\\interactiveshell.py:3398\u001b[0m in \u001b[0;35mrun_code\u001b[0m\n    exec(code_obj, self.user_global_ns, self.user_ns)\n",
      "  Input \u001b[0;32mIn [27]\u001b[0m in \u001b[0;35m<cell line: 5>\u001b[0m\n    l = [eval(x) for x in sorted(input(\"Enter Numbers\").split(','))]\n",
      "\u001b[1;36m  Input \u001b[1;32mIn [27]\u001b[1;36m in \u001b[1;35m<listcomp>\u001b[1;36m\u001b[0m\n\u001b[1;33m    l = [eval(x) for x in sorted(input(\"Enter Numbers\").split(','))]\u001b[0m\n",
      "\u001b[1;36m  File \u001b[1;32m<string>:1\u001b[1;36m\u001b[0m\n\u001b[1;33m    1 10 12 1 2\u001b[0m\n\u001b[1;37m      ^\u001b[0m\n\u001b[1;31mSyntaxError\u001b[0m\u001b[1;31m:\u001b[0m invalid syntax\n"
     ]
    }
   ],
   "source": [
    "# Sort In Dictionary Order\n",
    "\n",
    "[x for x in sorted(input(\"Enter Names\").split()) if print(x, end=' ')]\n",
    "\n",
    "l = [eval(x) for x in sorted(input(\"Enter Numbers\").split(','))]\n",
    "print(l)\n"
   ]
  },
  {
   "attachments": {},
   "cell_type": "markdown",
   "metadata": {},
   "source": [
    "<b>Chapter 12: OOPS Concept In Python</b>\n"
   ]
  },
  {
   "attachments": {},
   "cell_type": "markdown",
   "metadata": {},
   "source": [
    "Classes & Objects :\n",
    "\n",
    "👉 Python is an object oriented programming language. <br>\n",
    "👉 Almost everything in Python is an object, with its properties and methods. <br>\n",
    "👉 A Class is like an object constructor, or a \"blueprint\" for creating objects. <br>\n"
   ]
  },
  {
   "attachments": {},
   "cell_type": "markdown",
   "metadata": {},
   "source": [
    "**init**() Function:\n",
    "\n",
    "👉 The examples above are classes and objects in their simplest form, and are not really useful in real life applications. <br>\n",
    "👉 To understand the meaning of classes we have to understand the built-in **init**() function. <br>\n",
    "👉 All classes have a function called **init**(), which is always executed when the class is being initiated. <br>\n",
    "👉 Use the **init**() function to assign values to object properties, or other operations that are necessary to do when the object is being created <br>\n"
   ]
  },
  {
   "cell_type": "code",
   "execution_count": null,
   "metadata": {},
   "outputs": [
    {
     "name": "stdout",
     "output_type": "stream",
     "text": [
      "Call\n",
      "Game\n"
     ]
    }
   ],
   "source": [
    "class Phone:\n",
    "    def call(self):\n",
    "        print(\"Call\")\n",
    "\n",
    "    def game(self):\n",
    "        print(\"Game\")\n",
    "\n",
    "\n",
    "p1 = Phone()\n",
    "p1.call()\n",
    "p1.game()\n"
   ]
  },
  {
   "cell_type": "code",
   "execution_count": null,
   "metadata": {},
   "outputs": [
    {
     "name": "stdout",
     "output_type": "stream",
     "text": [
      "Call\n",
      "Game\n"
     ]
    }
   ],
   "source": [
    "class Phone:\n",
    "    def set_color(self, color):\n",
    "        self.color = color\n",
    "\n",
    "    def set_cost(self, cost):\n",
    "        self.cost = cost\n",
    "\n",
    "    def show_color(self):\n",
    "        return self.color\n",
    "\n",
    "    def show_cost(self):\n",
    "        return self.cost\n",
    "\n",
    "    def call(self):\n",
    "        print(\"Call\")\n",
    "\n",
    "    def game(self):\n",
    "        print(\"Game\")\n",
    "\n",
    "\n",
    "p2 = Phone()\n",
    "p2.set_color(\"white\")\n",
    "p2.set_cost(20000)\n",
    "p2.show_color()\n",
    "p2.show_cost()\n",
    "p2.call()\n",
    "p2.game()\n"
   ]
  },
  {
   "cell_type": "code",
   "execution_count": null,
   "metadata": {},
   "outputs": [
    {
     "name": "stdout",
     "output_type": "stream",
     "text": [
      "Name Of Employee Is:  Chintu\n",
      "Age Of Employee Is:  25\n",
      "Salary Of Employee Is:  100000\n",
      "Gender Of Employee Is:  Male\n"
     ]
    }
   ],
   "source": [
    "# creating a class with constructor\n",
    "class Employee:\n",
    "\n",
    "    def __init__(self, name, age, salary, gender):\n",
    "        self.name = name\n",
    "        self.age = age\n",
    "        self.salary = salary\n",
    "        self.gender = gender\n",
    "\n",
    "    def employee_details(self):\n",
    "        print(\"Name Of Employee Is: \", self.name)\n",
    "        print(\"Age Of Employee Is: \", self.age)\n",
    "        print(\"Salary Of Employee Is: \", self.salary)\n",
    "        print(\"Gender Of Employee Is: \", self.gender)\n",
    "\n",
    "\n",
    "e1 = Employee(\"Chintu\", 25, 100000, \"Male\")\n",
    "e1.employee_details()\n"
   ]
  },
  {
   "attachments": {},
   "cell_type": "markdown",
   "metadata": {},
   "source": [
    "<b>Types Of Variables</b>\n"
   ]
  },
  {
   "cell_type": "code",
   "execution_count": null,
   "metadata": {},
   "outputs": [
    {
     "name": "stdout",
     "output_type": "stream",
     "text": [
      "KIA 8 6\n",
      "KIA 10 6\n"
     ]
    }
   ],
   "source": [
    "class Car:\n",
    "    wheels = 4\n",
    "\n",
    "    def __init__(self):\n",
    "        self.mil = 10\n",
    "        self.comp = \"KIA\"\n",
    "\n",
    "\n",
    "c1 = Car()\n",
    "c2 = Car()\n",
    "c1.mil = 8\n",
    "Car.wheels = 6\n",
    "print(c1.comp, c1.mil, c1.wheels)\n",
    "print(c2.comp, c2.mil, c2.wheels)\n"
   ]
  },
  {
   "attachments": {},
   "cell_type": "markdown",
   "metadata": {},
   "source": [
    "<b>Polymorphism</b>\n"
   ]
  },
  {
   "cell_type": "code",
   "execution_count": null,
   "metadata": {},
   "outputs": [
    {
     "name": "stdout",
     "output_type": "stream",
     "text": [
      "Compiling\n",
      "Running\n"
     ]
    }
   ],
   "source": [
    "class Pycharm:\n",
    "    def execute(self):\n",
    "        print(\"Compiling\")\n",
    "        print(\"Running\")\n",
    "\n",
    "\n",
    "class Intellij:\n",
    "    def execute(self):\n",
    "        print(\"Compiling\")\n",
    "        print(\"Running\")\n",
    "        print(\"Debugging\")\n",
    "        print(\"Code Runner\")\n",
    "\n",
    "\n",
    "class Laptop:\n",
    "    def code(self, ide):\n",
    "        ide.execute()\n",
    "\n",
    "\n",
    "ide = Pycharm()\n",
    "\n",
    "lap1 = Laptop()\n",
    "lap1.code(ide)\n"
   ]
  },
  {
   "cell_type": "code",
   "execution_count": null,
   "metadata": {},
   "outputs": [
    {
     "name": "stdout",
     "output_type": "stream",
     "text": [
      "function p in A\n",
      "function p in B\n",
      "*********************\n",
      "function p in A\n",
      "function p in B\n"
     ]
    }
   ],
   "source": [
    "# Class Level Polymorphism\n",
    "class A:\n",
    "    def p(self):\n",
    "        return \"function p in A\"\n",
    "\n",
    "\n",
    "class B:\n",
    "    def p(self):\n",
    "        return \"function p in B\"\n",
    "\n",
    "\n",
    "a = A()\n",
    "b = B()\n",
    "\n",
    "for i in (a, b):\n",
    "    print(i.p())  # function that runs depends on the object\n",
    "\n",
    "print(\"*********************\")\n",
    "\n",
    "x = a\n",
    "print(x.p())\n",
    "\n",
    "x = b\n",
    "print(x.p())\n"
   ]
  },
  {
   "attachments": {},
   "cell_type": "markdown",
   "metadata": {},
   "source": [
    "<b>Operator Overloading</b>\n"
   ]
  },
  {
   "cell_type": "code",
   "execution_count": null,
   "metadata": {},
   "outputs": [
    {
     "name": "stdout",
     "output_type": "stream",
     "text": [
      "173\n",
      "116\n"
     ]
    }
   ],
   "source": [
    "class Student:\n",
    "    def __init__(self, m1, m2):\n",
    "        self.m1 = m1\n",
    "        self.m2 = m2\n",
    "\n",
    "    def __add__(self, other):\n",
    "        m1 = self.m1 + other.m1\n",
    "        m2 = self.m2 + other.m2\n",
    "        s3 = Student(m1, m2)\n",
    "        return s3\n",
    "\n",
    "\n",
    "s1 = Student(98, 59)\n",
    "s2 = Student(75, 57)\n",
    "s3 = s1 + s2\n",
    "print(s3.m1)\n",
    "print(s3.m2)\n"
   ]
  },
  {
   "attachments": {},
   "cell_type": "markdown",
   "metadata": {},
   "source": [
    "<b>Inheritance</b>\n"
   ]
  },
  {
   "cell_type": "code",
   "execution_count": null,
   "metadata": {},
   "outputs": [
    {
     "name": "stdout",
     "output_type": "stream",
     "text": [
      "Vehicle\n",
      "Mileage:  10\n",
      "Cost:  100000\n",
      "Vehicle\n",
      "Mileage:  25\n",
      "Cost:  1000000\n",
      "Kia Seltos\n",
      "Creta\n",
      "no. of tyres: 4\n",
      "Horse Power: 300\n"
     ]
    }
   ],
   "source": [
    "class vehicle:\n",
    "    def __init__(self, mileage, cost):\n",
    "        self.mileage = mileage\n",
    "        self.cost = cost\n",
    "\n",
    "    def show_details(self):\n",
    "        print(\"Vehicle\")\n",
    "        print(\"Mileage: \", self.mileage)\n",
    "        print(\"Cost: \", self.cost)\n",
    "\n",
    "\n",
    "v1 = vehicle(10, 100000)\n",
    "v1.show_details()\n",
    "\n",
    "\n",
    "class car(vehicle):\n",
    "    def show_car(self):\n",
    "        print(\"Kia Seltos\")\n",
    "\n",
    "\n",
    "c1 = car(25, 1000000)\n",
    "\n",
    "c1.show_details()\n",
    "c1.show_car()\n",
    "\n",
    "# Overriding init Method\n",
    "\n",
    "\n",
    "class car(vehicle):\n",
    "    def __init__(self, mileage, cost, tyres, hp):\n",
    "        super().__init__(mileage, cost)\n",
    "        self.tyres = tyres\n",
    "        self.hp = hp\n",
    "\n",
    "    def show_car(self):\n",
    "        print(\"Creta\")\n",
    "        print(\"no. of tyres:\", self.tyres)\n",
    "        print(\"Horse Power:\", self.hp)\n",
    "\n",
    "\n",
    "c3 = car(20, 1200000, 4, 300)\n",
    "\n",
    "c3.show_car()\n"
   ]
  },
  {
   "attachments": {},
   "cell_type": "markdown",
   "metadata": {},
   "source": [
    "<b>Multiple Inheritance</b>\n"
   ]
  },
  {
   "cell_type": "code",
   "execution_count": null,
   "metadata": {},
   "outputs": [
    {
     "name": "stdout",
     "output_type": "stream",
     "text": [
      "C ka explore hu\n"
     ]
    }
   ],
   "source": [
    "class Parent1:\n",
    "    def assign_string_one(self, str1):\n",
    "        self.str1 = str1\n",
    "\n",
    "    def show_string_one(self):\n",
    "        return self.str1\n",
    "\n",
    "\n",
    "class Parent2:\n",
    "    def assign_string_two(self, str2):\n",
    "        self.str2 = str2\n",
    "\n",
    "    def show_string_two(self):\n",
    "        return self.str2\n",
    "\n",
    "\n",
    "class Child(Parent1, Parent2):\n",
    "    def assign_string_three(self, str3):\n",
    "        self.str3 = str3\n",
    "\n",
    "    def show_string_three(self):\n",
    "        return self.str3\n",
    "\n",
    "\n",
    "mera_child = Child()\n",
    "\n",
    "mera_child.assign_string_one(\"parent 1 ka string hu\")\n",
    "mera_child.assign_string_two(\"parent 2 ka string hu\")\n",
    "mera_child.assign_string_three(\"child ka string hu\")\n",
    "mera_child.show_string_one()\n",
    "mera_child.show_string_two()\n",
    "mera_child.show_string_three()\n",
    "\n",
    "# Deadly Diamond/Diamond interface\n",
    "\n",
    "\n",
    "class A:\n",
    "    def explore(self):\n",
    "        print(\"A ka explore hu\")\n",
    "\n",
    "\n",
    "class B(A):\n",
    "    pass\n",
    "    # def explore(self):\n",
    "    #print(\"B ka explore hu\")\n",
    "\n",
    "\n",
    "class C(A):\n",
    "    def explore(self):\n",
    "        print(\"C ka explore hu\")\n",
    "\n",
    "\n",
    "class D(B, C):  # multiple inheritance\n",
    "    pass\n",
    "\n",
    "\n",
    "d_obj = D()\n",
    "d_obj.explore()\n"
   ]
  },
  {
   "attachments": {},
   "cell_type": "markdown",
   "metadata": {},
   "source": [
    "<b>Multi Level Inheritance</b>\n"
   ]
  },
  {
   "cell_type": "code",
   "execution_count": null,
   "metadata": {},
   "outputs": [],
   "source": [
    "class Parent:\n",
    "    def get_name(self, name):\n",
    "        self.name = name\n",
    "\n",
    "    def show_name(self):\n",
    "        return self.name\n"
   ]
  },
  {
   "attachments": {},
   "cell_type": "markdown",
   "metadata": {},
   "source": [
    "<b>Polymorphism & Inheritance</b>\n"
   ]
  },
  {
   "cell_type": "code",
   "execution_count": null,
   "metadata": {},
   "outputs": [],
   "source": [
    "class Parent:\n",
    "    def get_name(self, name):\n",
    "        self.name = name\n",
    "\n",
    "    def show_name(self):\n",
    "        return self.name\n",
    "\n",
    "\n",
    "class Child(Parent):\n",
    "    def get_age(self, age):\n",
    "        self.age = age\n",
    "\n",
    "    def show_age(self):\n",
    "        return self.age\n",
    "\n",
    "\n",
    "class GrandChild(Child):\n",
    "    def get_gender(self, gender):\n",
    "        self.gender = gender\n",
    "\n",
    "    def show_gender(self):\n",
    "        return self.gender\n",
    "\n",
    "\n",
    "gc = GrandChild()\n",
    "gc.get_name(\"Chintu\")\n",
    "gc.get_age(24)\n",
    "gc.get_gender(\"Male\")\n"
   ]
  },
  {
   "cell_type": "code",
   "execution_count": null,
   "metadata": {},
   "outputs": [
    {
     "name": "stdout",
     "output_type": "stream",
     "text": [
      "black\n",
      "200\n",
      "12.566370614359172\n",
      "black\n",
      "200\n",
      "12.566370614359172\n",
      "black\n",
      "200\n",
      "12.566370614359172\n"
     ]
    }
   ],
   "source": [
    "#Polymorphism + Inheritance\n",
    "\n",
    "import math\n",
    "\n",
    "\n",
    "class Shape:\n",
    "    def __init__(self, color=\"black\", filled=False):\n",
    "        self.__color = color\n",
    "        self.__filled = filled\n",
    "\n",
    "    def get_color(self):\n",
    "        return self.__color\n",
    "\n",
    "    def set_color(self, color):\n",
    "        self__color = color\n",
    "\n",
    "    def get_filled(self):\n",
    "        return self.__filled\n",
    "\n",
    "    def set_filled(self, filled):\n",
    "        self.__filled = filled\n",
    "\n",
    "\n",
    "class Rectangle(Shape):\n",
    "    def __init__(self, length, breadth):\n",
    "        super().__init__()\n",
    "        self.__length = length\n",
    "        self.__breadth = breadth\n",
    "\n",
    "    def get_length(self):\n",
    "        return self.__length\n",
    "\n",
    "    def set_length(self, length):\n",
    "        self__length = length\n",
    "\n",
    "    def get_breadth(self):\n",
    "        return self.__breadth\n",
    "\n",
    "    def set_breadth(self, breadth):\n",
    "        self.__breadth = breadth\n",
    "\n",
    "    def get_area(self):\n",
    "        return self.__length * self.__breadth\n",
    "\n",
    "    def get_perimeter(self):\n",
    "        return 2 * (self.__length + self.__breadth)\n",
    "\n",
    "\n",
    "class Circle(Shape):\n",
    "    def __init__(self, radius):\n",
    "        super().__init__()\n",
    "        self.__radius = radius\n",
    "\n",
    "    def get_radius(self):\n",
    "        return self.__radius\n",
    "\n",
    "    def set_radius(self, radius):\n",
    "        self.radius = radius\n",
    "\n",
    "    def get_area(self):\n",
    "        return math.pi * self.__radius ** 2\n",
    "\n",
    "    def get_perimeter(self):\n",
    "        return 2 * math.pi * self__radius\n",
    "\n",
    "\n",
    "s = Shape()\n",
    "r = Rectangle(10, 20)\n",
    "c = Circle(2)\n",
    "\n",
    "for i in (s, r, c):\n",
    "    print(i.get_color())\n",
    "\n",
    "    for i in (r, c):\n",
    "        print(i.get_area())\n"
   ]
  },
  {
   "attachments": {},
   "cell_type": "markdown",
   "metadata": {},
   "source": [
    "<b>Chapter 13: File Input/Output & Exception Handling</b>\n"
   ]
  },
  {
   "attachments": {},
   "cell_type": "markdown",
   "metadata": {},
   "source": [
    "👉 File is a named location on disk to store related information. <br>\n",
    "👉 It is used to permanently store data when computer is turned off, we use files for future use of the data.\n"
   ]
  },
  {
   "attachments": {},
   "cell_type": "markdown",
   "metadata": {},
   "source": [
    "File Operation:\n",
    "\n",
    "👉 Open a file <br>\n",
    "👉 Read or write <br>\n",
    "👉 Close the file\n"
   ]
  },
  {
   "attachments": {},
   "cell_type": "markdown",
   "metadata": {},
   "source": [
    "File Handling:\n",
    "\n",
    "👉 The key function for working with files in Python is the open() function.\n",
    "👉 The open() function takes two parameters; filename, and mode.\n",
    "\n",
    "There are four different methods (modes) for opening a file:\n",
    "\n",
    "\"r\" - Read - Default value. Opens a file for reading, error if the file does not exist <br>\n",
    "\"a\" - Append - Opens a file for appending, creates the file if it does not exist <br>\n",
    "\"w\" - Write - Opens a file for writing, creates the file if it does not exist <br>\n",
    "\"x\" - Create - Creates the specified file, returns an error if the file exists <br>\n",
    "“t” - Opens in text mode <br>\n",
    "“b”- Opens in binary mode <br>\n",
    "“+”- Opens a file for updating (reading & writing) <br>\n"
   ]
  },
  {
   "cell_type": "code",
   "execution_count": null,
   "metadata": {},
   "outputs": [
    {
     "data": {
      "text/plain": [
       "'c:\\\\Users\\\\Admin\\\\Gx\\\\Python-Restart'"
      ]
     },
     "execution_count": 1,
     "metadata": {},
     "output_type": "execute_result"
    }
   ],
   "source": [
    "import os\n",
    "os.getcwd()  # os.chdir(\"new directory location\")\n"
   ]
  },
  {
   "cell_type": "code",
   "execution_count": 29,
   "metadata": {},
   "outputs": [],
   "source": [
    "f = open('file', 'w')  # opens file in current directory\n",
    "f.close()  # not a safe method\n"
   ]
  },
  {
   "cell_type": "code",
   "execution_count": 30,
   "metadata": {},
   "outputs": [],
   "source": [
    "try:\n",
    "    f = open(\"file.txt\", 'w')\n",
    "finally:\n",
    "    f.close()\n"
   ]
  },
  {
   "cell_type": "code",
   "execution_count": 31,
   "metadata": {},
   "outputs": [],
   "source": [
    "f = open(\"file\", \"w\")\n",
    "f.write(\"My Name Is Mayur\\n\")\n",
    "f.write(\"I Work In Gx\\n\")\n",
    "f.close()\n"
   ]
  },
  {
   "cell_type": "code",
   "execution_count": 42,
   "metadata": {},
   "outputs": [
    {
     "name": "stdout",
     "output_type": "stream",
     "text": [
      "\n",
      "a\n",
      "<class 'ValueError'>\n",
      "2\n",
      "0\n",
      "<class 'ZeroDivisionError'>\n",
      "Reciprocal Of 0 Is  0.5\n",
      "Value Error\n",
      "Zero Error\n",
      "Reciprocal Of 0 Is  0.5\n"
     ]
    }
   ],
   "source": [
    "import sys\n",
    "f = open(\"file\", \"r\")\n",
    "f.read()\n",
    "\n",
    "f = open(\"file\", \"r\")\n",
    "f.read(2)\n",
    "f.tell()\n",
    "f.read(5)\n",
    "f.seek(0)\n",
    "print(f.read())\n",
    "\n",
    "f.seek(0)\n",
    "for line in f:\n",
    "    print(line)\n",
    "\n",
    "f = open(\"file\", \"r\")\n",
    "f.readline()\n",
    "\n",
    "f.seek(0)\n",
    "f.readlines()\n",
    "\n",
    "os.listdir(os.getcwd())\n"
   ]
  },
  {
   "attachments": {},
   "cell_type": "markdown",
   "metadata": {},
   "source": [
    "Python Errors & Built-in Exception:\n",
    "\n",
    "👉 When writing a program, we more often not encounter errors. <br>\n",
    "👉 Error caused by not following the proper structure(syntax) of the language is called syntax error or passing error. <br>\n",
    "👉 Errors can also occur at runtime & these are called exceptions. <br>\n",
    "👉 E.g. File Not Found Error, Dividing by zero, Import module error. <br>\n"
   ]
  },
  {
   "attachments": {},
   "cell_type": "markdown",
   "metadata": {},
   "source": [
    "Python Exception Handling-Try, Except & Finally:\n",
    "\n",
    "👉 Python has many built-in exceptions which forces your program to output an error when something in it goes wrong. <br>\n",
    "👉 When these exception occurs, it causes the current process to stop & passes it to the calling process until it is handled. <br>\n",
    "👉 If not handled, our program will crash, an error message is spit out & our program came to a sudden, Unexpected halt.\n"
   ]
  },
  {
   "attachments": {},
   "cell_type": "markdown",
   "metadata": {},
   "source": [
    "Catching Exceptions in Python:\n",
    "\n",
    "👉 In python, exception can be handled using a try statement. <br>\n",
    "👉 A critical operation which can raise exception is placed inside the try clause and the code that handles exception is written in except clause.\n"
   ]
  },
  {
   "cell_type": "code",
   "execution_count": 43,
   "metadata": {},
   "outputs": [
    {
     "name": "stdout",
     "output_type": "stream",
     "text": [
      "a\n",
      "<class 'ValueError'>\n",
      "2\n",
      "0\n",
      "<class 'ZeroDivisionError'>\n",
      "Reciprocal Of 0 Is  0.5\n",
      "Value Error\n",
      "Zero Error\n",
      "Reciprocal Of 0 Is  0.5\n"
     ]
    }
   ],
   "source": [
    "# Python Built in Exceptions\n",
    "import sys\n",
    "dir(__builtins__)\n",
    "\n",
    "# raise KeyboardInterrupt\n",
    "# raise MemoryError(\"Memory High!\")\n",
    "\n",
    "try:\n",
    "    f = open('file', \"w\")\n",
    "finally:\n",
    "    f.close()\n",
    "\n",
    "\n",
    "lst = ['a', 2, 0]\n",
    "for entry in lst:\n",
    "    try:\n",
    "        print(entry)\n",
    "        r = 1 / int(entry)\n",
    "    except:\n",
    "        print(sys.exc_info()[0])\n",
    "print(\"Reciprocal Of\", entry, \"Is \", r)\n",
    "\n",
    "lst = ['a', 2, 0]\n",
    "for entry in lst:\n",
    "    try:\n",
    "        r = 1 / int(entry)\n",
    "    except(ValueError):\n",
    "        print(\"Value Error\")\n",
    "    except(ZeroDivisionError):\n",
    "        print(\"Zero Error\")\n",
    "    except:\n",
    "        print(\"Random Error\")\n",
    "print(\"Reciprocal Of\", entry, \"Is \", r)\n"
   ]
  },
  {
   "attachments": {},
   "cell_type": "markdown",
   "metadata": {},
   "source": [
    "<b>Chapter 14: Regular Expressions</b>\n"
   ]
  },
  {
   "cell_type": "code",
   "execution_count": 57,
   "metadata": {},
   "outputs": [
    {
     "name": "stdout",
     "output_type": "stream",
     "text": [
      "Chintu is 24 and Mintu is 22\n",
      "Pintu is 21 and Sintu is 20\n",
      "['24', '22', '21', '20']\n",
      "['Chintu', 'Mintu', 'Pintu', 'Sintu']\n",
      "{'Chintu': '24', 'Mintu': '22', 'Pintu': '21', 'Sintu': '20'}\n",
      "Got It!\n",
      "consectetur\n",
      "(51, 55)\n",
      "(285, 289)\n",
      "Sat\n",
      "hat\n",
      "mat\n",
      "pat\n",
      "hat food mat pat\n",
      "My Number\n",
      "Sahi Naam Hai\n",
      "Email Matches: 2\n"
     ]
    }
   ],
   "source": [
    "import re\n",
    "s = '''Chintu is 24 and Mintu is 22\n",
    "Pintu is 21 and Sintu is 20'''\n",
    "\n",
    "print(s)\n",
    "\n",
    "ages = re.findall(r'\\d{1,2}', s)\n",
    "print(ages)\n",
    "\n",
    "names = re.findall(r'[A-Z][a-z]*', s)\n",
    "print(names)\n",
    "\n",
    "dict = {}\n",
    "x = 0\n",
    "for i in names:\n",
    "    dict[i] = ages[x]\n",
    "    x += 1\n",
    "print(dict)\n",
    "\n",
    "\n",
    "s = \"Lorem ipsum dolor sit amet, consectetur adipiscing elit, sed do eiusmod tempor incididunt ut labore et dolore magna aliqua. Ut enim ad minim veniam, quis nostrud exercitation ullamco laboris nisi ut aliquip ex ea commodo consequat. Duis aute irure dolor in reprehenderit in voluptate velit esse cillum dolore eu fugiat nulla pariatur. Excepteur sint occaecat cupidatat non proident, sunt in culpa qui officia deserunt mollit anim id est laborum.\"\n",
    "if re.search('consectetur', s):\n",
    "    print(\"Got It!\")\n",
    "\n",
    "a = re.findall('consectetur', s)\n",
    "for i in a:\n",
    "    print(i)\n",
    "\n",
    "for i in re.finditer('elit', s):\n",
    "    l = i.span()\n",
    "    print(l)\n",
    "\n",
    "str = 'Sat,hat,mat,pat'\n",
    "s1 = re.findall('[Shmp]at', str)\n",
    "for i in s1:\n",
    "    print(i)\n",
    "    \n",
    "f = 'hat rat mat pat'\n",
    "regex = re.compile('[r]at')\n",
    "f = regex.sub('food', f)\n",
    "print(f)\n",
    "\n",
    "\n",
    "phn = \"961-160-9185\"\n",
    "if re.search(\"\\d{3}-\\d{3}-\\d{4}\", phn):\n",
    "    print(\"My Number\")\n",
    "\n",
    "if re.search('\\w{2,20}\\s\\w{2,20}', 'Mayur Pai'):\n",
    "    print(\"Sahi Naam Hai\")\n",
    "\n",
    "email = 'mayur5pai@gmail.com mbantwal@gmail.com @mp.com mb@.com'\n",
    "print('Email Matches:',len(re.findall('[\\w._%+-]{1,20}@[\\w.-]{2,20}.[A-za-z]{2,3}',email)))"
   ]
  },
  {
   "attachments": {},
   "cell_type": "markdown",
   "metadata": {},
   "source": [
    "<b>Chapter 15: Numpy, Pandas & Matplot Library</b>"
   ]
  },
  {
   "cell_type": "code",
   "execution_count": 58,
   "metadata": {},
   "outputs": [
    {
     "name": "stdout",
     "output_type": "stream",
     "text": [
      "[1 2 3 4]\n",
      "[[1 2 3]\n",
      " [3 4 5]\n",
      " [6 7 8]]\n",
      "[1 3 5 7 9]\n",
      "[5.+0.j 6.+0.j 7.+0.j 8.+0.j 9.+0.j]\n"
     ]
    }
   ],
   "source": [
    "import numpy as np\n",
    "a = np.array([1, 2, 3, 4])\n",
    "print(a)\n",
    "\n",
    "a = np.array([[1, 2, 3], [3, 4, 5], [6, 7, 8]])\n",
    "print(a)\n",
    "\n",
    "a = np.arange(1, 10, 2)\n",
    "print(a)\n",
    "\n",
    "a = np.arange(5, 10, dtype=\"complex\")\n",
    "print(a)\n"
   ]
  },
  {
   "cell_type": "code",
   "execution_count": 62,
   "metadata": {},
   "outputs": [
    {
     "data": {
      "image/png": "[encoded data removed]",
      "text/plain": [
       "<Figure size 576x576 with 1 Axes>"
      ]
     },
     "metadata": {
      "needs_background": "light"
     },
     "output_type": "display_data"
    }
   ],
   "source": [
    "import numpy as np\n",
    "import matplotlib.pyplot as plt\n",
    "\n",
    "\n",
    "data = {'C': 20, 'C++': 15, 'Java': 30, 'Python': 35}\n",
    "courses = list(data.keys())\n",
    "values = list(data.values())\n",
    "\n",
    "fig = plt.figure(figsize=(8, 8))\n",
    "\n",
    "plt.bar(courses, values, color='green', width=0.5)\n",
    "\n",
    "plt.xlabel(\"Courses Offered\")\n",
    "plt.ylabel(\"No. Of Students Enrolled\")\n",
    "plt.title(\"Students Enrolled In Different Courses\")\n",
    "plt.show()\n"
   ]
  },
  {
   "cell_type": "code",
   "execution_count": 63,
   "metadata": {},
   "outputs": [
    {
     "data": {
      "image/png": "[encoded data removed]",
      "text/plain": [
       "<Figure size 432x288 with 1 Axes>"
      ]
     },
     "metadata": {
      "needs_background": "light"
     },
     "output_type": "display_data"
    }
   ],
   "source": [
    "import matplotlib.pyplot as plt\n",
    "w = 0.4\n",
    "x = [\"CSE\", \"IT\", \"ETC\", \"MECH\", \"EEE\"]\n",
    "boys = [100, 40, 60, 240, 300]\n",
    "girls = [200, 70, 30, 5, 150]\n",
    "\n",
    "plt.bar(x, boys, w, label=\"boys\")\n",
    "plt.bar(x, girls, w, bottom=boys, label=\"girls\")\n",
    "\n",
    "plt.xlabel(\"Courses\")\n",
    "plt.ylabel(\"Students\")\n",
    "plt.title(\"Student VS Courses\")\n",
    "plt.legend()\n",
    "plt.show()\n"
   ]
  },
  {
   "cell_type": "code",
   "execution_count": 65,
   "metadata": {},
   "outputs": [
    {
     "data": {
      "text/plain": [
       "<BarContainer object of 4 artists>"
      ]
     },
     "execution_count": 65,
     "metadata": {},
     "output_type": "execute_result"
    },
    {
     "data": {
      "image/png": "[encoded data removed]",
      "text/plain": [
       "<Figure size 432x288 with 1 Axes>"
      ]
     },
     "metadata": {
      "needs_background": "light"
     },
     "output_type": "display_data"
    }
   ],
   "source": [
    "import numpy as np\n",
    "import matplotlib.pyplot as plt\n",
    "data = [[30, 25, 50, 20],\n",
    "        [40, 23, 51, 17],\n",
    "        [35, 22, 45, 19]]\n",
    "X = np.arange(4)\n",
    "fig = plt.figure()\n",
    "ax = fig.add_axes([0, 0, 1, 1])\n",
    "ax.bar(X + 0.00, data[0], color='b', width=0.25)\n",
    "ax.bar(X + 0.25, data[1], color='g', width=0.25)\n",
    "ax.bar(X + 0.50, data[2], color='r', width=0.25)\n"
   ]
  },
  {
   "cell_type": "code",
   "execution_count": 66,
   "metadata": {},
   "outputs": [
    {
     "data": {
      "image/png": "[encoded data removed]",
      "text/plain": [
       "<Figure size 720x504 with 1 Axes>"
      ]
     },
     "metadata": {},
     "output_type": "display_data"
    }
   ],
   "source": [
    "from matplotlib import pyplot as plt\n",
    "import numpy as np\n",
    "\n",
    "cars = ['AUDI', 'BMW', 'FORD', 'TESLA', 'JAGUAR', 'MERCEDES']\n",
    "\n",
    "data = [23, 17, 35, 29, 12, 41]\n",
    "\n",
    "fig = plt.figure(figsize=(10, 7))\n",
    "plt.pie(data, labels=cars)\n",
    "plt.show()\n"
   ]
  },
  {
   "attachments": {},
   "cell_type": "markdown",
   "metadata": {},
   "source": [
    "<b>Chapter 16: Modules</b>"
   ]
  },
  {
   "cell_type": "code",
   "execution_count": 75,
   "metadata": {},
   "outputs": [
    {
     "name": "stdout",
     "output_type": "stream",
     "text": [
      "3.141592653589793\n"
     ]
    },
    {
     "data": {
      "text/plain": [
       "['__doc__',\n",
       " '__loader__',\n",
       " '__name__',\n",
       " '__package__',\n",
       " '__spec__',\n",
       " 'acos',\n",
       " 'acosh',\n",
       " 'asin',\n",
       " 'asinh',\n",
       " 'atan',\n",
       " 'atan2',\n",
       " 'atanh',\n",
       " 'ceil',\n",
       " 'comb',\n",
       " 'copysign',\n",
       " 'cos',\n",
       " 'cosh',\n",
       " 'degrees',\n",
       " 'dist',\n",
       " 'e',\n",
       " 'erf',\n",
       " 'erfc',\n",
       " 'exp',\n",
       " 'expm1',\n",
       " 'fabs',\n",
       " 'factorial',\n",
       " 'floor',\n",
       " 'fmod',\n",
       " 'frexp',\n",
       " 'fsum',\n",
       " 'gamma',\n",
       " 'gcd',\n",
       " 'hypot',\n",
       " 'inf',\n",
       " 'isclose',\n",
       " 'isfinite',\n",
       " 'isinf',\n",
       " 'isnan',\n",
       " 'isqrt',\n",
       " 'lcm',\n",
       " 'ldexp',\n",
       " 'lgamma',\n",
       " 'log',\n",
       " 'log10',\n",
       " 'log1p',\n",
       " 'log2',\n",
       " 'modf',\n",
       " 'nan',\n",
       " 'nextafter',\n",
       " 'perm',\n",
       " 'pi',\n",
       " 'pow',\n",
       " 'prod',\n",
       " 'radians',\n",
       " 'remainder',\n",
       " 'sin',\n",
       " 'sinh',\n",
       " 'sqrt',\n",
       " 'tan',\n",
       " 'tanh',\n",
       " 'tau',\n",
       " 'trunc',\n",
       " 'ulp']"
      ]
     },
     "execution_count": 75,
     "metadata": {},
     "output_type": "execute_result"
    }
   ],
   "source": [
    "from math import *\n",
    "from datetime import datetime\n",
    "print(math.pi)\n",
    "\n",
    "import datetime\n",
    "datetime.datetime.now()\n",
    "\n",
    "dir(math)\n"
   ]
  }
 ],
 "metadata": {
  "kernelspec": {
   "display_name": "Python 3",
   "language": "python",
   "name": "python3"
  },
  "language_info": {
   "codemirror_mode": {
    "name": "ipython",
    "version": 3
   },
   "file_extension": ".py",
   "mimetype": "text/x-python",
   "name": "python",
   "nbconvert_exporter": "python",
   "pygments_lexer": "ipython3",
   "version": "3.10.5"
  },
  "orig_nbformat": 4
 },
 "nbformat": 4,
 "nbformat_minor": 2
}
