{
 "cells": [
  {
   "cell_type": "markdown",
   "metadata": {},
   "source": [
    "Simple Program"
   ]
  },
  {
   "cell_type": "code",
   "execution_count": 65,
   "metadata": {},
   "outputs": [
    {
     "name": "stdout",
     "output_type": "stream",
     "text": [
      "Area Of The Triangle =  28.07\n"
     ]
    }
   ],
   "source": [
    "base = 5.45\n",
    "height = 10.3\n",
    "area = 0.5 * base * height\n",
    "print(\"Area Of The Triangle = \", round(area, 2))"
   ]
  },
  {
   "cell_type": "markdown",
   "metadata": {},
   "source": [
    "Input, Casting And If-Else Statement "
   ]
  },
  {
   "cell_type": "code",
   "execution_count": 66,
   "metadata": {},
   "outputs": [
    {
     "name": "stdout",
     "output_type": "stream",
     "text": [
      "1 Is An Odd Number!\n"
     ]
    }
   ],
   "source": [
    "num = int((input(\"Enter A Number: \")))\n",
    "if num % 2 == 0:\n",
    "    print(str(num) + \" Is An Even Number!\")\n",
    "else:\n",
    "    print(str(num) + \" Is An Odd Number!\")"
   ]
  },
  {
   "cell_type": "markdown",
   "metadata": {},
   "source": [
    "Nest If-Else Statements"
   ]
  },
  {
   "cell_type": "code",
   "execution_count": 67,
   "metadata": {},
   "outputs": [
    {
     "name": "stdout",
     "output_type": "stream",
     "text": [
      "Pizza: Italian Dish\n"
     ]
    }
   ],
   "source": [
    "indianDishes = [\"Samosa\", \"Daal\", \"Naan\"]\n",
    "chineseDishes = [\"Egg Roll\", \"Pot Sticker\", \"Fried Rice\"]\n",
    "italianDishes = [\"Pizza\", \"Pasta\", \"Risotto\"]\n",
    "\n",
    "dishInput = input(\"Enter The Dish: \")\n",
    "\n",
    "if dishInput in indianDishes:\n",
    "    print(dishInput + \": Indian Dish\")\n",
    "elif dishInput in chineseDishes:\n",
    "    print(dishInput + \": Chinese Dish\")\n",
    "elif dishInput in italianDishes:\n",
    "    print(dishInput + \": Italian Dish\")\n",
    "else:\n",
    "    print(\"Dish Not In Menu\")\n"
   ]
  },
  {
   "cell_type": "markdown",
   "metadata": {},
   "source": [
    "For Loop In Range"
   ]
  },
  {
   "cell_type": "code",
   "execution_count": 68,
   "metadata": {},
   "outputs": [
    {
     "name": "stdout",
     "output_type": "stream",
     "text": [
      "1\n",
      "2\n",
      "3\n",
      "4\n",
      "5\n",
      "6\n",
      "7\n",
      "8\n",
      "9\n",
      "10\n"
     ]
    }
   ],
   "source": [
    "for i in range(1,11):\n",
    "    print(i)"
   ]
  },
  {
   "cell_type": "markdown",
   "metadata": {},
   "source": [
    "For Loop With len Funciton"
   ]
  },
  {
   "cell_type": "code",
   "execution_count": 69,
   "metadata": {},
   "outputs": [
    {
     "name": "stdout",
     "output_type": "stream",
     "text": [
      "2345\n",
      "1234\n",
      "3454\n",
      "5466\n",
      "Length Of Expenses : 4\n"
     ]
    }
   ],
   "source": [
    "expenses = [2345, 1234, 3454, 5466]\n",
    "for i in expenses:\n",
    "    print(i)\n",
    "print(\"Length Of Expenses : \" + str(len(expenses)))"
   ]
  },
  {
   "cell_type": "markdown",
   "metadata": {},
   "source": [
    "For Loop With Range And len Function"
   ]
  },
  {
   "cell_type": "code",
   "execution_count": 70,
   "metadata": {},
   "outputs": [
    {
     "name": "stdout",
     "output_type": "stream",
     "text": [
      "Month: 1, Expense: 2345\n",
      "Month: 2, Expense: 1234\n",
      "Month: 3, Expense: 3454\n",
      "Month: 4, Expense: 5466\n",
      "Total Expense = 12499\n"
     ]
    }
   ],
   "source": [
    "expenses = [2345, 1234, 3454, 5466]\n",
    "total = 0\n",
    "for i in range(len(expenses)):\n",
    "    print(\"Month: \" + str(i + 1) + \", Expense: \" + str(expenses[i]))\n",
    "    total += expenses[i]\n",
    "print(\"Total Expense = \" + str(total))\n"
   ]
  },
  {
   "cell_type": "markdown",
   "metadata": {},
   "source": [
    "For Loop With Step Counter"
   ]
  },
  {
   "cell_type": "code",
   "execution_count": 71,
   "metadata": {},
   "outputs": [
    {
     "name": "stdout",
     "output_type": "stream",
     "text": [
      "1\n",
      "9\n",
      "25\n"
     ]
    }
   ],
   "source": [
    "for i in range(1, 6, 2):\n",
    "    print(i*i)"
   ]
  },
  {
   "cell_type": "markdown",
   "metadata": {},
   "source": [
    "While Loop"
   ]
  },
  {
   "cell_type": "code",
   "execution_count": 72,
   "metadata": {},
   "outputs": [
    {
     "name": "stdout",
     "output_type": "stream",
     "text": [
      "1\n",
      "2\n",
      "3\n",
      "4\n",
      "5\n"
     ]
    }
   ],
   "source": [
    "i = 1\n",
    "while i <= 5:\n",
    "    print(i)\n",
    "    i += 1\n"
   ]
  },
  {
   "cell_type": "markdown",
   "metadata": {},
   "source": [
    "Functions In Python"
   ]
  },
  {
   "cell_type": "code",
   "execution_count": 73,
   "metadata": {},
   "outputs": [
    {
     "name": "stdout",
     "output_type": "stream",
     "text": [
      "myExpense = 2491\n",
      "yourExpense = 1691\n"
     ]
    }
   ],
   "source": [
    "myExpense = [123, 456, 789, 1123]\n",
    "yourExpense = [234, 567, 890]\n",
    "\n",
    "def expenseCalculator(expense):\n",
    "    total = 0\n",
    "    for i in range(len(expense)):\n",
    "        total += expense[i]\n",
    "    return total\n",
    "\n",
    "print(\"myExpense = \" + str(expenseCalculator(myExpense)))\n",
    "print(\"yourExpense = \" + str(expenseCalculator(yourExpense)))"
   ]
  },
  {
   "cell_type": "markdown",
   "metadata": {},
   "source": [
    "Dictionary And Tuples"
   ]
  },
  {
   "cell_type": "code",
   "execution_count": 74,
   "metadata": {},
   "outputs": [
    {
     "name": "stdout",
     "output_type": "stream",
     "text": [
      "employeeId: 3976\n",
      "name: Mayur Pai\n",
      "email: mbantwal@galaxe.com\n",
      "employeeId: 3976\n",
      "name: Mayur Pai\n",
      "email: mbantwal@galaxe.com\n",
      "True\n",
      "False\n",
      "{'employeeId': 3976, 'name': 'Mayur Pai', 'email': 'mbantwal@galaxe.com'}\n",
      "(3, 4)\n",
      "4\n",
      "True\n",
      "mbantwal@galaxe.com\n"
     ]
    }
   ],
   "source": [
    "employee = {\"employeeId\": 3976, \"name\": \"Mayur Pai\",\n",
    "            \"email\": \"mbantwal@galaxe.com\"}\n",
    "\n",
    "for k, v in employee.items():\n",
    "    print(k + \": \" + str(v))\n",
    "\n",
    "for key in employee:\n",
    "    print(key + \": \" + str(employee[key]))\n",
    "\n",
    "print(\"name\" in employee)\n",
    "print(\"Mayur Pai\" in employee)\n",
    "print(employee)\n",
    "\n",
    "point = (3, 4)\n",
    "print(point)\n",
    "print(point[1])\n",
    "\n",
    "\n",
    "employee = (3976, \"Mayur Pai\", \"mbantwal@galaxe.com\")\n",
    "print(\"Mayur Pai\" in employee)\n",
    "print(employee[2])"
   ]
  },
  {
   "cell_type": "markdown",
   "metadata": {},
   "source": [
    "Module List"
   ]
  },
  {
   "cell_type": "code",
   "execution_count": 75,
   "metadata": {},
   "outputs": [
    {
     "data": {
      "text/plain": [
       "['__doc__',\n",
       " '__loader__',\n",
       " '__name__',\n",
       " '__package__',\n",
       " '__spec__',\n",
       " 'acos',\n",
       " 'acosh',\n",
       " 'asin',\n",
       " 'asinh',\n",
       " 'atan',\n",
       " 'atan2',\n",
       " 'atanh',\n",
       " 'cbrt',\n",
       " 'ceil',\n",
       " 'comb',\n",
       " 'copysign',\n",
       " 'cos',\n",
       " 'cosh',\n",
       " 'degrees',\n",
       " 'dist',\n",
       " 'e',\n",
       " 'erf',\n",
       " 'erfc',\n",
       " 'exp',\n",
       " 'exp2',\n",
       " 'expm1',\n",
       " 'fabs',\n",
       " 'factorial',\n",
       " 'floor',\n",
       " 'fmod',\n",
       " 'frexp',\n",
       " 'fsum',\n",
       " 'gamma',\n",
       " 'gcd',\n",
       " 'hypot',\n",
       " 'inf',\n",
       " 'isclose',\n",
       " 'isfinite',\n",
       " 'isinf',\n",
       " 'isnan',\n",
       " 'isqrt',\n",
       " 'lcm',\n",
       " 'ldexp',\n",
       " 'lgamma',\n",
       " 'log',\n",
       " 'log10',\n",
       " 'log1p',\n",
       " 'log2',\n",
       " 'modf',\n",
       " 'nan',\n",
       " 'nextafter',\n",
       " 'perm',\n",
       " 'pi',\n",
       " 'pow',\n",
       " 'prod',\n",
       " 'radians',\n",
       " 'remainder',\n",
       " 'sin',\n",
       " 'sinh',\n",
       " 'sqrt',\n",
       " 'tan',\n",
       " 'tanh',\n",
       " 'tau',\n",
       " 'trunc',\n",
       " 'ulp']"
      ]
     },
     "execution_count": 75,
     "metadata": {},
     "output_type": "execute_result"
    }
   ],
   "source": [
    "import math\n",
    "\n",
    "dir(math)"
   ]
  },
  {
   "cell_type": "markdown",
   "metadata": {},
   "source": [
    "Modules In Python"
   ]
  },
  {
   "cell_type": "code",
   "execution_count": 76,
   "metadata": {},
   "outputs": [],
   "source": [
    "# import sys \n",
    "# # Add The Path Where The Module Is Situated\n",
    "# sys.path.append(\"C:\\Users\\mbantwal\\GitLab\\Gx\\Python-Workspace\")\n",
    "# # Import The Function That You Wish To Use\n",
    "# import function as f\n",
    "# area = f.calculateArea(2)"
   ]
  },
  {
   "cell_type": "markdown",
   "metadata": {},
   "source": [
    "JSON In Python"
   ]
  },
  {
   "cell_type": "code",
   "execution_count": 77,
   "metadata": {},
   "outputs": [
    {
     "name": "stdout",
     "output_type": "stream",
     "text": [
      "{3976: {'name': 'Mayur Pai', 'email': 'mbantwal@galaxe.com'}, 3985: {'name': 'Kavya', 'email': 'ksrinivasa@galaxe.com'}}\n",
      "{'name': 'Mayur Pai', 'email': 'mbantwal@galaxe.com'}\n",
      "{\"3976\": {\"name\": \"Mayur Pai\", \"email\": \"mbantwal@galaxe.com\"}, \"3985\": {\"name\": \"Kavya\", \"email\": \"ksrinivasa@galaxe.com\"}}\n",
      "{\"3976\": {\"name\": \"Mayur Pai\", \"email\": \"mbantwal@galaxe.com\"}, \"3985\": {\"name\": \"Kavya\", \"email\": \"ksrinivasa@galaxe.com\"}}\n",
      "{\"3976\": {\"name\": \"Mayur Pai\", \"email\": \"mbantwal@galaxe.com\"}, \"3985\": {\"name\": \"Kavya\", \"email\": \"ksrinivasa@galaxe.com\"}}\n",
      "{'3976': {'name': 'Mayur Pai', 'email': 'mbantwal@galaxe.com'}, '3985': {'name': 'Kavya', 'email': 'ksrinivasa@galaxe.com'}}\n",
      "Mayur Pai\n",
      "{'name': 'Mayur Pai', 'email': 'mbantwal@galaxe.com'}\n",
      "{'name': 'Kavya', 'email': 'ksrinivasa@galaxe.com'}\n"
     ]
    }
   ],
   "source": [
    "Gx = {}\n",
    "Gx[3976] = {\n",
    "    \"name\": \"Mayur Pai\",\n",
    "    \"email\": \"mbantwal@galaxe.com\"\n",
    "}\n",
    "\n",
    "Gx[3985] = {\n",
    "    \"name\": \"Kavya\",\n",
    "    \"email\": \"ksrinivasa@galaxe.com\"\n",
    "}\n",
    "\n",
    "print(Gx)\n",
    "print(Gx[3976])\n",
    "\n",
    "import json\n",
    "print(json.dumps(Gx))\n",
    "\n",
    "with open(\"C://Users//mbantwal//GitLab//Gx//Python-Workspace//Galaxe-Data.txt\", \"w\") as filename:\n",
    "    filename.write(json.dumps(Gx))\n",
    "\n",
    "with open(\"C://Users//mbantwal//GitLab//Gx//Python-Workspace//Galaxe-Data.txt\", \"r\") as filename:\n",
    "    print(filename.read())\n",
    "\n",
    "# Or\n",
    "\n",
    "filename = open(\"C://Users//mbantwal//GitLab//Gx//Python-Workspace//Galaxe-Data.txt\", \"r\")\n",
    "fileOutput = filename.read()\n",
    "print(fileOutput)\n",
    "\n",
    "print(json.loads(fileOutput))\n",
    "\n",
    "type(Gx)\n",
    "\n",
    "print(Gx[3976][\"name\"])\n",
    "\n",
    "for person in Gx:\n",
    "    print(Gx[person])"
   ]
  },
  {
   "cell_type": "markdown",
   "metadata": {},
   "source": [
    "File Write In Python"
   ]
  },
  {
   "cell_type": "code",
   "execution_count": 78,
   "metadata": {},
   "outputs": [],
   "source": [
    "filename = open(\"C://Users//mbantwal//GitLab//Gx//Python-Workspace//Galaxe-Data.txt\", \"w\")\n",
    "filename.write(\"My Name Is Mayur Pai B H\")\n",
    "filename.close()"
   ]
  },
  {
   "cell_type": "markdown",
   "metadata": {},
   "source": [
    "File Read In Python"
   ]
  },
  {
   "cell_type": "code",
   "execution_count": 79,
   "metadata": {},
   "outputs": [
    {
     "name": "stdout",
     "output_type": "stream",
     "text": [
      "11\n",
      "['{\"3976\":', '{\"name\":', '\"Mayur', 'Pai\",', '\"email\":', '\"mbantwal@galaxe.com\"},', '\"3985\":', '{\"name\":', '\"Kavya\",', '\"email\":', '\"ksrinivasa@galaxe.com\"}}']\n",
      "{\"3976\": {\"name\": \"Mayur Pai\", \"email\": \"mbantwal@galaxe.com\"}, \"3985\": {\"name\": \"Kavya\", \"email\": \"ksrinivasa@galaxe.com\"}}\n"
     ]
    }
   ],
   "source": [
    "filenameRead = open(\"C://Users//mbantwal//GitLab//Gx//Python-Workspace//Input.txt\", \"r\")\n",
    "# print(filename.read())\n",
    "\n",
    "for line in filenameRead:\n",
    "    tokens = line.split(' ')\n",
    "    print(len(tokens))\n",
    "    print(str(tokens))\n",
    "    print(line)\n",
    "\n",
    "\n",
    "filenameRead.close()\n"
   ]
  },
  {
   "cell_type": "code",
   "execution_count": 80,
   "metadata": {},
   "outputs": [
    {
     "name": "stdout",
     "output_type": "stream",
     "text": [
      "Frequency of  Pai\", is : 1\n",
      "Frequency of  \"Mayur is : 1\n",
      "Frequency of  \"mbantwal@galaxe.com\"}, is : 1\n",
      "Frequency of  \"3985\": is : 1\n",
      "Frequency of  {\"name\": is : 2\n",
      "Frequency of  \"email\": is : 2\n",
      "Frequency of  \"ksrinivasa@galaxe.com\"}} is : 1\n",
      "Frequency of  \"Kavya\", is : 1\n",
      "Frequency of  {\"3976\": is : 1\n"
     ]
    }
   ],
   "source": [
    "def freq(fileRead):\n",
    "\tstr_list = fileRead.split()\n",
    "\tunique_words = set(str_list)\n",
    "\t\n",
    "\tfor words in unique_words :\n",
    "\t\tprint('Frequency of ', words , 'is :', str_list.count(words))\n",
    "\n",
    "if __name__ == \"__main__\":\n",
    "\tfilenameRead = open(\"C://Users//mbantwal//GitLab//Gx//Python-Workspace//Input.txt\", \"r\")\n",
    "\tfreq(filenameRead.read())\n"
   ]
  },
  {
   "cell_type": "code",
   "execution_count": 82,
   "metadata": {},
   "outputs": [
    {
     "name": "stdout",
     "output_type": "stream",
     "text": [
      "4\n"
     ]
    }
   ],
   "source": [
    "def calculateSqaureArea(a):\n",
    "    return a*a\n",
    "\n",
    "if __name__ == \"__main__\":\n",
    "    print(calculateSqaureArea(2))"
   ]
  }
 ],
 "metadata": {
  "kernelspec": {
   "display_name": "Python 3.11.1 64-bit",
   "language": "python",
   "name": "python3"
  },
  "language_info": {
   "codemirror_mode": {
    "name": "ipython",
    "version": 3
   },
   "file_extension": ".py",
   "mimetype": "text/x-python",
   "name": "python",
   "nbconvert_exporter": "python",
   "pygments_lexer": "ipython3",
   "version": "3.11.1"
  },
  "orig_nbformat": 4,
  "vscode": {
   "interpreter": {
    "hash": "560edca56c4e895613e99aaace2b4de396dbf6f083034ef3c9f6478231a21f2e"
   }
  }
 },
 "nbformat": 4,
 "nbformat_minor": 2
}
