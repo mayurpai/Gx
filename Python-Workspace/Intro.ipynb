{
 "cells": [
  {
   "cell_type": "markdown",
   "metadata": {},
   "source": [
    "Simple Program"
   ]
  },
  {
   "cell_type": "code",
   "execution_count": 7,
   "metadata": {},
   "outputs": [
    {
     "name": "stdout",
     "output_type": "stream",
     "text": [
      "Area Of The Triangle =  28.07\n"
     ]
    }
   ],
   "source": [
    "base = 5.45\n",
    "height = 10.3\n",
    "area = 0.5 * base * height\n",
    "print(\"Area Of The Triangle = \", round(area, 2))"
   ]
  },
  {
   "cell_type": "markdown",
   "metadata": {},
   "source": [
    "Input, Casting And If-Else Statement "
   ]
  },
  {
   "cell_type": "code",
   "execution_count": 8,
   "metadata": {},
   "outputs": [
    {
     "name": "stdout",
     "output_type": "stream",
     "text": [
      "2 Is An Even Number!\n"
     ]
    }
   ],
   "source": [
    "num = int((input(\"Enter A Number: \")))\n",
    "if num % 2 == 0:\n",
    "    print(str(num) + \" Is An Even Number!\")\n",
    "else:\n",
    "    print(str(num) + \" Is An Odd Number!\")"
   ]
  },
  {
   "cell_type": "markdown",
   "metadata": {},
   "source": [
    "Nest If-Else Statements"
   ]
  },
  {
   "cell_type": "code",
   "execution_count": 9,
   "metadata": {},
   "outputs": [
    {
     "name": "stdout",
     "output_type": "stream",
     "text": [
      "Pizza: Italian Dish\n"
     ]
    }
   ],
   "source": [
    "indianDishes = [\"Samosa\", \"Daal\", \"Naan\"]\n",
    "chineseDishes = [\"Egg Roll\", \"Pot Sticker\", \"Fried Rice\"]\n",
    "italianDishes = [\"Pizza\", \"Pasta\", \"Risotto\"]\n",
    "\n",
    "dishInput = input(\"Enter The Dish: \")\n",
    "\n",
    "if dishInput in indianDishes:\n",
    "    print(dishInput + \": Indian Dish\")\n",
    "elif dishInput in chineseDishes:\n",
    "    print(dishInput + \": Chinese Dish\")\n",
    "elif dishInput in italianDishes:\n",
    "    print(dishInput + \": Italian Dish\")\n",
    "else:\n",
    "    print(\"Dish Not In Menu\")\n"
   ]
  },
  {
   "cell_type": "markdown",
   "metadata": {},
   "source": [
    "For Loop In Range"
   ]
  },
  {
   "cell_type": "code",
   "execution_count": 10,
   "metadata": {},
   "outputs": [
    {
     "name": "stdout",
     "output_type": "stream",
     "text": [
      "1\n",
      "2\n",
      "3\n",
      "4\n",
      "5\n",
      "6\n",
      "7\n",
      "8\n",
      "9\n",
      "10\n"
     ]
    }
   ],
   "source": [
    "for i in range(1,11):\n",
    "    print(i)"
   ]
  },
  {
   "cell_type": "markdown",
   "metadata": {},
   "source": [
    "For Loop With len Funciton"
   ]
  },
  {
   "cell_type": "code",
   "execution_count": 11,
   "metadata": {},
   "outputs": [
    {
     "name": "stdout",
     "output_type": "stream",
     "text": [
      "2345\n",
      "1234\n",
      "3454\n",
      "5466\n",
      "Length Of Expenses : 4\n"
     ]
    }
   ],
   "source": [
    "expenses = [2345, 1234, 3454, 5466]\n",
    "for i in expenses:\n",
    "    print(i)\n",
    "print(\"Length Of Expenses : \" + str(len(expenses)))"
   ]
  },
  {
   "cell_type": "markdown",
   "metadata": {},
   "source": [
    "For Loop With Range And len Function"
   ]
  },
  {
   "cell_type": "code",
   "execution_count": 12,
   "metadata": {},
   "outputs": [
    {
     "name": "stdout",
     "output_type": "stream",
     "text": [
      "Month: 1, Expense: 2345\n",
      "Month: 2, Expense: 1234\n",
      "Month: 3, Expense: 3454\n",
      "Month: 4, Expense: 5466\n",
      "Total Expense = 12499\n"
     ]
    }
   ],
   "source": [
    "expenses = [2345, 1234, 3454, 5466]\n",
    "total = 0\n",
    "for i in range(len(expenses)):\n",
    "    print(\"Month: \" + str(i + 1) + \", Expense: \" + str(expenses[i]))\n",
    "    total += expenses[i]\n",
    "print(\"Total Expense = \" + str(total))\n"
   ]
  },
  {
   "cell_type": "markdown",
   "metadata": {},
   "source": [
    "For Loop With Step Counter"
   ]
  },
  {
   "cell_type": "code",
   "execution_count": 13,
   "metadata": {},
   "outputs": [
    {
     "name": "stdout",
     "output_type": "stream",
     "text": [
      "1\n",
      "9\n",
      "25\n"
     ]
    }
   ],
   "source": [
    "for i in range(1, 6, 2):\n",
    "    print(i*i)"
   ]
  },
  {
   "cell_type": "markdown",
   "metadata": {},
   "source": [
    "While Loop"
   ]
  },
  {
   "cell_type": "code",
   "execution_count": 14,
   "metadata": {},
   "outputs": [
    {
     "name": "stdout",
     "output_type": "stream",
     "text": [
      "1\n",
      "2\n",
      "3\n",
      "4\n",
      "5\n"
     ]
    }
   ],
   "source": [
    "i = 1\n",
    "while i <= 5:\n",
    "    print(i)\n",
    "    i += 1\n"
   ]
  },
  {
   "cell_type": "markdown",
   "metadata": {},
   "source": [
    "Functions In Python"
   ]
  },
  {
   "cell_type": "code",
   "execution_count": 15,
   "metadata": {},
   "outputs": [
    {
     "name": "stdout",
     "output_type": "stream",
     "text": [
      "myExpense = 2491\n",
      "yourExpense = 1691\n"
     ]
    }
   ],
   "source": [
    "myExpense = [123, 456, 789, 1123]\n",
    "yourExpense = [234, 567, 890]\n",
    "\n",
    "def expenseCalculator(expense):\n",
    "    total = 0\n",
    "    for i in range(len(expense)):\n",
    "        total += expense[i]\n",
    "    return total\n",
    "\n",
    "print(\"myExpense = \" + str(expenseCalculator(myExpense)))\n",
    "print(\"yourExpense = \" + str(expenseCalculator(yourExpense)))"
   ]
  },
  {
   "cell_type": "markdown",
   "metadata": {},
   "source": [
    "Dictionary And Tuples"
   ]
  },
  {
   "cell_type": "code",
   "execution_count": 16,
   "metadata": {},
   "outputs": [
    {
     "name": "stdout",
     "output_type": "stream",
     "text": [
      "employeeId: 3976\n",
      "name: Mayur Pai\n",
      "email: mbantwal@galaxe.com\n",
      "employeeId: 3976\n",
      "name: Mayur Pai\n",
      "email: mbantwal@galaxe.com\n",
      "True\n",
      "False\n",
      "{'employeeId': 3976, 'name': 'Mayur Pai', 'email': 'mbantwal@galaxe.com'}\n",
      "(3, 4)\n",
      "4\n",
      "True\n",
      "mbantwal@galaxe.com\n"
     ]
    }
   ],
   "source": [
    "employee = {\"employeeId\": 3976, \"name\": \"Mayur Pai\",\n",
    "            \"email\": \"mbantwal@galaxe.com\"}\n",
    "\n",
    "for k, v in employee.items():\n",
    "    print(k + \": \" + str(v))\n",
    "\n",
    "for key in employee:\n",
    "    print(key + \": \" + str(employee[key]))\n",
    "\n",
    "print(\"name\" in employee)\n",
    "print(\"Mayur Pai\" in employee)\n",
    "print(employee)\n",
    "\n",
    "point = (3, 4)\n",
    "print(point)\n",
    "print(point[1])\n",
    "\n",
    "\n",
    "employee = (3976, \"Mayur Pai\", \"mbantwal@galaxe.com\")\n",
    "print(\"Mayur Pai\" in employee)\n",
    "print(employee[2])"
   ]
  },
  {
   "cell_type": "markdown",
   "metadata": {},
   "source": [
    "Module List"
   ]
  },
  {
   "cell_type": "code",
   "execution_count": 17,
   "metadata": {},
   "outputs": [
    {
     "data": {
      "text/plain": [
       "['__doc__',\n",
       " '__loader__',\n",
       " '__name__',\n",
       " '__package__',\n",
       " '__spec__',\n",
       " 'acos',\n",
       " 'acosh',\n",
       " 'asin',\n",
       " 'asinh',\n",
       " 'atan',\n",
       " 'atan2',\n",
       " 'atanh',\n",
       " 'cbrt',\n",
       " 'ceil',\n",
       " 'comb',\n",
       " 'copysign',\n",
       " 'cos',\n",
       " 'cosh',\n",
       " 'degrees',\n",
       " 'dist',\n",
       " 'e',\n",
       " 'erf',\n",
       " 'erfc',\n",
       " 'exp',\n",
       " 'exp2',\n",
       " 'expm1',\n",
       " 'fabs',\n",
       " 'factorial',\n",
       " 'floor',\n",
       " 'fmod',\n",
       " 'frexp',\n",
       " 'fsum',\n",
       " 'gamma',\n",
       " 'gcd',\n",
       " 'hypot',\n",
       " 'inf',\n",
       " 'isclose',\n",
       " 'isfinite',\n",
       " 'isinf',\n",
       " 'isnan',\n",
       " 'isqrt',\n",
       " 'lcm',\n",
       " 'ldexp',\n",
       " 'lgamma',\n",
       " 'log',\n",
       " 'log10',\n",
       " 'log1p',\n",
       " 'log2',\n",
       " 'modf',\n",
       " 'nan',\n",
       " 'nextafter',\n",
       " 'perm',\n",
       " 'pi',\n",
       " 'pow',\n",
       " 'prod',\n",
       " 'radians',\n",
       " 'remainder',\n",
       " 'sin',\n",
       " 'sinh',\n",
       " 'sqrt',\n",
       " 'tan',\n",
       " 'tanh',\n",
       " 'tau',\n",
       " 'trunc',\n",
       " 'ulp']"
      ]
     },
     "execution_count": 17,
     "metadata": {},
     "output_type": "execute_result"
    }
   ],
   "source": [
    "import math\n",
    "\n",
    "dir(math)"
   ]
  },
  {
   "cell_type": "markdown",
   "metadata": {},
   "source": [
    "Modules In Python"
   ]
  },
  {
   "cell_type": "code",
   "execution_count": 18,
   "metadata": {},
   "outputs": [],
   "source": [
    "# import sys \n",
    "# # Add The Path Where The Module Is Situated\n",
    "# sys.path.append(\"C:\\Users\\mbantwal\\GitLab\\Gx\\Python-Workspace\")\n",
    "# # Import The Function That You Wish To Use\n",
    "# import function as f\n",
    "# area = f.calculateArea(2)"
   ]
  },
  {
   "cell_type": "markdown",
   "metadata": {},
   "source": [
    "JSON In Python"
   ]
  },
  {
   "cell_type": "code",
   "execution_count": 19,
   "metadata": {},
   "outputs": [
    {
     "name": "stdout",
     "output_type": "stream",
     "text": [
      "{3976: {'name': 'Mayur Pai', 'email': 'mbantwal@galaxe.com'}, 3985: {'name': 'Kavya', 'email': 'ksrinivasa@galaxe.com'}}\n",
      "{'name': 'Mayur Pai', 'email': 'mbantwal@galaxe.com'}\n",
      "{\"3976\": {\"name\": \"Mayur Pai\", \"email\": \"mbantwal@galaxe.com\"}, \"3985\": {\"name\": \"Kavya\", \"email\": \"ksrinivasa@galaxe.com\"}}\n",
      "{\"3976\": {\"name\": \"Mayur Pai\", \"email\": \"mbantwal@galaxe.com\"}, \"3985\": {\"name\": \"Kavya\", \"email\": \"ksrinivasa@galaxe.com\"}}\n",
      "{\"3976\": {\"name\": \"Mayur Pai\", \"email\": \"mbantwal@galaxe.com\"}, \"3985\": {\"name\": \"Kavya\", \"email\": \"ksrinivasa@galaxe.com\"}}\n",
      "{'3976': {'name': 'Mayur Pai', 'email': 'mbantwal@galaxe.com'}, '3985': {'name': 'Kavya', 'email': 'ksrinivasa@galaxe.com'}}\n",
      "Mayur Pai\n",
      "{'name': 'Mayur Pai', 'email': 'mbantwal@galaxe.com'}\n",
      "{'name': 'Kavya', 'email': 'ksrinivasa@galaxe.com'}\n"
     ]
    }
   ],
   "source": [
    "Gx = {}\n",
    "Gx[3976] = {\n",
    "    \"name\": \"Mayur Pai\",\n",
    "    \"email\": \"mbantwal@galaxe.com\"\n",
    "}\n",
    "\n",
    "Gx[3985] = {\n",
    "    \"name\": \"Kavya\",\n",
    "    \"email\": \"ksrinivasa@galaxe.com\"\n",
    "}\n",
    "\n",
    "print(Gx)\n",
    "print(Gx[3976])\n",
    "\n",
    "import json\n",
    "print(json.dumps(Gx))\n",
    "\n",
    "with open(\"C://Users//mbantwal//GitLab//Gx//Python-Workspace//Galaxe-Data.txt\", \"w\") as filename:\n",
    "    filename.write(json.dumps(Gx))\n",
    "\n",
    "with open(\"C://Users//mbantwal//GitLab//Gx//Python-Workspace//Galaxe-Data.txt\", \"r\") as filename:\n",
    "    print(filename.read())\n",
    "\n",
    "# Or\n",
    "\n",
    "filename = open(\"C://Users//mbantwal//GitLab//Gx//Python-Workspace//Galaxe-Data.txt\", \"r\")\n",
    "fileOutput = filename.read()\n",
    "print(fileOutput)\n",
    "\n",
    "print(json.loads(fileOutput))\n",
    "\n",
    "type(Gx)\n",
    "\n",
    "print(Gx[3976][\"name\"])\n",
    "\n",
    "for person in Gx:\n",
    "    print(Gx[person])"
   ]
  },
  {
   "cell_type": "markdown",
   "metadata": {},
   "source": [
    "File Write In Python"
   ]
  },
  {
   "cell_type": "code",
   "execution_count": 20,
   "metadata": {},
   "outputs": [],
   "source": [
    "filename = open(\"C://Users//mbantwal//GitLab//Gx//Python-Workspace//Galaxe-Data.txt\", \"w\")\n",
    "filename.write(\"My Name Is Mayur Pai B H\")\n",
    "filename.close()"
   ]
  },
  {
   "cell_type": "markdown",
   "metadata": {},
   "source": [
    "File Read In Python"
   ]
  },
  {
   "cell_type": "code",
   "execution_count": 21,
   "metadata": {},
   "outputs": [
    {
     "name": "stdout",
     "output_type": "stream",
     "text": [
      "11\n",
      "['{\"3976\":', '{\"name\":', '\"Mayur', 'Pai\",', '\"email\":', '\"mbantwal@galaxe.com\"},', '\"3985\":', '{\"name\":', '\"Kavya\",', '\"email\":', '\"ksrinivasa@galaxe.com\"}}']\n",
      "{\"3976\": {\"name\": \"Mayur Pai\", \"email\": \"mbantwal@galaxe.com\"}, \"3985\": {\"name\": \"Kavya\", \"email\": \"ksrinivasa@galaxe.com\"}}\n"
     ]
    }
   ],
   "source": [
    "filenameRead = open(\"C://Users//mbantwal//GitLab//Gx//Python-Workspace//Input.txt\", \"r\")\n",
    "# print(filename.read())\n",
    "\n",
    "for line in filenameRead:\n",
    "    tokens = line.split(' ')\n",
    "    print(len(tokens))\n",
    "    print(str(tokens))\n",
    "    print(line)\n",
    "\n",
    "\n",
    "filenameRead.close()\n"
   ]
  },
  {
   "cell_type": "code",
   "execution_count": 22,
   "metadata": {},
   "outputs": [
    {
     "name": "stdout",
     "output_type": "stream",
     "text": [
      "Frequency of  \"mbantwal@galaxe.com\"}, is : 1\n",
      "Frequency of  \"3985\": is : 1\n",
      "Frequency of  {\"3976\": is : 1\n",
      "Frequency of  \"ksrinivasa@galaxe.com\"}} is : 1\n",
      "Frequency of  \"email\": is : 2\n",
      "Frequency of  \"Kavya\", is : 1\n",
      "Frequency of  {\"name\": is : 2\n",
      "Frequency of  Pai\", is : 1\n",
      "Frequency of  \"Mayur is : 1\n"
     ]
    }
   ],
   "source": [
    "def freq(fileRead):\n",
    "\tstr_list = fileRead.split()\n",
    "\tunique_words = set(str_list)\n",
    "\t\n",
    "\tfor words in unique_words :\n",
    "\t\tprint('Frequency of ', words , 'is :', str_list.count(words))\n",
    "\n",
    "if __name__ == \"__main__\":\n",
    "\tfilenameRead = open(\"C://Users//mbantwal//GitLab//Gx//Python-Workspace//Input.txt\", \"r\")\n",
    "\tfreq(filenameRead.read())\n"
   ]
  },
  {
   "cell_type": "code",
   "execution_count": 23,
   "metadata": {},
   "outputs": [
    {
     "name": "stdout",
     "output_type": "stream",
     "text": [
      "4\n"
     ]
    }
   ],
   "source": [
    "def calculateSqaureArea(a):\n",
    "    return a*a\n",
    "\n",
    "if __name__ == \"__main__\":\n",
    "    print(calculateSqaureArea(2))"
   ]
  },
  {
   "cell_type": "markdown",
   "metadata": {},
   "source": [
    "Exceptions In Python"
   ]
  },
  {
   "cell_type": "code",
   "execution_count": 24,
   "metadata": {},
   "outputs": [
    {
     "name": "stdout",
     "output_type": "stream",
     "text": [
      "0.6666666666666666\n"
     ]
    }
   ],
   "source": [
    "x = int(input(\"Enter First Number: \"))\n",
    "y = int(input(\"Enter Second Number: \"))\n",
    "try:\n",
    "    z = x / y\n",
    "# except Exception as e:\n",
    "#     print(\"Exception Occurred: \", e)\n",
    "#     z = \"None\"\n",
    "\n",
    "except ZeroDivisionError as e:\n",
    "    print(\"Exception Type:\", e)\n",
    "\n",
    "except Exception as e:\n",
    "    print(\"Exception Type:\", type(e).__name__)\n",
    "\n",
    "print(z)"
   ]
  },
  {
   "cell_type": "markdown",
   "metadata": {},
   "source": [
    "Class And Objects In Python"
   ]
  },
  {
   "cell_type": "code",
   "execution_count": 25,
   "metadata": {},
   "outputs": [
    {
     "name": "stdout",
     "output_type": "stream",
     "text": [
      "Hey Mayur\n",
      "Mayur How Are You?\n"
     ]
    }
   ],
   "source": [
    "class Human:\n",
    "    def __init__(self, name, salary):\n",
    "        self.name = name\n",
    "        self.salary = salary\n",
    "\n",
    "    def do_word(self):\n",
    "        if self.name == \"Mayur\":\n",
    "            print(\"Hey\", self.name)\n",
    "        elif self.name == \"\":\n",
    "            print(\"Hey Ghost 👻\")\n",
    "\n",
    "    def speak(self):\n",
    "        if self.name == \"\":\n",
    "            print(\"Can't You Speak?\")\n",
    "        else:\n",
    "            print(self.name,\"How Are You?\")\n",
    "\n",
    "mayur = Human(\"Mayur\", 33500)\n",
    "mayur.do_word()\n",
    "mayur.speak()"
   ]
  },
  {
   "cell_type": "markdown",
   "metadata": {},
   "source": [
    "Inheritance In Python"
   ]
  },
  {
   "cell_type": "code",
   "execution_count": 26,
   "metadata": {},
   "outputs": [
    {
     "name": "stdout",
     "output_type": "stream",
     "text": [
      "I'm car\n",
      "I'm motor cycle\n",
      "True\n",
      "False\n",
      "False\n",
      "True\n"
     ]
    }
   ],
   "source": [
    "class Vehicle:\n",
    "    def general_usage(self):\n",
    "        print(\"general use: transporation\")\n",
    "\n",
    "class Car(Vehicle):\n",
    "    def __init__(self):\n",
    "        print(\"I'm car\")\n",
    "        self.wheels = 4\n",
    "        self.has_roof = True\n",
    "\n",
    "    def specific_usage(self):\n",
    "        self.general_usage()\n",
    "        print(\"specific use: commute to work, vacation with family\")\n",
    "\n",
    "class MotorCycle(Vehicle):\n",
    "    def __init__(self):\n",
    "        print(\"I'm motor cycle\")\n",
    "        self.wheels = 2\n",
    "        self.has_roof = False\n",
    "\n",
    "    def specific_usage(self):\n",
    "        self.general_usage()\n",
    "        print(\"specific use: road trip, racing\")\n",
    "\n",
    "c = Car()\n",
    "m = MotorCycle()\n",
    "\n",
    "print(isinstance(c,Car))\n",
    "print(isinstance(c,MotorCycle))\n",
    "print(issubclass(Car,MotorCycle))\n",
    "print(issubclass(Car,Vehicle))"
   ]
  },
  {
   "cell_type": "markdown",
   "metadata": {},
   "source": [
    "Multiple Inheritance In Python"
   ]
  },
  {
   "cell_type": "code",
   "execution_count": 27,
   "metadata": {},
   "outputs": [
    {
     "name": "stdout",
     "output_type": "stream",
     "text": [
      "gardening,programming\n",
      "cooking,art\n",
      "sports\n"
     ]
    }
   ],
   "source": [
    "class Father():\n",
    "   def skills(self):\n",
    "       print(\"gardening,programming\")\n",
    "\n",
    "class Mother():\n",
    "   def skills(self):\n",
    "       print(\"cooking,art\")\n",
    "\n",
    "class Child(Father,Mother):\n",
    "    def skills(self):\n",
    "        Father.skills(self)\n",
    "        Mother.skills(self)\n",
    "        print(\"sports\")\n",
    "\n",
    "c = Child()\n",
    "c.skills()"
   ]
  },
  {
   "cell_type": "markdown",
   "metadata": {},
   "source": [
    "Raise Exception And Finally In Python"
   ]
  },
  {
   "cell_type": "code",
   "execution_count": 28,
   "metadata": {},
   "outputs": [
    {
     "name": "stdout",
     "output_type": "stream",
     "text": [
      "User Defined Execption: Crash Between Two Cars\n",
      "cleaning up file\n"
     ]
    },
    {
     "ename": "ZeroDivisionError",
     "evalue": "division by zero",
     "output_type": "error",
     "traceback": [
      "\u001b[1;31m---------------------------------------------------------------------------\u001b[0m",
      "\u001b[1;31mZeroDivisionError\u001b[0m                         Traceback (most recent call last)",
      "Cell \u001b[1;32mIn[28], line 24\u001b[0m\n\u001b[0;32m     21\u001b[0m        \u001b[38;5;28mprint\u001b[39m(\u001b[38;5;124m\"\u001b[39m\u001b[38;5;124mcleaning up file\u001b[39m\u001b[38;5;124m\"\u001b[39m)\n\u001b[0;32m     22\u001b[0m        f\u001b[38;5;241m.\u001b[39mclose()\n\u001b[1;32m---> 24\u001b[0m \u001b[43mprocess_file\u001b[49m\u001b[43m(\u001b[49m\u001b[43m)\u001b[49m\n",
      "Cell \u001b[1;32mIn[28], line 17\u001b[0m, in \u001b[0;36mprocess_file\u001b[1;34m()\u001b[0m\n\u001b[0;32m     15\u001b[0m \u001b[38;5;28;01mtry\u001b[39;00m:\n\u001b[0;32m     16\u001b[0m     f\u001b[38;5;241m=\u001b[39m\u001b[38;5;28mopen\u001b[39m(\u001b[38;5;124m\"\u001b[39m\u001b[38;5;124mC://Users//mbantwal//GitLab//Gx//Python-Workspace//Input.txt\u001b[39m\u001b[38;5;124m\"\u001b[39m)\n\u001b[1;32m---> 17\u001b[0m     x\u001b[38;5;241m=\u001b[39m\u001b[38;5;241;43m1\u001b[39;49m\u001b[38;5;241;43m/\u001b[39;49m\u001b[38;5;241;43m0\u001b[39;49m\n\u001b[0;32m     18\u001b[0m \u001b[38;5;28;01mexcept\u001b[39;00m \u001b[38;5;167;01mFileNotFoundError\u001b[39;00m \u001b[38;5;28;01mas\u001b[39;00m e:\n\u001b[0;32m     19\u001b[0m     \u001b[38;5;28mprint\u001b[39m(\u001b[38;5;124m\"\u001b[39m\u001b[38;5;124minside except\u001b[39m\u001b[38;5;124m\"\u001b[39m)\n",
      "\u001b[1;31mZeroDivisionError\u001b[0m: division by zero"
     ]
    }
   ],
   "source": [
    "class Accident(Exception):\n",
    "    def __init__(self, msg):\n",
    "        self.msg = msg\n",
    "\n",
    "    def print_exception(self):\n",
    "        print(\"User Defined Execption:\", self.msg)\n",
    "\n",
    "\n",
    "try:\n",
    "    raise Accident(\"Crash Between Two Cars\")\n",
    "except Accident as e:\n",
    "    e.print_exception()\n",
    "\n",
    "def process_file():\n",
    "   try:\n",
    "       f=open(\"C://Users//mbantwal//GitLab//Gx//Python-Workspace//Input.txt\")\n",
    "       x=1/0\n",
    "   except FileNotFoundError as e:\n",
    "       print(\"inside except\")\n",
    "   finally:\n",
    "       print(\"cleaning up file\")\n",
    "       f.close()\n",
    "\n",
    "process_file()"
   ]
  },
  {
   "cell_type": "markdown",
   "metadata": {},
   "source": [
    "Iterators In Python"
   ]
  },
  {
   "cell_type": "code",
   "execution_count": null,
   "metadata": {},
   "outputs": [
    {
     "name": "stdout",
     "output_type": "stream",
     "text": [
      "HBO\n",
      "cnn\n",
      "abc\n",
      "espn\n"
     ]
    }
   ],
   "source": [
    "class RemoteControl():\n",
    "    def __init__(self):\n",
    "        self.channels = [\"HBO\",\"cnn\",\"abc\",\"espn\"]\n",
    "        self.index = -1\n",
    "\n",
    "    def __iter__(self):\n",
    "        return self\n",
    "\n",
    "    def __next__(self):\n",
    "        self.index += 1\n",
    "        if self.index == len(self.channels):\n",
    "            raise StopIteration\n",
    "\n",
    "        return self.channels[self.index]\n",
    "\n",
    "r = RemoteControl()\n",
    "itr=iter(r)\n",
    "print(next(itr))\n",
    "print(next(itr))\n",
    "print(next(itr))\n",
    "print(next(itr))\n",
    "# print(next(itr))"
   ]
  },
  {
   "cell_type": "markdown",
   "metadata": {},
   "source": [
    "Generators In Python"
   ]
  },
  {
   "cell_type": "code",
   "execution_count": null,
   "metadata": {},
   "outputs": [
    {
     "name": "stdout",
     "output_type": "stream",
     "text": [
      "<generator object remote_control_next at 0x0000016F626FF8A0>\n",
      "Mayur\n",
      "Pai\n",
      "B H\n"
     ]
    }
   ],
   "source": [
    "def remote_control_next():\n",
    "    yield \"Mayur\"\n",
    "    yield \"Pai\"\n",
    "    yield \"B H\"\n",
    "\n",
    "itr = remote_control_next()\n",
    "print(itr)\n",
    "print(next(itr))\n",
    "print(next(itr))\n",
    "print(next(itr))"
   ]
  },
  {
   "cell_type": "code",
   "execution_count": null,
   "metadata": {},
   "outputs": [
    {
     "name": "stdout",
     "output_type": "stream",
     "text": [
      "0\n",
      "1\n",
      "1\n",
      "2\n",
      "3\n",
      "5\n",
      "8\n",
      "13\n",
      "21\n",
      "34\n",
      "55\n",
      "89\n"
     ]
    }
   ],
   "source": [
    "def fib():\n",
    "    a, b = 0, 1\n",
    "    while True:\n",
    "        yield a\n",
    "        a, b = b, a+b\n",
    "\n",
    "for f in fib():\n",
    "    if f > 100:\n",
    "        break\n",
    "    print(f)"
   ]
  },
  {
   "cell_type": "markdown",
   "metadata": {},
   "source": [
    "List Set Dict Comprehensions In Python"
   ]
  },
  {
   "cell_type": "code",
   "execution_count": null,
   "metadata": {},
   "outputs": [
    {
     "name": "stdout",
     "output_type": "stream",
     "text": [
      "[2, 4, 6]\n",
      "[1, 4, 9, 16, 25, 36, 49]\n"
     ]
    }
   ],
   "source": [
    "numbers = [1, 2, 3, 4, 5, 6, 7]\n",
    "print([i for i in numbers if i % 2 == 0])\n",
    "print([i*i for i in numbers])\n"
   ]
  },
  {
   "cell_type": "code",
   "execution_count": null,
   "metadata": {},
   "outputs": [
    {
     "name": "stdout",
     "output_type": "stream",
     "text": [
      "{1, 2, 3, 4, 5, 6, 7, 8, 9}\n"
     ]
    }
   ],
   "source": [
    "s = set([1, 2, 3, 4, 5, 6, 7, 8, 9, 1])\n",
    "print(s)"
   ]
  },
  {
   "cell_type": "code",
   "execution_count": null,
   "metadata": {},
   "outputs": [
    {
     "name": "stdout",
     "output_type": "stream",
     "text": [
      "{1, 3, 5}\n"
     ]
    }
   ],
   "source": [
    "print({i for i in [1, 2, 3, 4, 5, 6] if i % 2 != 0})\n"
   ]
  },
  {
   "cell_type": "code",
   "execution_count": null,
   "metadata": {},
   "outputs": [
    {
     "name": "stdout",
     "output_type": "stream",
     "text": [
      "('Mumbai', 'India')\n",
      "('Bangalore', 'India')\n",
      "('Paris', 'France')\n",
      "{'Mumbai': 'India', 'Bangalore': 'India', 'Paris': 'France'}\n"
     ]
    }
   ],
   "source": [
    "cities = [\"Mumbai\", \"Bangalore\", \"Paris\"]\n",
    "countries = [\"India\", \"India\", \"France\"]\n",
    "z = zip(cities, countries)\n",
    "\n",
    "for a in z:\n",
    "    print(a)\n",
    "\n",
    "dict = {city: country for city, country in zip(cities, countries)}\n",
    "print(dict)\n"
   ]
  },
  {
   "cell_type": "markdown",
   "metadata": {},
   "source": [
    "Sets and Frozen Sets In Python"
   ]
  },
  {
   "cell_type": "code",
   "execution_count": null,
   "metadata": {},
   "outputs": [
    {
     "name": "stdout",
     "output_type": "stream",
     "text": [
      "<class 'set'>\n",
      "{'Orange', 'Banana', 'Mango', 'Apple'}\n",
      "{1, 2}\n",
      "{'Orange', 'Banana', 'Mango', 'Apple'}\n",
      "frozenset({'Orange', 'Banana', 'Mango', 'Apple'})\n",
      "{'Guava', 'Banana', 'Mango', 'Drum Stick', 'Water Melon', 'Apple', 'Carrot', 'Orange'}\n",
      "{'Mango'}\n",
      "{'Banana', 'Apple', 'Orange'}\n"
     ]
    }
   ],
   "source": [
    "basketOne = {\"Apple\", \"Orange\", \"Banana\", \"Apple\", \"Mango\"}\n",
    "basketTwo = {\"Guava\", \"Water Melon\", \"Carrot\", \"Drum Stick\", \"Mango\"}\n",
    "print(type(basketOne))\n",
    "print(basketOne)\n",
    "\n",
    "a = set()\n",
    "a.add(1)\n",
    "a.add(2)\n",
    "print(a)\n",
    "\n",
    "unique_fruits = set(basketOne)\n",
    "print(unique_fruits)\n",
    "\n",
    "fs = frozenset(basketOne) # Add Not Allowed\n",
    "print(fs) \n",
    "\n",
    "print(basketOne | basketTwo) # Union\n",
    "print(basketOne & basketTwo) # Intersection\n",
    "print(basketOne - basketTwo) # Set Difference\n",
    "print(basketOne < basketTwo) # Subset\n"
   ]
  },
  {
   "cell_type": "markdown",
   "metadata": {},
   "source": [
    "Decorators In Python"
   ]
  },
  {
   "cell_type": "code",
   "execution_count": null,
   "metadata": {},
   "outputs": [
    {
     "name": "stdout",
     "output_type": "stream",
     "text": [
      "calc_square took 18.297195434570312 ms\n",
      "calc_cube took 29.861927032470703 ms\n"
     ]
    }
   ],
   "source": [
    "import time\n",
    "\n",
    "\n",
    "def time_it(func):\n",
    "    def wrapper_func(*args, **kwargs):\n",
    "        start = time.time()\n",
    "        result = func(*args, **kwargs)\n",
    "        end = time.time()\n",
    "        print(func.__name__ + \" took \" + str((end - start) * 1000) + \" ms\")\n",
    "        # return result\n",
    "    return wrapper_func\n",
    "\n",
    "\n",
    "@time_it\n",
    "def calc_square(array):\n",
    "    sol = []\n",
    "    for i in array:\n",
    "        sol.append(i * i)\n",
    "    return sol\n",
    "\n",
    "\n",
    "@time_it\n",
    "def calc_cube(array):\n",
    "    sol = []\n",
    "    for i in array:\n",
    "        sol.append(i * i * i)\n",
    "    return sol\n",
    "\n",
    "\n",
    "numbers = range(1, 100000)\n",
    "calc_square(numbers)\n",
    "calc_cube(numbers)\n"
   ]
  },
  {
   "cell_type": "markdown",
   "metadata": {},
   "source": [
    "Multithreading In Python"
   ]
  },
  {
   "cell_type": "code",
   "execution_count": null,
   "metadata": {},
   "outputs": [
    {
     "name": "stderr",
     "output_type": "stream",
     "text": [
      "Exception in thread Exception in thread Thread-11 (calc_cube):\n",
      "Traceback (most recent call last):\n",
      "  File \"c:\\Users\\mbantwal\\AppData\\Local\\Programs\\Python\\Python311\\Lib\\threading.py\", line 1038, in _bootstrap_inner\n",
      "Thread-10 (calc_square):\n",
      "Traceback (most recent call last):\n",
      "  File \"c:\\Users\\mbantwal\\AppData\\Local\\Programs\\Python\\Python311\\Lib\\threading.py\", line 1038, in _bootstrap_inner\n",
      "    self.run()\n",
      "  File \"c:\\Users\\mbantwal\\AppData\\Local\\Programs\\Python\\Python311\\Lib\\threading.py\", line 975, in run\n",
      "    self.run()\n",
      "  File \"c:\\Users\\mbantwal\\AppData\\Local\\Programs\\Python\\Python311\\Lib\\threading.py\", line 975, in run\n",
      "    self._target(*self._args, **self._kwargs)\n",
      "  File \"C:\\Users\\mbantwal\\AppData\\Local\\Temp\\ipykernel_25664\\3666671006.py\", line 8, in calc_square\n",
      "    self._target(*self._args, **self._kwargs)\n",
      "  File \"C:\\Users\\mbantwal\\AppData\\Local\\Temp\\ipykernel_25664\\3666671006.py\", line 16, in calc_cube\n",
      "TypeError: time.sleep() takes exactly one argument (2 given)\n",
      "TypeError: time.sleep() takes exactly one argument (2 given)\n"
     ]
    },
    {
     "name": "stdout",
     "output_type": "stream",
     "text": [
      "Done In: 0.026936769485473633\n"
     ]
    }
   ],
   "source": [
    "import time\n",
    "import threading\n",
    "\n",
    "\n",
    "def calc_square(array):\n",
    "    sol = []\n",
    "    for i in array:\n",
    "        time.sleep(0, 2)\n",
    "        sol.append(i * i)\n",
    "    print(sol)\n",
    "\n",
    "\n",
    "def calc_cube(array):\n",
    "    sol = []\n",
    "    for i in array:\n",
    "        time.sleep(0, 2)\n",
    "        sol.append(i * i * i)\n",
    "    print(sol)\n",
    "\n",
    "t = time.time()\n",
    "numbers = range(1, 100000)\n",
    "threadOne = threading.Thread(target=calc_square, args=(numbers, ))\n",
    "threadTwo = threading.Thread(target=calc_cube, args=(numbers, ))\n",
    "\n",
    "threadOne.start()\n",
    "threadTwo.start()\n",
    "\n",
    "threadOne.join()\n",
    "threadTwo.join()\n",
    "\n",
    "print(\"Done In: \" + str(time.time() - t))\n"
   ]
  },
  {
   "cell_type": "markdown",
   "metadata": {},
   "source": [
    "Multiprocessing In Python"
   ]
  },
  {
   "cell_type": "code",
   "execution_count": null,
   "metadata": {},
   "outputs": [
    {
     "name": "stdout",
     "output_type": "stream",
     "text": [
      "<Process name='Process-35' parent=25664 initial>\n",
      "<Process name='Process-36' parent=25664 initial>\n",
      "[]\n"
     ]
    }
   ],
   "source": [
    "import time\n",
    "import multiprocessing\n",
    "\n",
    "square_result = []\n",
    "\n",
    "def calc_square(array):\n",
    "    global square_result\n",
    "    sol = []\n",
    "    for i in array:\n",
    "        square_result.append(i * i)\n",
    "        sol.append(i * i)\n",
    "    print(sol)\n",
    "\n",
    "\n",
    "def calc_cube(array):\n",
    "    sol = []\n",
    "    for i in array:\n",
    "        sol.append(i * i * i)\n",
    "    print(sol)\n",
    "\n",
    "\n",
    "if __name__ == \"__main__\":\n",
    "    arr = [1, 2, 3, 4, 5]\n",
    "    processOne = multiprocessing.Process(target=calc_square, args=(arr, ))\n",
    "    processTwo = multiprocessing.Process(target=calc_cube, args=(arr, ))\n",
    "\n",
    "    print(processOne)\n",
    "    print(processTwo)\n",
    "    \n",
    "    processOne.start()\n",
    "    processTwo.start()\n",
    "\n",
    "    processOne.join()\n",
    "    processTwo.join()\n",
    "\n",
    "    print(square_result)\n",
    "\n",
    "    # <Process name='Process-1' parent=55373 initial>\n",
    "    # <Process name='Process-2' parent=55373 initial>\n",
    "    # [1, 4, 9, 16, 25]\n",
    "    # [1, 8, 27, 64, 125]\n",
    "    # []"
   ]
  },
  {
   "cell_type": "markdown",
   "metadata": {},
   "source": [
    "Sharing Data Between Processes Using Array And Value"
   ]
  },
  {
   "cell_type": "code",
   "execution_count": 32,
   "metadata": {},
   "outputs": [
    {
     "name": "stdout",
     "output_type": "stream",
     "text": [
      "<Process name='Process-9' parent=28948 initial>\n",
      "[0, 0, 0, 0, 0]\n",
      "0.0\n"
     ]
    }
   ],
   "source": [
    "import time\n",
    "import multiprocessing\n",
    "\n",
    "\n",
    "def calc_square(array, square_result, val):\n",
    "    val.value = 3.14\n",
    "    for index, n in enumerate(array):\n",
    "        square_result[index] = n * n\n",
    "\n",
    "\n",
    "if __name__ == \"__main__\":\n",
    "    arr = [1, 2, 3, 4, 5]\n",
    "    square_result = multiprocessing.Array('i', len(arr))\n",
    "    val = multiprocessing.Value('d', 0.0)\n",
    "    processOne = multiprocessing.Process(\n",
    "        target=calc_square, args=(arr, square_result, val))\n",
    "    print(processOne)\n",
    "\n",
    "    processOne.start()\n",
    "    processOne.join()\n",
    "\n",
    "    print(square_result[:]) \n",
    "    print(val.value) \n",
    "    # <Process name='Process-1' parent=55320 initial>\n",
    "    # [1, 4, 9, 16, 25]\n",
    "    # 3.14\n"
   ]
  },
  {
   "cell_type": "code",
   "execution_count": 33,
   "metadata": {},
   "outputs": [
    {
     "name": "stdout",
     "output_type": "stream",
     "text": [
      "<Process name='Process-10' parent=28948 initial>\n"
     ]
    }
   ],
   "source": [
    "import time\n",
    "import multiprocessing\n",
    "\n",
    "\n",
    "def calc_square(array, q):\n",
    "    for i in array:\n",
    "        q.put(i * i)\n",
    "\n",
    "\n",
    "if __name__ == \"__main__\":\n",
    "    arr = [1, 2, 3, 4, 5]\n",
    "    q = multiprocessing.Queue()\n",
    "    processOne = multiprocessing.Process(\n",
    "        target=calc_square, args=(arr, q))\n",
    "    print(processOne)\n",
    "\n",
    "    processOne.start()\n",
    "    processOne.join()\n",
    "\n",
    "    while q.empty() is False:\n",
    "        print(q.get())\n",
    "\n",
    "    # <Process name='Process-1' parent=55942 initial>\n",
    "    # 1\n",
    "    # 4\n",
    "    # 9\n",
    "    # 16\n",
    "    # 25\n"
   ]
  },
  {
   "cell_type": "markdown",
   "metadata": {},
   "source": [
    "Multiprocessing Lock"
   ]
  },
  {
   "cell_type": "code",
   "execution_count": 40,
   "metadata": {},
   "outputs": [
    {
     "name": "stdout",
     "output_type": "stream",
     "text": [
      "<Process name='Process-23' parent=28948 initial>\n",
      "<Process name='Process-24' parent=28948 initial>\n",
      "200\n"
     ]
    }
   ],
   "source": [
    "import time\n",
    "import multiprocessing\n",
    "\n",
    "\n",
    "def withdraw(balance):\n",
    "    for i in range(100):\n",
    "        time.sleep(000.1)\n",
    "        lock.acquire()\n",
    "        balance.value = balance.value + 1\n",
    "        lock.release()\n",
    "\n",
    "\n",
    "def deposit(balance):\n",
    "    for i in range(100):\n",
    "        time.sleep(000.1)\n",
    "        balance.value = balance.value - 1\n",
    "\n",
    "\n",
    "if __name__ == \"__main__\":\n",
    "    v_balance = multiprocessing.Value('i', 200)\n",
    "    lock = multiprocessing.Lock()\n",
    "    processOne = multiprocessing.Process(\n",
    "        target=withdraw, args=(v_balance,))\n",
    "    processTwo = multiprocessing.Process(\n",
    "        target=deposit, args=(v_balance,))\n",
    "    print(processOne)\n",
    "    print(processTwo)\n",
    "\n",
    "    processOne.start()\n",
    "    processTwo.start()\n",
    "\n",
    "    processOne.join()\n",
    "    processTwo.join()\n",
    "\n",
    "    print(v_balance.value)\n"
   ]
  },
  {
   "cell_type": "markdown",
   "metadata": {},
   "source": [
    "Multiprocessing Pool (Map Reduce)"
   ]
  },
  {
   "cell_type": "code",
   "execution_count": 1,
   "metadata": {},
   "outputs": [],
   "source": [
    "from multiprocessing import Pool\n",
    "import time\n",
    "\n",
    "def func(n):\n",
    "    return n * n\n",
    "\n",
    "if __name__ == \"__main__\":\n",
    "    array = [1,2,3,4,5]\n",
    "    p = Pool()\n",
    "    t1 = time.time()\n",
    "    result = p.map(func, array)\n",
    "    print(time.time() - t1)\n",
    "\n",
    "    result = []\n",
    "\n",
    "    t2 = time.time()\n",
    "    for i in array:\n",
    "        result.append(func(i))\n",
    "    print(time.time() - t2)\n",
    "\n",
    "    # 0.02081775665283203\n",
    "    # 1.2636184692382812e-05\n"
   ]
  },
  {
   "cell_type": "markdown",
   "metadata": {},
   "source": [
    "Unit Testing In Python"
   ]
  },
  {
   "cell_type": "code",
   "execution_count": 2,
   "metadata": {},
   "outputs": [
    {
     "name": "stdout",
     "output_type": "stream",
     "text": [
      "[1, 4, 9, 25]\n"
     ]
    }
   ],
   "source": [
    "def calc_square(arr):\n",
    "    result = []\n",
    "    for i in arr:\n",
    "        result.append(i * i)\n",
    "    return result\n",
    "\n",
    "\n",
    "def test_calc_square():\n",
    "    result = calc_square([1, 2, 3, 5])\n",
    "    assert result == [1, 4, 9, 25]\n",
    "\n",
    "# test_ rule for methods and file name\n",
    "# python -m pytest -> Run The Test Files Recursively\n",
    "# py.test -> Alternate Way\n",
    "# py.test -v -> (Verbose : PASS/FAIL)\n",
    "\n",
    "\n",
    "print(calc_square([1, 2, 3, 5]))\n"
   ]
  },
  {
   "cell_type": "markdown",
   "metadata": {},
   "source": [
    "Numpy"
   ]
  },
  {
   "cell_type": "code",
   "execution_count": 1,
   "metadata": {},
   "outputs": [
    {
     "name": "stdout",
     "output_type": "stream",
     "text": [
      "[1 2 3]\n"
     ]
    }
   ],
   "source": [
    "import numpy as np\n",
    "a = np.array([1, 2, 3])\n",
    "print(a)"
   ]
  },
  {
   "cell_type": "code",
   "execution_count": 10,
   "metadata": {},
   "outputs": [
    {
     "name": "stdout",
     "output_type": "stream",
     "text": [
      "28000\n",
      "4\n",
      "1000\n",
      "4000\n",
      "[5 7 9]\n",
      "3\n",
      "1\n",
      "<built-in method itemset of numpy.ndarray object at 0x00000133FABAFB70>\n",
      "4\n"
     ]
    }
   ],
   "source": [
    "import numpy as np\n",
    "import time\n",
    "import sys\n",
    "\n",
    "l = range(1000)\n",
    "print(sys.getsizeof(5) * len(l))\n",
    "\n",
    "array = np.arange(1000)\n",
    "print(array.itemsize)\n",
    "print(array.size)\n",
    "print(array.size * array.itemsize)\n",
    "\n",
    "a1 = np.array([1, 2, 3])\n",
    "a2 = np.array([4, 5, 6])\n",
    "\n",
    "print(a1 + a2)\n",
    "print(a1[2])\n",
    "print(a1.ndim)\n",
    "print(a1.itemset)\n",
    "print(a1.itemsize)\n"
   ]
  },
  {
   "cell_type": "code",
   "execution_count": 15,
   "metadata": {},
   "outputs": [
    {
     "name": "stdout",
     "output_type": "stream",
     "text": [
      "8\n",
      "<built-in method itemset of numpy.ndarray object at 0x00000133FF7BBB10>\n",
      "6\n",
      "(3, 2)\n",
      "2\n",
      "[[1. 2.]\n",
      " [3. 4.]\n",
      " [5. 6.]]\n"
     ]
    }
   ],
   "source": [
    "import numpy as np\n",
    "arr = np.array([[1,2], [3,4], [5, 6]], dtype=np.float64)\n",
    "print(arr.itemsize)\n",
    "print(arr.itemset)\n",
    "print(arr.size)\n",
    "print(arr.shape)\n",
    "print(arr.ndim)\n",
    "print(arr)"
   ]
  },
  {
   "cell_type": "code",
   "execution_count": 34,
   "metadata": {},
   "outputs": [
    {
     "name": "stdout",
     "output_type": "stream",
     "text": [
      "[[0. 0. 0. 0.]\n",
      " [0. 0. 0. 0.]\n",
      " [0. 0. 0. 0.]]\n",
      "[[1. 1. 1. 1.]\n",
      " [1. 1. 1. 1.]\n",
      " [1. 1. 1. 1.]]\n",
      "[[0. 0. 0. 0.]\n",
      " [0. 0. 0. 0.]\n",
      " [0. 0. 0. 0.]]\n"
     ]
    },
    {
     "data": {
      "text/plain": [
       "1.707825127659933"
      ]
     },
     "execution_count": 34,
     "metadata": {},
     "output_type": "execute_result"
    }
   ],
   "source": [
    "import numpy as np\n",
    "arr = np.array([[1,2], [3,4], [5, 6]], dtype=np.float64)\n",
    "arr0 = np.zeros((3,4))\n",
    "arr1 = np.ones((3,4))\n",
    "print(arr0)\n",
    "print(arr1)\n",
    "\n",
    "np.arange(1,5)\n",
    "np.linspace(1,2,3)\n",
    "\n",
    "arr0.reshape(12,1)\n",
    "print(arr0)\n",
    "\n",
    "arr0.ravel()\n",
    "\n",
    "arr.min()\n",
    "arr.max()\n",
    "arr.sum()\n",
    "arr.sum(axis=0)\n",
    "arr.sum(axis=1)\n",
    "np.sqrt(arr)\n",
    "np.std(arr)"
   ]
  },
  {
   "cell_type": "code",
   "execution_count": 56,
   "metadata": {},
   "outputs": [
    {
     "name": "stdout",
     "output_type": "stream",
     "text": [
      "[1 2 3]\n",
      "[4 5 6]\n",
      "[7 8 9]\n",
      "1\n",
      "2\n",
      "3\n",
      "4\n",
      "5\n",
      "6\n",
      "7\n",
      "8\n",
      "9\n",
      "[[ 0  1  2]\n",
      " [ 3  4  5]\n",
      " [ 6  7  8]\n",
      " [ 9 10 11]]\n",
      "[[ 0  1  2  6  7  8]\n",
      " [ 3  4  5  9 10 11]]\n",
      "Greater Than 5:  [ 6  7  8  9 10 11]\n",
      "[[ 0  1  2  3]\n",
      " [ 4  5 -1 -1]\n",
      " [-1 -1 -1 -1]]\n"
     ]
    }
   ],
   "source": [
    "import numpy as np\n",
    "arr = np.array([[1, 2, 3], [4, 5, 6], [7, 8, 9]])\n",
    "arr[0:1, 2]\n",
    "arr[0:1]\n",
    "\n",
    "for row in arr:\n",
    "    print(row)\n",
    "\n",
    "for cell in arr.flat:\n",
    "    print(cell)\n",
    "\n",
    "a1 = np.arange(6).reshape(2,3)\n",
    "a2 = np.arange(6,12).reshape(2,3)\n",
    "print(np.vstack((a1,a2)))\n",
    "print(np.hstack((a1,a2)))\n",
    "\n",
    "np.vsplit(a1, 1)\n",
    "\n",
    "a = np.arange(12).reshape(3, 4)\n",
    "b = a > 5\n",
    "\n",
    "print(\"Greater Than 5: \", a[b])\n",
    "\n",
    "a[b] = -1\n",
    "print(a)"
   ]
  },
  {
   "cell_type": "markdown",
   "metadata": {},
   "source": [
    "nditer In Python"
   ]
  },
  {
   "cell_type": "code",
   "execution_count": 57,
   "metadata": {},
   "outputs": [
    {
     "name": "stdout",
     "output_type": "stream",
     "text": [
      "0\n",
      "1\n",
      "2\n",
      "3\n",
      "4\n",
      "5\n",
      "6\n",
      "7\n",
      "8\n",
      "9\n",
      "10\n",
      "11\n",
      "0\n",
      "1\n",
      "2\n",
      "3\n",
      "4\n",
      "5\n",
      "6\n",
      "7\n",
      "8\n",
      "9\n",
      "10\n",
      "11\n",
      "0\n",
      "1\n",
      "2\n",
      "3\n",
      "4\n",
      "5\n",
      "6\n",
      "7\n",
      "8\n",
      "9\n",
      "10\n",
      "11\n",
      "0\n",
      "4\n",
      "8\n",
      "1\n",
      "5\n",
      "9\n",
      "2\n",
      "6\n",
      "10\n",
      "3\n",
      "7\n",
      "11\n",
      "[0 4 8]\n",
      "[1 5 9]\n",
      "[ 2  6 10]\n",
      "[ 3  7 11]\n",
      "0 3\n",
      "1 3\n",
      "4 3\n",
      "9 3\n",
      "16 7\n",
      "25 7\n",
      "36 7\n",
      "49 7\n",
      "64 11\n",
      "81 11\n",
      "100 11\n",
      "121 11\n"
     ]
    }
   ],
   "source": [
    "import numpy as np\n",
    "a = np.arange(12).reshape(3,4)\n",
    "a\n",
    "\n",
    "for row in a:\n",
    "    for cell in row:\n",
    "        print(cell)\n",
    "\n",
    "\n",
    "for cell in a.flatten():\n",
    "    print(cell)\n",
    "\n",
    "for x in np.nditer(a, order='C'):\n",
    "    print(x)\n",
    "\n",
    "for x in np.nditer(a, order='F'):\n",
    "    print(x)\n",
    "\n",
    "for x in np.nditer(a, flags=['external_loop'],order='F'):\n",
    "    print(x)\n",
    "\n",
    "for x in np.nditer(a, op_flags=['readwrite']):\n",
    "    x[...] = x * x\n",
    "\n",
    "a\n",
    "\n",
    "b = np.arange(3, 15, 4).reshape(3,1)\n",
    "b\n",
    "\n",
    "for x, y in np.nditer([a,b]):\n",
    "    print (x,y)"
   ]
  }
 ],
 "metadata": {
  "kernelspec": {
   "display_name": "Python 3.11.1 64-bit",
   "language": "python",
   "name": "python3"
  },
  "language_info": {
   "codemirror_mode": {
    "name": "ipython",
    "version": 3
   },
   "file_extension": ".py",
   "mimetype": "text/x-python",
   "name": "python",
   "nbconvert_exporter": "python",
   "pygments_lexer": "ipython3",
   "version": "3.11.1"
  },
  "orig_nbformat": 4,
  "vscode": {
   "interpreter": {
    "hash": "560edca56c4e895613e99aaace2b4de396dbf6f083034ef3c9f6478231a21f2e"
   }
  }
 },
 "nbformat": 4,
 "nbformat_minor": 2
}
