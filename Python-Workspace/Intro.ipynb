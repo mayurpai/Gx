{
 "cells": [
  {
   "cell_type": "code",
   "execution_count": 6,
   "metadata": {},
   "outputs": [
    {
     "name": "stdout",
     "output_type": "stream",
     "text": [
      "Area Of The Triangle =  28.07\n"
     ]
    }
   ],
   "source": [
    "base = 5.45\n",
    "height = 10.3\n",
    "area = 0.5 * base * height\n",
    "print(\"Area Of The Triangle = \", round(area, 2))"
   ]
  },
  {
   "cell_type": "code",
   "execution_count": 13,
   "metadata": {},
   "outputs": [
    {
     "name": "stdout",
     "output_type": "stream",
     "text": [
      "21.23 Is An Odd Number!\n"
     ]
    }
   ],
   "source": [
    "num = float((input(\"Enter A Number: \")))\n",
    "if num % 2 == 0:\n",
    "    print(str(num) + \" Is An Even Number!\")\n",
    "else:\n",
    "    print(str(num) + \" Is An Odd Number!\")"
   ]
  },
  {
   "cell_type": "code",
   "execution_count": 9,
   "metadata": {},
   "outputs": [
    {
     "name": "stdout",
     "output_type": "stream",
     "text": [
      "Naan: Indian Dish\n"
     ]
    }
   ],
   "source": [
    "indianDishes = [\"Samosa\", \"Daal\", \"Naan\"]\n",
    "chineseDishes = [\"Egg Roll\", \"Pot Sticker\", \"Fried Rice\"]\n",
    "italianDishes = [\"Pizza\", \"Pasta\", \"Risotto\"]\n",
    "\n",
    "dishInput = input(\"Enter The Dish: \")\n",
    "\n",
    "if dishInput in indianDishes:\n",
    "    print(dishInput + \": Indian Dish\")\n",
    "elif dishInput in chineseDishes:\n",
    "    print(dishInput + \": Chinese Dish\")\n",
    "elif dishInput in italianDishes:\n",
    "    print(dishInput + \": Italian Dish\")\n",
    "else:\n",
    "    print(\"Dish Not In Menu\")\n"
   ]
  },
  {
   "cell_type": "code",
   "execution_count": 11,
   "metadata": {},
   "outputs": [
    {
     "name": "stdout",
     "output_type": "stream",
     "text": [
      "1\n",
      "2\n",
      "3\n",
      "4\n",
      "5\n",
      "6\n",
      "7\n",
      "8\n",
      "9\n",
      "10\n"
     ]
    }
   ],
   "source": [
    "for i in range(1,11):\n",
    "    print(i)"
   ]
  },
  {
   "cell_type": "code",
   "execution_count": 23,
   "metadata": {},
   "outputs": [
    {
     "name": "stdout",
     "output_type": "stream",
     "text": [
      "2345\n",
      "1234\n",
      "3454\n",
      "5466\n",
      "Length Of Expenses : 4\n"
     ]
    }
   ],
   "source": [
    "expenses = [2345, 1234, 3454, 5466]\n",
    "for i in expenses:\n",
    "    print(i)\n",
    "print(\"Length Of Expenses : \" + str(len(expenses)))"
   ]
  },
  {
   "cell_type": "code",
   "execution_count": 25,
   "metadata": {},
   "outputs": [
    {
     "name": "stdout",
     "output_type": "stream",
     "text": [
      "Month: 1, Expense: 2345\n",
      "Month: 2, Expense: 1234\n",
      "Month: 3, Expense: 3454\n",
      "Month: 4, Expense: 5466\n",
      "Total Expense = 12499\n"
     ]
    }
   ],
   "source": [
    "expenses = [2345, 1234, 3454, 5466]\n",
    "total = 0\n",
    "for i in range(len(expenses)):\n",
    "    print(\"Month: \" + str(i + 1) + \", Expense: \" + str(expenses[i]))\n",
    "    total += expenses[i]\n",
    "print(\"Total Expense = \" + str(total))\n"
   ]
  },
  {
   "cell_type": "code",
   "execution_count": 27,
   "metadata": {},
   "outputs": [
    {
     "name": "stdout",
     "output_type": "stream",
     "text": [
      "1\n",
      "9\n",
      "25\n"
     ]
    }
   ],
   "source": [
    "for i in range(1, 6, 2):\n",
    "    print(i*i)"
   ]
  },
  {
   "cell_type": "code",
   "execution_count": 33,
   "metadata": {},
   "outputs": [
    {
     "name": "stdout",
     "output_type": "stream",
     "text": [
      "1\n",
      "2\n",
      "3\n",
      "4\n",
      "5\n"
     ]
    }
   ],
   "source": [
    "i = 1\n",
    "while i <= 5:\n",
    "    print(i)\n",
    "    i += 1\n"
   ]
  },
  {
   "cell_type": "code",
   "execution_count": 39,
   "metadata": {},
   "outputs": [
    {
     "name": "stdout",
     "output_type": "stream",
     "text": [
      "myExpense = 2491\n",
      "yourExpense = 1691\n"
     ]
    }
   ],
   "source": [
    "myExpense = [123, 456, 789, 1123]\n",
    "yourExpense = [234, 567, 890]\n",
    "\n",
    "def expenseCalculator(expense):\n",
    "    total = 0\n",
    "    for i in range(len(expense)):\n",
    "        total += expense[i]\n",
    "    return total\n",
    "\n",
    "print(\"myExpense = \" + str(expenseCalculator(myExpense)))\n",
    "print(\"yourExpense = \" + str(expenseCalculator(yourExpense)))"
   ]
  },
  {
   "cell_type": "code",
   "execution_count": null,
   "metadata": {},
   "outputs": [],
   "source": []
  }
 ],
 "metadata": {
  "kernelspec": {
   "display_name": "Python 3.11.1 64-bit",
   "language": "python",
   "name": "python3"
  },
  "language_info": {
   "codemirror_mode": {
    "name": "ipython",
    "version": 3
   },
   "file_extension": ".py",
   "mimetype": "text/x-python",
   "name": "python",
   "nbconvert_exporter": "python",
   "pygments_lexer": "ipython3",
   "version": "3.11.1"
  },
  "orig_nbformat": 4,
  "vscode": {
   "interpreter": {
    "hash": "560edca56c4e895613e99aaace2b4de396dbf6f083034ef3c9f6478231a21f2e"
   }
  }
 },
 "nbformat": 4,
 "nbformat_minor": 2
}
