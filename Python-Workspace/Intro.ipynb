{
 "cells": [
  {
   "cell_type": "markdown",
   "metadata": {},
   "source": [
    "Simple Program"
   ]
  },
  {
   "cell_type": "code",
   "execution_count": 65,
   "metadata": {},
   "outputs": [
    {
     "name": "stdout",
     "output_type": "stream",
     "text": [
      "Area Of The Triangle =  28.07\n"
     ]
    }
   ],
   "source": [
    "base = 5.45\n",
    "height = 10.3\n",
    "area = 0.5 * base * height\n",
    "print(\"Area Of The Triangle = \", round(area, 2))"
   ]
  },
  {
   "cell_type": "markdown",
   "metadata": {},
   "source": [
    "Input, Casting And If-Else Statement "
   ]
  },
  {
   "cell_type": "code",
   "execution_count": 66,
   "metadata": {},
   "outputs": [
    {
     "name": "stdout",
     "output_type": "stream",
     "text": [
      "1 Is An Odd Number!\n"
     ]
    }
   ],
   "source": [
    "num = int((input(\"Enter A Number: \")))\n",
    "if num % 2 == 0:\n",
    "    print(str(num) + \" Is An Even Number!\")\n",
    "else:\n",
    "    print(str(num) + \" Is An Odd Number!\")"
   ]
  },
  {
   "cell_type": "markdown",
   "metadata": {},
   "source": [
    "Nest If-Else Statements"
   ]
  },
  {
   "cell_type": "code",
   "execution_count": 67,
   "metadata": {},
   "outputs": [
    {
     "name": "stdout",
     "output_type": "stream",
     "text": [
      "Pizza: Italian Dish\n"
     ]
    }
   ],
   "source": [
    "indianDishes = [\"Samosa\", \"Daal\", \"Naan\"]\n",
    "chineseDishes = [\"Egg Roll\", \"Pot Sticker\", \"Fried Rice\"]\n",
    "italianDishes = [\"Pizza\", \"Pasta\", \"Risotto\"]\n",
    "\n",
    "dishInput = input(\"Enter The Dish: \")\n",
    "\n",
    "if dishInput in indianDishes:\n",
    "    print(dishInput + \": Indian Dish\")\n",
    "elif dishInput in chineseDishes:\n",
    "    print(dishInput + \": Chinese Dish\")\n",
    "elif dishInput in italianDishes:\n",
    "    print(dishInput + \": Italian Dish\")\n",
    "else:\n",
    "    print(\"Dish Not In Menu\")\n"
   ]
  },
  {
   "cell_type": "markdown",
   "metadata": {},
   "source": [
    "For Loop In Range"
   ]
  },
  {
   "cell_type": "code",
   "execution_count": 68,
   "metadata": {},
   "outputs": [
    {
     "name": "stdout",
     "output_type": "stream",
     "text": [
      "1\n",
      "2\n",
      "3\n",
      "4\n",
      "5\n",
      "6\n",
      "7\n",
      "8\n",
      "9\n",
      "10\n"
     ]
    }
   ],
   "source": [
    "for i in range(1,11):\n",
    "    print(i)"
   ]
  },
  {
   "cell_type": "markdown",
   "metadata": {},
   "source": [
    "For Loop With len Funciton"
   ]
  },
  {
   "cell_type": "code",
   "execution_count": 69,
   "metadata": {},
   "outputs": [
    {
     "name": "stdout",
     "output_type": "stream",
     "text": [
      "2345\n",
      "1234\n",
      "3454\n",
      "5466\n",
      "Length Of Expenses : 4\n"
     ]
    }
   ],
   "source": [
    "expenses = [2345, 1234, 3454, 5466]\n",
    "for i in expenses:\n",
    "    print(i)\n",
    "print(\"Length Of Expenses : \" + str(len(expenses)))"
   ]
  },
  {
   "cell_type": "markdown",
   "metadata": {},
   "source": [
    "For Loop With Range And len Function"
   ]
  },
  {
   "cell_type": "code",
   "execution_count": 70,
   "metadata": {},
   "outputs": [
    {
     "name": "stdout",
     "output_type": "stream",
     "text": [
      "Month: 1, Expense: 2345\n",
      "Month: 2, Expense: 1234\n",
      "Month: 3, Expense: 3454\n",
      "Month: 4, Expense: 5466\n",
      "Total Expense = 12499\n"
     ]
    }
   ],
   "source": [
    "expenses = [2345, 1234, 3454, 5466]\n",
    "total = 0\n",
    "for i in range(len(expenses)):\n",
    "    print(\"Month: \" + str(i + 1) + \", Expense: \" + str(expenses[i]))\n",
    "    total += expenses[i]\n",
    "print(\"Total Expense = \" + str(total))\n"
   ]
  },
  {
   "cell_type": "markdown",
   "metadata": {},
   "source": [
    "For Loop With Step Counter"
   ]
  },
  {
   "cell_type": "code",
   "execution_count": 71,
   "metadata": {},
   "outputs": [
    {
     "name": "stdout",
     "output_type": "stream",
     "text": [
      "1\n",
      "9\n",
      "25\n"
     ]
    }
   ],
   "source": [
    "for i in range(1, 6, 2):\n",
    "    print(i*i)"
   ]
  },
  {
   "cell_type": "markdown",
   "metadata": {},
   "source": [
    "While Loop"
   ]
  },
  {
   "cell_type": "code",
   "execution_count": 72,
   "metadata": {},
   "outputs": [
    {
     "name": "stdout",
     "output_type": "stream",
     "text": [
      "1\n",
      "2\n",
      "3\n",
      "4\n",
      "5\n"
     ]
    }
   ],
   "source": [
    "i = 1\n",
    "while i <= 5:\n",
    "    print(i)\n",
    "    i += 1\n"
   ]
  },
  {
   "cell_type": "markdown",
   "metadata": {},
   "source": [
    "Functions In Python"
   ]
  },
  {
   "cell_type": "code",
   "execution_count": 73,
   "metadata": {},
   "outputs": [
    {
     "name": "stdout",
     "output_type": "stream",
     "text": [
      "myExpense = 2491\n",
      "yourExpense = 1691\n"
     ]
    }
   ],
   "source": [
    "myExpense = [123, 456, 789, 1123]\n",
    "yourExpense = [234, 567, 890]\n",
    "\n",
    "def expenseCalculator(expense):\n",
    "    total = 0\n",
    "    for i in range(len(expense)):\n",
    "        total += expense[i]\n",
    "    return total\n",
    "\n",
    "print(\"myExpense = \" + str(expenseCalculator(myExpense)))\n",
    "print(\"yourExpense = \" + str(expenseCalculator(yourExpense)))"
   ]
  },
  {
   "cell_type": "markdown",
   "metadata": {},
   "source": [
    "Dictionary And Tuples"
   ]
  },
  {
   "cell_type": "code",
   "execution_count": 74,
   "metadata": {},
   "outputs": [
    {
     "name": "stdout",
     "output_type": "stream",
     "text": [
      "employeeId: 3976\n",
      "name: Mayur Pai\n",
      "email: mbantwal@galaxe.com\n",
      "employeeId: 3976\n",
      "name: Mayur Pai\n",
      "email: mbantwal@galaxe.com\n",
      "True\n",
      "False\n",
      "{'employeeId': 3976, 'name': 'Mayur Pai', 'email': 'mbantwal@galaxe.com'}\n",
      "(3, 4)\n",
      "4\n",
      "True\n",
      "mbantwal@galaxe.com\n"
     ]
    }
   ],
   "source": [
    "employee = {\"employeeId\": 3976, \"name\": \"Mayur Pai\",\n",
    "            \"email\": \"mbantwal@galaxe.com\"}\n",
    "\n",
    "for k, v in employee.items():\n",
    "    print(k + \": \" + str(v))\n",
    "\n",
    "for key in employee:\n",
    "    print(key + \": \" + str(employee[key]))\n",
    "\n",
    "print(\"name\" in employee)\n",
    "print(\"Mayur Pai\" in employee)\n",
    "print(employee)\n",
    "\n",
    "point = (3, 4)\n",
    "print(point)\n",
    "print(point[1])\n",
    "\n",
    "\n",
    "employee = (3976, \"Mayur Pai\", \"mbantwal@galaxe.com\")\n",
    "print(\"Mayur Pai\" in employee)\n",
    "print(employee[2])"
   ]
  },
  {
   "cell_type": "markdown",
   "metadata": {},
   "source": [
    "Module List"
   ]
  },
  {
   "cell_type": "code",
   "execution_count": 75,
   "metadata": {},
   "outputs": [
    {
     "data": {
      "text/plain": [
       "['__doc__',\n",
       " '__loader__',\n",
       " '__name__',\n",
       " '__package__',\n",
       " '__spec__',\n",
       " 'acos',\n",
       " 'acosh',\n",
       " 'asin',\n",
       " 'asinh',\n",
       " 'atan',\n",
       " 'atan2',\n",
       " 'atanh',\n",
       " 'cbrt',\n",
       " 'ceil',\n",
       " 'comb',\n",
       " 'copysign',\n",
       " 'cos',\n",
       " 'cosh',\n",
       " 'degrees',\n",
       " 'dist',\n",
       " 'e',\n",
       " 'erf',\n",
       " 'erfc',\n",
       " 'exp',\n",
       " 'exp2',\n",
       " 'expm1',\n",
       " 'fabs',\n",
       " 'factorial',\n",
       " 'floor',\n",
       " 'fmod',\n",
       " 'frexp',\n",
       " 'fsum',\n",
       " 'gamma',\n",
       " 'gcd',\n",
       " 'hypot',\n",
       " 'inf',\n",
       " 'isclose',\n",
       " 'isfinite',\n",
       " 'isinf',\n",
       " 'isnan',\n",
       " 'isqrt',\n",
       " 'lcm',\n",
       " 'ldexp',\n",
       " 'lgamma',\n",
       " 'log',\n",
       " 'log10',\n",
       " 'log1p',\n",
       " 'log2',\n",
       " 'modf',\n",
       " 'nan',\n",
       " 'nextafter',\n",
       " 'perm',\n",
       " 'pi',\n",
       " 'pow',\n",
       " 'prod',\n",
       " 'radians',\n",
       " 'remainder',\n",
       " 'sin',\n",
       " 'sinh',\n",
       " 'sqrt',\n",
       " 'tan',\n",
       " 'tanh',\n",
       " 'tau',\n",
       " 'trunc',\n",
       " 'ulp']"
      ]
     },
     "execution_count": 75,
     "metadata": {},
     "output_type": "execute_result"
    }
   ],
   "source": [
    "import math\n",
    "\n",
    "dir(math)"
   ]
  },
  {
   "cell_type": "markdown",
   "metadata": {},
   "source": [
    "Modules In Python"
   ]
  },
  {
   "cell_type": "code",
   "execution_count": 76,
   "metadata": {},
   "outputs": [],
   "source": [
    "# import sys \n",
    "# # Add The Path Where The Module Is Situated\n",
    "# sys.path.append(\"C:\\Users\\mbantwal\\GitLab\\Gx\\Python-Workspace\")\n",
    "# # Import The Function That You Wish To Use\n",
    "# import function as f\n",
    "# area = f.calculateArea(2)"
   ]
  },
  {
   "cell_type": "markdown",
   "metadata": {},
   "source": [
    "JSON In Python"
   ]
  },
  {
   "cell_type": "code",
   "execution_count": 77,
   "metadata": {},
   "outputs": [
    {
     "name": "stdout",
     "output_type": "stream",
     "text": [
      "{3976: {'name': 'Mayur Pai', 'email': 'mbantwal@galaxe.com'}, 3985: {'name': 'Kavya', 'email': 'ksrinivasa@galaxe.com'}}\n",
      "{'name': 'Mayur Pai', 'email': 'mbantwal@galaxe.com'}\n",
      "{\"3976\": {\"name\": \"Mayur Pai\", \"email\": \"mbantwal@galaxe.com\"}, \"3985\": {\"name\": \"Kavya\", \"email\": \"ksrinivasa@galaxe.com\"}}\n",
      "{\"3976\": {\"name\": \"Mayur Pai\", \"email\": \"mbantwal@galaxe.com\"}, \"3985\": {\"name\": \"Kavya\", \"email\": \"ksrinivasa@galaxe.com\"}}\n",
      "{\"3976\": {\"name\": \"Mayur Pai\", \"email\": \"mbantwal@galaxe.com\"}, \"3985\": {\"name\": \"Kavya\", \"email\": \"ksrinivasa@galaxe.com\"}}\n",
      "{'3976': {'name': 'Mayur Pai', 'email': 'mbantwal@galaxe.com'}, '3985': {'name': 'Kavya', 'email': 'ksrinivasa@galaxe.com'}}\n",
      "Mayur Pai\n",
      "{'name': 'Mayur Pai', 'email': 'mbantwal@galaxe.com'}\n",
      "{'name': 'Kavya', 'email': 'ksrinivasa@galaxe.com'}\n"
     ]
    }
   ],
   "source": [
    "Gx = {}\n",
    "Gx[3976] = {\n",
    "    \"name\": \"Mayur Pai\",\n",
    "    \"email\": \"mbantwal@galaxe.com\"\n",
    "}\n",
    "\n",
    "Gx[3985] = {\n",
    "    \"name\": \"Kavya\",\n",
    "    \"email\": \"ksrinivasa@galaxe.com\"\n",
    "}\n",
    "\n",
    "print(Gx)\n",
    "print(Gx[3976])\n",
    "\n",
    "import json\n",
    "print(json.dumps(Gx))\n",
    "\n",
    "with open(\"C://Users//mbantwal//GitLab//Gx//Python-Workspace//Galaxe-Data.txt\", \"w\") as filename:\n",
    "    filename.write(json.dumps(Gx))\n",
    "\n",
    "with open(\"C://Users//mbantwal//GitLab//Gx//Python-Workspace//Galaxe-Data.txt\", \"r\") as filename:\n",
    "    print(filename.read())\n",
    "\n",
    "# Or\n",
    "\n",
    "filename = open(\"C://Users//mbantwal//GitLab//Gx//Python-Workspace//Galaxe-Data.txt\", \"r\")\n",
    "fileOutput = filename.read()\n",
    "print(fileOutput)\n",
    "\n",
    "print(json.loads(fileOutput))\n",
    "\n",
    "type(Gx)\n",
    "\n",
    "print(Gx[3976][\"name\"])\n",
    "\n",
    "for person in Gx:\n",
    "    print(Gx[person])"
   ]
  },
  {
   "cell_type": "markdown",
   "metadata": {},
   "source": [
    "File Write In Python"
   ]
  },
  {
   "cell_type": "code",
   "execution_count": 78,
   "metadata": {},
   "outputs": [],
   "source": [
    "filename = open(\"C://Users//mbantwal//GitLab//Gx//Python-Workspace//Galaxe-Data.txt\", \"w\")\n",
    "filename.write(\"My Name Is Mayur Pai B H\")\n",
    "filename.close()"
   ]
  },
  {
   "cell_type": "markdown",
   "metadata": {},
   "source": [
    "File Read In Python"
   ]
  },
  {
   "cell_type": "code",
   "execution_count": 79,
   "metadata": {},
   "outputs": [
    {
     "name": "stdout",
     "output_type": "stream",
     "text": [
      "11\n",
      "['{\"3976\":', '{\"name\":', '\"Mayur', 'Pai\",', '\"email\":', '\"mbantwal@galaxe.com\"},', '\"3985\":', '{\"name\":', '\"Kavya\",', '\"email\":', '\"ksrinivasa@galaxe.com\"}}']\n",
      "{\"3976\": {\"name\": \"Mayur Pai\", \"email\": \"mbantwal@galaxe.com\"}, \"3985\": {\"name\": \"Kavya\", \"email\": \"ksrinivasa@galaxe.com\"}}\n"
     ]
    }
   ],
   "source": [
    "filenameRead = open(\"C://Users//mbantwal//GitLab//Gx//Python-Workspace//Input.txt\", \"r\")\n",
    "# print(filename.read())\n",
    "\n",
    "for line in filenameRead:\n",
    "    tokens = line.split(' ')\n",
    "    print(len(tokens))\n",
    "    print(str(tokens))\n",
    "    print(line)\n",
    "\n",
    "\n",
    "filenameRead.close()\n"
   ]
  },
  {
   "cell_type": "code",
   "execution_count": 80,
   "metadata": {},
   "outputs": [
    {
     "name": "stdout",
     "output_type": "stream",
     "text": [
      "Frequency of  Pai\", is : 1\n",
      "Frequency of  \"Mayur is : 1\n",
      "Frequency of  \"mbantwal@galaxe.com\"}, is : 1\n",
      "Frequency of  \"3985\": is : 1\n",
      "Frequency of  {\"name\": is : 2\n",
      "Frequency of  \"email\": is : 2\n",
      "Frequency of  \"ksrinivasa@galaxe.com\"}} is : 1\n",
      "Frequency of  \"Kavya\", is : 1\n",
      "Frequency of  {\"3976\": is : 1\n"
     ]
    }
   ],
   "source": [
    "def freq(fileRead):\n",
    "\tstr_list = fileRead.split()\n",
    "\tunique_words = set(str_list)\n",
    "\t\n",
    "\tfor words in unique_words :\n",
    "\t\tprint('Frequency of ', words , 'is :', str_list.count(words))\n",
    "\n",
    "if __name__ == \"__main__\":\n",
    "\tfilenameRead = open(\"C://Users//mbantwal//GitLab//Gx//Python-Workspace//Input.txt\", \"r\")\n",
    "\tfreq(filenameRead.read())\n"
   ]
  },
  {
   "cell_type": "code",
   "execution_count": 82,
   "metadata": {},
   "outputs": [
    {
     "name": "stdout",
     "output_type": "stream",
     "text": [
      "4\n"
     ]
    }
   ],
   "source": [
    "def calculateSqaureArea(a):\n",
    "    return a*a\n",
    "\n",
    "if __name__ == \"__main__\":\n",
    "    print(calculateSqaureArea(2))"
   ]
  },
  {
   "cell_type": "markdown",
   "metadata": {},
   "source": [
    "Exceptions In Python"
   ]
  },
  {
   "cell_type": "code",
   "execution_count": 7,
   "metadata": {},
   "outputs": [
    {
     "name": "stdout",
     "output_type": "stream",
     "text": [
      "Exception Type: division by zero\n",
      "None\n"
     ]
    }
   ],
   "source": [
    "x = int(input(\"Enter First Number: \"))\n",
    "y = int(input(\"Enter Second Number: \"))\n",
    "try:\n",
    "    z = x / y\n",
    "# except Exception as e:\n",
    "#     print(\"Exception Occurred: \", e)\n",
    "#     z = \"None\"\n",
    "\n",
    "except ZeroDivisionError as e:\n",
    "    print(\"Exception Type:\", e)\n",
    "\n",
    "except Exception as e:\n",
    "    print(\"Exception Type:\", type(e).__name__)\n",
    "\n",
    "print(z)"
   ]
  },
  {
   "cell_type": "markdown",
   "metadata": {},
   "source": [
    "Class And Objects In Python"
   ]
  },
  {
   "cell_type": "code",
   "execution_count": 16,
   "metadata": {},
   "outputs": [
    {
     "name": "stdout",
     "output_type": "stream",
     "text": [
      "Hey Mayur\n",
      "Mayur How Are You?\n"
     ]
    }
   ],
   "source": [
    "class Human:\n",
    "    def __init__(self, name, salary):\n",
    "        self.name = name\n",
    "        self.salary = salary\n",
    "\n",
    "    def do_word(self):\n",
    "        if self.name == \"Mayur\":\n",
    "            print(\"Hey\", self.name)\n",
    "        elif self.name == \"\":\n",
    "            print(\"Hey Ghost 👻\")\n",
    "\n",
    "    def speak(self):\n",
    "        if self.name == \"\":\n",
    "            print(\"Can't You Speak?\")\n",
    "        else:\n",
    "            print(self.name,\"How Are You?\")\n",
    "\n",
    "mayur = Human(\"Mayur\", 33500)\n",
    "mayur.do_word()\n",
    "mayur.speak()"
   ]
  },
  {
   "cell_type": "markdown",
   "metadata": {},
   "source": [
    "Inheritance In Python"
   ]
  },
  {
   "cell_type": "code",
   "execution_count": 20,
   "metadata": {},
   "outputs": [
    {
     "name": "stdout",
     "output_type": "stream",
     "text": [
      "I'm car\n",
      "I'm motor cycle\n",
      "True\n",
      "False\n",
      "False\n",
      "True\n"
     ]
    }
   ],
   "source": [
    "class Vehicle:\n",
    "    def general_usage(self):\n",
    "        print(\"general use: transporation\")\n",
    "\n",
    "class Car(Vehicle):\n",
    "    def __init__(self):\n",
    "        print(\"I'm car\")\n",
    "        self.wheels = 4\n",
    "        self.has_roof = True\n",
    "\n",
    "    def specific_usage(self):\n",
    "        self.general_usage()\n",
    "        print(\"specific use: commute to work, vacation with family\")\n",
    "\n",
    "class MotorCycle(Vehicle):\n",
    "    def __init__(self):\n",
    "        print(\"I'm motor cycle\")\n",
    "        self.wheels = 2\n",
    "        self.has_roof = False\n",
    "\n",
    "    def specific_usage(self):\n",
    "        self.general_usage()\n",
    "        print(\"specific use: road trip, racing\")\n",
    "\n",
    "c = Car()\n",
    "m = MotorCycle()\n",
    "\n",
    "print(isinstance(c,Car))\n",
    "print(isinstance(c,MotorCycle))\n",
    "print(issubclass(Car,MotorCycle))\n",
    "print(issubclass(Car,Vehicle))"
   ]
  },
  {
   "cell_type": "markdown",
   "metadata": {},
   "source": [
    "Multiple Inheritance In Python"
   ]
  },
  {
   "cell_type": "code",
   "execution_count": 21,
   "metadata": {},
   "outputs": [
    {
     "name": "stdout",
     "output_type": "stream",
     "text": [
      "gardening,programming\n",
      "cooking,art\n",
      "sports\n"
     ]
    }
   ],
   "source": [
    "class Father():\n",
    "   def skills(self):\n",
    "       print(\"gardening,programming\")\n",
    "\n",
    "class Mother():\n",
    "   def skills(self):\n",
    "       print(\"cooking,art\")\n",
    "\n",
    "class Child(Father,Mother):\n",
    "    def skills(self):\n",
    "        Father.skills(self)\n",
    "        Mother.skills(self)\n",
    "        print(\"sports\")\n",
    "\n",
    "c = Child()\n",
    "c.skills()"
   ]
  },
  {
   "cell_type": "markdown",
   "metadata": {},
   "source": [
    "Raise Exception And Finally In Python"
   ]
  },
  {
   "cell_type": "code",
   "execution_count": 28,
   "metadata": {},
   "outputs": [
    {
     "name": "stdout",
     "output_type": "stream",
     "text": [
      "User Defined Execption: Crash Between Two Cars\n",
      "cleaning up file\n"
     ]
    },
    {
     "ename": "ZeroDivisionError",
     "evalue": "division by zero",
     "output_type": "error",
     "traceback": [
      "\u001b[1;31m---------------------------------------------------------------------------\u001b[0m",
      "\u001b[1;31mZeroDivisionError\u001b[0m                         Traceback (most recent call last)",
      "Cell \u001b[1;32mIn[28], line 24\u001b[0m\n\u001b[0;32m     21\u001b[0m        \u001b[38;5;28mprint\u001b[39m(\u001b[38;5;124m\"\u001b[39m\u001b[38;5;124mcleaning up file\u001b[39m\u001b[38;5;124m\"\u001b[39m)\n\u001b[0;32m     22\u001b[0m        f\u001b[38;5;241m.\u001b[39mclose()\n\u001b[1;32m---> 24\u001b[0m \u001b[43mprocess_file\u001b[49m\u001b[43m(\u001b[49m\u001b[43m)\u001b[49m\n",
      "Cell \u001b[1;32mIn[28], line 17\u001b[0m, in \u001b[0;36mprocess_file\u001b[1;34m()\u001b[0m\n\u001b[0;32m     15\u001b[0m \u001b[38;5;28;01mtry\u001b[39;00m:\n\u001b[0;32m     16\u001b[0m     f\u001b[38;5;241m=\u001b[39m\u001b[38;5;28mopen\u001b[39m(\u001b[38;5;124m\"\u001b[39m\u001b[38;5;124mC://Users//mbantwal//GitLab//Gx//Python-Workspace//Input.txt\u001b[39m\u001b[38;5;124m\"\u001b[39m)\n\u001b[1;32m---> 17\u001b[0m     x\u001b[38;5;241m=\u001b[39m\u001b[38;5;241;43m1\u001b[39;49m\u001b[38;5;241;43m/\u001b[39;49m\u001b[38;5;241;43m0\u001b[39;49m\n\u001b[0;32m     18\u001b[0m \u001b[38;5;28;01mexcept\u001b[39;00m \u001b[38;5;167;01mFileNotFoundError\u001b[39;00m \u001b[38;5;28;01mas\u001b[39;00m e:\n\u001b[0;32m     19\u001b[0m     \u001b[38;5;28mprint\u001b[39m(\u001b[38;5;124m\"\u001b[39m\u001b[38;5;124minside except\u001b[39m\u001b[38;5;124m\"\u001b[39m)\n",
      "\u001b[1;31mZeroDivisionError\u001b[0m: division by zero"
     ]
    }
   ],
   "source": [
    "class Accident(Exception):\n",
    "    def __init__(self, msg):\n",
    "        self.msg = msg\n",
    "\n",
    "    def print_exception(self):\n",
    "        print(\"User Defined Execption:\", self.msg)\n",
    "\n",
    "\n",
    "try:\n",
    "    raise Accident(\"Crash Between Two Cars\")\n",
    "except Accident as e:\n",
    "    e.print_exception()\n",
    "\n",
    "def process_file():\n",
    "   try:\n",
    "       f=open(\"C://Users//mbantwal//GitLab//Gx//Python-Workspace//Input.txt\")\n",
    "       x=1/0\n",
    "   except FileNotFoundError as e:\n",
    "       print(\"inside except\")\n",
    "   finally:\n",
    "       print(\"cleaning up file\")\n",
    "       f.close()\n",
    "\n",
    "process_file()"
   ]
  },
  {
   "cell_type": "markdown",
   "metadata": {},
   "source": [
    "Iterators In Python"
   ]
  },
  {
   "cell_type": "code",
   "execution_count": 30,
   "metadata": {},
   "outputs": [
    {
     "name": "stdout",
     "output_type": "stream",
     "text": [
      "HBO\n",
      "cnn\n",
      "abc\n",
      "espn\n"
     ]
    }
   ],
   "source": [
    "class RemoteControl():\n",
    "    def __init__(self):\n",
    "        self.channels = [\"HBO\",\"cnn\",\"abc\",\"espn\"]\n",
    "        self.index = -1\n",
    "\n",
    "    def __iter__(self):\n",
    "        return self\n",
    "\n",
    "    def __next__(self):\n",
    "        self.index += 1\n",
    "        if self.index == len(self.channels):\n",
    "            raise StopIteration\n",
    "\n",
    "        return self.channels[self.index]\n",
    "\n",
    "r = RemoteControl()\n",
    "itr=iter(r)\n",
    "print(next(itr))\n",
    "print(next(itr))\n",
    "print(next(itr))\n",
    "print(next(itr))\n",
    "# print(next(itr))"
   ]
  },
  {
   "cell_type": "code",
   "execution_count": null,
   "metadata": {},
   "outputs": [],
   "source": []
  }
 ],
 "metadata": {
  "kernelspec": {
   "display_name": "Python 3.11.1 64-bit",
   "language": "python",
   "name": "python3"
  },
  "language_info": {
   "codemirror_mode": {
    "name": "ipython",
    "version": 3
   },
   "file_extension": ".py",
   "mimetype": "text/x-python",
   "name": "python",
   "nbconvert_exporter": "python",
   "pygments_lexer": "ipython3",
   "version": "3.11.1"
  },
  "orig_nbformat": 4,
  "vscode": {
   "interpreter": {
    "hash": "560edca56c4e895613e99aaace2b4de396dbf6f083034ef3c9f6478231a21f2e"
   }
  }
 },
 "nbformat": 4,
 "nbformat_minor": 2
}
