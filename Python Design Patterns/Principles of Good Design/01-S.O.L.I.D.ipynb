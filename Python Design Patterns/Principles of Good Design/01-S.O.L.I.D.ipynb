{
 "cells": [
  {
   "cell_type": "markdown",
   "metadata": {},
   "source": [
    "# Single Responsibility"
   ]
  },
  {
   "cell_type": "markdown",
   "metadata": {},
   "source": [
    "A class should have only one job.  If a class has more than one responsibility,\n",
    "it becomes coupled.  A change to one responsibility results to modification of\n",
    "the other responsibility.\n",
    "\n",
    "t classes should have one responsibility, here, we can draw out\n",
    "two responsibilities: employee database management and employee properties\n",
    "management.\n",
    "\n",
    "The constructor and get_name manage the employeel properties while the\n",
    "save manages the employee storage on a database"
   ]
  },
  {
   "cell_type": "code",
   "execution_count": 2,
   "metadata": {},
   "outputs": [],
   "source": [
    "class Employee:\n",
    "\n",
    "    def __init__(self, employee_id, name, department):\n",
    "\n",
    "        self.__employee_id = employee_id\n",
    "        self.__name = name\n",
    "        self.__department = department\n",
    "    \n",
    "    def get_name(self):\n",
    "        pass\n",
    "\n",
    "    def get_department(self):\n",
    "        pass\n",
    "    \n",
    "    def promote_employee(self):\n",
    "        pass\n",
    "    \n",
    "    def transfer_employee(self, department):\n",
    "        pass\n",
    "    \n",
    "    def save_to_database(self):\n",
    "        pass\n",
    "    \n",
    "    def update_personal_details(self, personal_details):\n",
    "        pass"
   ]
  },
  {
   "cell_type": "code",
   "execution_count": null,
   "metadata": {},
   "outputs": [],
   "source": [
    "class Department:\n",
    "\n",
    "    def __init__(self, department_id, name, function, head):\n",
    "\n",
    "        self.__department_id = department_id\n",
    "        self.__name = name\n",
    "        self.__function = function\n",
    "        self.__head = head\n",
    "    \n",
    "    def get_name(self):\n",
    "        pass\n",
    "\n",
    "    def get_function(self):\n",
    "        pass\n",
    "    \n",
    "    def get_head(self):\n",
    "        pass"
   ]
  },
  {
   "cell_type": "markdown",
   "metadata": {},
   "source": [
    "If the application changes in a way that it affects database management\n",
    "functions. The classes that make use of Employee properties will have to be\n",
    "touched and recompiled to compensate for the new changes\n",
    "\n",
    "To make this conform to SRP, we create another class that will handle the sole\n",
    "responsibility of storing an employee to a database"
   ]
  },
  {
   "cell_type": "code",
   "execution_count": 1,
   "metadata": {},
   "outputs": [],
   "source": [
    "class Employee:\n",
    "\n",
    "    def __init__(self, employee_id, name, department):\n",
    "\n",
    "        self.__employee_id = employee_id\n",
    "        self.__name = name\n",
    "        self.__department = department\n",
    "    \n",
    "    def get_name(self):\n",
    "        pass\n",
    "\n",
    "    def get_department(self):\n",
    "        pass"
   ]
  },
  {
   "cell_type": "code",
   "execution_count": 2,
   "metadata": {},
   "outputs": [],
   "source": [
    "class EmployeeDatabaseOperations:\n",
    "    \n",
    "    def promote_employee(self, employee_id):\n",
    "        pass\n",
    "    \n",
    "    def transfer_employee(self, employee_id, department):\n",
    "        pass\n",
    "    \n",
    "    def save_to_database(self, employee_id):\n",
    "        pass\n",
    "    \n",
    "    def update_personal_details(self, employee_id, personal_details):\n",
    "        pass"
   ]
  },
  {
   "cell_type": "code",
   "execution_count": null,
   "metadata": {},
   "outputs": [],
   "source": []
  },
  {
   "cell_type": "code",
   "execution_count": 31,
   "metadata": {},
   "outputs": [],
   "source": [
    "class Shape:\n",
    "        \n",
    "    def __init__(self, shape_type):\n",
    "        self.__shape_type = shape_type\n",
    "\n",
    "    def get_type(self):\n",
    "        return self.__shape_type\n",
    "\n",
    "    def draw(self):\n",
    "        pass\n",
    "\n",
    "    def get_area(self):\n",
    "        pass"
   ]
  },
  {
   "cell_type": "code",
   "execution_count": 32,
   "metadata": {},
   "outputs": [],
   "source": [
    "class Rectangle(Shape):\n",
    "    \n",
    "    def __init__(self, width, height):\n",
    "        Shape.__init__(self, \"Rectangle\")\n",
    "\n",
    "        self.__width = width\n",
    "        self.__height = height\n",
    "        \n",
    "    def draw(self):\n",
    "        print('Interfacing with the drawing library to draw a rectangle')\n",
    "\n",
    "    def get_area(self):\n",
    "        return self.__width * self.__height"
   ]
  },
  {
   "cell_type": "code",
   "execution_count": 33,
   "metadata": {},
   "outputs": [
    {
     "data": {
      "text/plain": [
       "'Rectangle'"
      ]
     },
     "execution_count": 33,
     "metadata": {},
     "output_type": "execute_result"
    }
   ],
   "source": [
    "a = Rectangle(5, 6)\n",
    "\n",
    "a.get_type()"
   ]
  },
  {
   "cell_type": "code",
   "execution_count": 34,
   "metadata": {},
   "outputs": [
    {
     "data": {
      "text/plain": [
       "30"
      ]
     },
     "execution_count": 34,
     "metadata": {},
     "output_type": "execute_result"
    }
   ],
   "source": [
    "a.get_area()"
   ]
  },
  {
   "cell_type": "code",
   "execution_count": 35,
   "metadata": {},
   "outputs": [
    {
     "name": "stdout",
     "output_type": "stream",
     "text": [
      "Interfacing with the drawing library to draw a rectangle\n"
     ]
    }
   ],
   "source": [
    "a.draw()"
   ]
  },
  {
   "cell_type": "code",
   "execution_count": 37,
   "metadata": {},
   "outputs": [],
   "source": [
    "class DrawingTool:\n",
    "    \n",
    "    def __init__(self, shape):\n",
    "        self.__shape = shape\n",
    "        \n",
    "    def draw_shape(self):\n",
    "        print('Interface with the drawing library to draw any shape:', \n",
    "              self.__shape.get_type())"
   ]
  },
  {
   "cell_type": "code",
   "execution_count": 38,
   "metadata": {},
   "outputs": [],
   "source": [
    "class Shape:\n",
    "        \n",
    "    def __init__(self, shape_type):\n",
    "        self.__shape_type = shape_type\n",
    "        \n",
    "        self.__drawing_tool = DrawingTool(self)\n",
    "    \n",
    "    def get_type(self):\n",
    "        return self.__shape_type\n",
    "    \n",
    "    def draw(self):\n",
    "        self.__drawing_tool.draw_shape()\n",
    "\n",
    "    def get_area(self):\n",
    "        pass"
   ]
  },
  {
   "cell_type": "code",
   "execution_count": 39,
   "metadata": {},
   "outputs": [],
   "source": [
    "class Rectangle(Shape):\n",
    "    \n",
    "    def __init__(self, width, height):\n",
    "        Shape.__init__(self, \"Rectangle\")\n",
    "\n",
    "        self.__width = width\n",
    "        self.__height = height\n",
    "        \n",
    "    def get_area(self):\n",
    "        return self.__width * self.__height"
   ]
  },
  {
   "cell_type": "code",
   "execution_count": 42,
   "metadata": {},
   "outputs": [
    {
     "data": {
      "text/plain": [
       "'Rectangle'"
      ]
     },
     "execution_count": 42,
     "metadata": {},
     "output_type": "execute_result"
    }
   ],
   "source": [
    "a = Rectangle(5, 6)\n",
    "\n",
    "a.get_type()"
   ]
  },
  {
   "cell_type": "code",
   "execution_count": 43,
   "metadata": {},
   "outputs": [
    {
     "data": {
      "text/plain": [
       "30"
      ]
     },
     "execution_count": 43,
     "metadata": {},
     "output_type": "execute_result"
    }
   ],
   "source": [
    "a.get_area()"
   ]
  },
  {
   "cell_type": "code",
   "execution_count": 44,
   "metadata": {},
   "outputs": [
    {
     "name": "stdout",
     "output_type": "stream",
     "text": [
      "Interface with the drawing library to draw any shape: Rectangle\n"
     ]
    }
   ],
   "source": [
    "a.draw()"
   ]
  },
  {
   "cell_type": "markdown",
   "metadata": {},
   "source": [
    "# Open/Closed Principle\n",
    "\n",
    "Software entities (classes, modules, functions, etc) should be open for extension, but closed for modification"
   ]
  },
  {
   "cell_type": "code",
   "execution_count": 54,
   "metadata": {},
   "outputs": [],
   "source": [
    "class Employee:\n",
    "\n",
    "    def __init__(self, name):\n",
    "        self.__name = name\n",
    "    \n",
    "    def get_name(self):\n",
    "        return self.__name"
   ]
  },
  {
   "cell_type": "code",
   "execution_count": 55,
   "metadata": {},
   "outputs": [],
   "source": [
    "employee_bob = Employee('Bob')\n",
    "\n",
    "employee_charles = Employee('Charles')"
   ]
  },
  {
   "cell_type": "code",
   "execution_count": 56,
   "metadata": {},
   "outputs": [],
   "source": [
    "accounts = ['Bob']\n",
    "\n",
    "marketing = ['Charles']\n",
    "\n",
    "def get_department(employee):\n",
    "\n",
    "    if employee.get_name() in accounts:\n",
    "        print('accounts')\n",
    "\n",
    "    elif employee.get_name() in marketing:\n",
    "        print('marketing')"
   ]
  },
  {
   "cell_type": "code",
   "execution_count": 57,
   "metadata": {},
   "outputs": [
    {
     "name": "stdout",
     "output_type": "stream",
     "text": [
      "accounts\n"
     ]
    }
   ],
   "source": [
    "get_department(employee_bob)"
   ]
  },
  {
   "cell_type": "markdown",
   "metadata": {},
   "source": [
    "The function department does not conform to the open-closed principle because\n",
    "it cannot be closed against new employees.  If we add a new employee,\n",
    "Alice, We have to modify the department function.  You see, for every new\n",
    "employee, a new logic is added to the department function.  This is quite a\n",
    "simple example. When your application grows and becomes complex, you will see\n",
    "that the if statement would be repeated over and over again in the department\n",
    "function each time a new employee is added, all over the application."
   ]
  },
  {
   "cell_type": "code",
   "execution_count": 58,
   "metadata": {},
   "outputs": [],
   "source": [
    "employee_alice = Employee('Alice')"
   ]
  },
  {
   "cell_type": "code",
   "execution_count": 59,
   "metadata": {},
   "outputs": [],
   "source": [
    "finance = ['Alice']\n",
    "\n",
    "def get_department(employee):\n",
    "\n",
    "    if employee.get_name() in accounts:\n",
    "        print('accounts')\n",
    "\n",
    "    elif employee.get_name() in marketing:\n",
    "        print('marketing')\n",
    "    \n",
    "    elif employee.get_name() in finance:\n",
    "        print('finance')"
   ]
  },
  {
   "cell_type": "code",
   "execution_count": 61,
   "metadata": {},
   "outputs": [
    {
     "name": "stdout",
     "output_type": "stream",
     "text": [
      "finance\n"
     ]
    }
   ],
   "source": [
    "get_department(employee_alice)"
   ]
  },
  {
   "cell_type": "markdown",
   "metadata": {},
   "source": [
    "Implementing Open/Close"
   ]
  },
  {
   "cell_type": "code",
   "execution_count": 88,
   "metadata": {},
   "outputs": [],
   "source": [
    "class Department:\n",
    "\n",
    "    def __init__(self, name):\n",
    "        self.__name = name\n",
    "        self.__employees = []\n",
    "    \n",
    "    def get_name(self):\n",
    "        return self.__name\n",
    "\n",
    "    def get_employees(self):\n",
    "        return self.__employees\n",
    "    \n",
    "    def add_employee(self, employee):\n",
    "        return self.__employees.append(employee.get_name())"
   ]
  },
  {
   "cell_type": "code",
   "execution_count": 89,
   "metadata": {},
   "outputs": [],
   "source": [
    "class Employee:\n",
    "\n",
    "    def __init__(self, name, department):\n",
    "        self.__name = name\n",
    "        self.__department = department\n",
    "        \n",
    "        department.add_employee(self)\n",
    "    \n",
    "    def get_name(self):\n",
    "        return self.__name\n",
    "\n",
    "    def get_department(self):\n",
    "        return self.__department.get_name()"
   ]
  },
  {
   "cell_type": "code",
   "execution_count": 90,
   "metadata": {},
   "outputs": [],
   "source": [
    "accounts = Department('Accounts')\n",
    "\n",
    "marketing = Department('Marketing')\n",
    "\n",
    "finance = Department('Finance')"
   ]
  },
  {
   "cell_type": "code",
   "execution_count": 91,
   "metadata": {},
   "outputs": [
    {
     "data": {
      "text/plain": [
       "'Accounts'"
      ]
     },
     "execution_count": 91,
     "metadata": {},
     "output_type": "execute_result"
    }
   ],
   "source": [
    "emp_bob = Employee('Bob', accounts)\n",
    "\n",
    "emp_bob.get_department()"
   ]
  },
  {
   "cell_type": "code",
   "execution_count": 92,
   "metadata": {},
   "outputs": [
    {
     "data": {
      "text/plain": [
       "['Bob']"
      ]
     },
     "execution_count": 92,
     "metadata": {},
     "output_type": "execute_result"
    }
   ],
   "source": [
    "accounts.get_employees()"
   ]
  },
  {
   "cell_type": "code",
   "execution_count": 93,
   "metadata": {},
   "outputs": [
    {
     "data": {
      "text/plain": [
       "'Marketing'"
      ]
     },
     "execution_count": 93,
     "metadata": {},
     "output_type": "execute_result"
    }
   ],
   "source": [
    "emp_charles = Employee('Charles', marketing)\n",
    "\n",
    "emp_charles.get_department()"
   ]
  },
  {
   "cell_type": "code",
   "execution_count": 94,
   "metadata": {},
   "outputs": [
    {
     "data": {
      "text/plain": [
       "['Charles']"
      ]
     },
     "execution_count": 94,
     "metadata": {},
     "output_type": "execute_result"
    }
   ],
   "source": [
    "marketing.get_employees()"
   ]
  },
  {
   "cell_type": "code",
   "execution_count": 96,
   "metadata": {},
   "outputs": [
    {
     "data": {
      "text/plain": [
       "'Finance'"
      ]
     },
     "execution_count": 96,
     "metadata": {},
     "output_type": "execute_result"
    }
   ],
   "source": [
    "emp_alice = Employee('Alice', finance)\n",
    "\n",
    "emp_alice.get_department()"
   ]
  },
  {
   "cell_type": "code",
   "execution_count": 97,
   "metadata": {},
   "outputs": [
    {
     "data": {
      "text/plain": [
       "['Alice']"
      ]
     },
     "execution_count": 97,
     "metadata": {},
     "output_type": "execute_result"
    }
   ],
   "source": [
    "finance.get_employees()"
   ]
  },
  {
   "cell_type": "markdown",
   "metadata": {},
   "source": [
    "# Liskov Substitution Principle\n",
    "A sub-class must be substitutable for its super-class.  The aim of this\n",
    "principle is to ascertain that a sub-class can assume the place of its\n",
    "super-class without errors.  If the code finds itself checking the type of class\n",
    "then, it must have violated this principle.\n",
    "\n",
    "Instances of the new circle class will have the new behavior for the grow method. Instances of the existing class will continue to have the old behavior.\n",
    "\n",
    "When overriding behavior for a subclass, remember that in good OO programming a subclass should be substantially similar to its parents. If you have a system which uses the parent class, you should be able to use the subclass in all the same places, and in all the same ways. This is known as the “Liskov Substitution Principle”"
   ]
  },
  {
   "cell_type": "code",
   "execution_count": 167,
   "metadata": {},
   "outputs": [],
   "source": [
    "class Shape:\n",
    "        \n",
    "    def __init__(self, shape_type):\n",
    "        self.__shape_type = shape_type\n",
    "\n",
    "    def get_type(self):\n",
    "        return self.__shape_type\n",
    "\n",
    "    def draw(self):\n",
    "        pass\n",
    "\n",
    "    def get_area(self):\n",
    "        pass"
   ]
  },
  {
   "cell_type": "code",
   "execution_count": 168,
   "metadata": {},
   "outputs": [],
   "source": [
    "class Rectangle(Shape):\n",
    "    \n",
    "    def __init__(self, width, height):\n",
    "        Shape.__init__(self, \"Rectangle\")\n",
    "\n",
    "        self.__width = width\n",
    "        self.__height = height\n",
    "\n",
    "    def draw(self):\n",
    "        print('Imagine that this draws a rectangle')\n",
    "        \n",
    "    def get_area(self):\n",
    "        return self.__width * self.__height"
   ]
  },
  {
   "cell_type": "code",
   "execution_count": 182,
   "metadata": {},
   "outputs": [],
   "source": [
    "class VeryComplicatedShape(Shape):\n",
    "    \n",
    "    def __init__(self):\n",
    "        Shape.__init__(self, \"VeryComplicatedShape\")\n",
    "\n",
    "    def draw(self, complicated_drawing_tool):\n",
    "        if complicated_drawing_tool == None:\n",
    "            raise AssertionError('Cannot draw this shape!')\n",
    "        else:\n",
    "            print('Imagine we use the complicated tool to draw this shape')\n",
    "        \n",
    "    def get_area(self):\n",
    "        raise AssertionError('Cannot calculate the area of this shape!')"
   ]
  },
  {
   "cell_type": "code",
   "execution_count": 183,
   "metadata": {},
   "outputs": [],
   "source": [
    "class Line(Shape):\n",
    "    \n",
    "    def __init__(self, length):\n",
    "        Shape.__init__(self, \"Line\")\n",
    "\n",
    "        self.__length = length\n",
    "\n",
    "    def draw(self):\n",
    "        print('Imagine that this draws a line')\n",
    "\n",
    "    def get_area(self):\n",
    "        raise AssertionError('No area for line!')"
   ]
  },
  {
   "cell_type": "code",
   "execution_count": 184,
   "metadata": {},
   "outputs": [],
   "source": [
    "def draw_shape(shape, complicated_drawing_tool=None):\n",
    "    if isinstance(shape, VeryComplicatedShape):\n",
    "        shape.draw(complicated_drawing_tool)\n",
    "    else:\n",
    "        shape.draw()"
   ]
  },
  {
   "cell_type": "code",
   "execution_count": 185,
   "metadata": {},
   "outputs": [],
   "source": [
    "def get_area(shape):\n",
    "    return shape.get_area()"
   ]
  },
  {
   "cell_type": "code",
   "execution_count": 186,
   "metadata": {},
   "outputs": [],
   "source": [
    "shape = Shape('some_shape')\n",
    "\n",
    "rectangle = Rectangle(5, 6)\n",
    "\n",
    "complicated_shape = VeryComplicatedShape()\n",
    "\n",
    "line = Line(5)"
   ]
  },
  {
   "cell_type": "code",
   "execution_count": 187,
   "metadata": {},
   "outputs": [],
   "source": [
    "draw_shape(shape)"
   ]
  },
  {
   "cell_type": "code",
   "execution_count": 188,
   "metadata": {},
   "outputs": [
    {
     "name": "stdout",
     "output_type": "stream",
     "text": [
      "Imagine that this draws a rectangle\n"
     ]
    }
   ],
   "source": [
    "draw_shape(rectangle)"
   ]
  },
  {
   "cell_type": "code",
   "execution_count": 189,
   "metadata": {},
   "outputs": [
    {
     "name": "stdout",
     "output_type": "stream",
     "text": [
      "Imagine we use the complicated tool to draw this shape\n"
     ]
    }
   ],
   "source": [
    "draw_shape(complicated_shape, \"complicated tool\")"
   ]
  },
  {
   "cell_type": "code",
   "execution_count": 190,
   "metadata": {},
   "outputs": [
    {
     "name": "stdout",
     "output_type": "stream",
     "text": [
      "Imagine that this draws a line\n"
     ]
    }
   ],
   "source": [
    "draw_shape(line)"
   ]
  },
  {
   "cell_type": "code",
   "execution_count": 191,
   "metadata": {},
   "outputs": [],
   "source": [
    "get_area(shape)"
   ]
  },
  {
   "cell_type": "code",
   "execution_count": 192,
   "metadata": {},
   "outputs": [
    {
     "data": {
      "text/plain": [
       "30"
      ]
     },
     "execution_count": 192,
     "metadata": {},
     "output_type": "execute_result"
    }
   ],
   "source": [
    "get_area(rectangle)"
   ]
  },
  {
   "cell_type": "code",
   "execution_count": 193,
   "metadata": {},
   "outputs": [
    {
     "ename": "AssertionError",
     "evalue": "Cannot calculate the area of this shape!",
     "output_type": "error",
     "traceback": [
      "\u001b[0;31m---------------------------------------------------------------------------\u001b[0m",
      "\u001b[0;31mAssertionError\u001b[0m                            Traceback (most recent call last)",
      "\u001b[0;32m<ipython-input-193-31acf7ac7795>\u001b[0m in \u001b[0;36m<module>\u001b[0;34m\u001b[0m\n\u001b[0;32m----> 1\u001b[0;31m \u001b[0mget_area\u001b[0m\u001b[0;34m(\u001b[0m\u001b[0mcomplicated_shape\u001b[0m\u001b[0;34m)\u001b[0m\u001b[0;34m\u001b[0m\u001b[0;34m\u001b[0m\u001b[0m\n\u001b[0m",
      "\u001b[0;32m<ipython-input-185-bbe328be5c07>\u001b[0m in \u001b[0;36mget_area\u001b[0;34m(shape)\u001b[0m\n\u001b[1;32m      1\u001b[0m \u001b[0;32mdef\u001b[0m \u001b[0mget_area\u001b[0m\u001b[0;34m(\u001b[0m\u001b[0mshape\u001b[0m\u001b[0;34m)\u001b[0m\u001b[0;34m:\u001b[0m\u001b[0;34m\u001b[0m\u001b[0;34m\u001b[0m\u001b[0m\n\u001b[0;32m----> 2\u001b[0;31m     \u001b[0;32mreturn\u001b[0m \u001b[0mshape\u001b[0m\u001b[0;34m.\u001b[0m\u001b[0mget_area\u001b[0m\u001b[0;34m(\u001b[0m\u001b[0;34m)\u001b[0m\u001b[0;34m\u001b[0m\u001b[0;34m\u001b[0m\u001b[0m\n\u001b[0m",
      "\u001b[0;32m<ipython-input-182-0c7eb42e64e7>\u001b[0m in \u001b[0;36mget_area\u001b[0;34m(self)\u001b[0m\n\u001b[1;32m     11\u001b[0m \u001b[0;34m\u001b[0m\u001b[0m\n\u001b[1;32m     12\u001b[0m     \u001b[0;32mdef\u001b[0m \u001b[0mget_area\u001b[0m\u001b[0;34m(\u001b[0m\u001b[0mself\u001b[0m\u001b[0;34m)\u001b[0m\u001b[0;34m:\u001b[0m\u001b[0;34m\u001b[0m\u001b[0;34m\u001b[0m\u001b[0m\n\u001b[0;32m---> 13\u001b[0;31m         \u001b[0;32mraise\u001b[0m \u001b[0mAssertionError\u001b[0m\u001b[0;34m(\u001b[0m\u001b[0;34m'Cannot calculate the area of this shape!'\u001b[0m\u001b[0;34m)\u001b[0m\u001b[0;34m\u001b[0m\u001b[0;34m\u001b[0m\u001b[0m\n\u001b[0m",
      "\u001b[0;31mAssertionError\u001b[0m: Cannot calculate the area of this shape!"
     ]
    }
   ],
   "source": [
    "get_area(complicated_shape)"
   ]
  },
  {
   "cell_type": "code",
   "execution_count": 194,
   "metadata": {},
   "outputs": [
    {
     "ename": "AssertionError",
     "evalue": "No area for line!",
     "output_type": "error",
     "traceback": [
      "\u001b[0;31m---------------------------------------------------------------------------\u001b[0m",
      "\u001b[0;31mAssertionError\u001b[0m                            Traceback (most recent call last)",
      "\u001b[0;32m<ipython-input-194-c1b33192bdcc>\u001b[0m in \u001b[0;36m<module>\u001b[0;34m\u001b[0m\n\u001b[0;32m----> 1\u001b[0;31m \u001b[0mget_area\u001b[0m\u001b[0;34m(\u001b[0m\u001b[0mline\u001b[0m\u001b[0;34m)\u001b[0m\u001b[0;34m\u001b[0m\u001b[0;34m\u001b[0m\u001b[0m\n\u001b[0m",
      "\u001b[0;32m<ipython-input-185-bbe328be5c07>\u001b[0m in \u001b[0;36mget_area\u001b[0;34m(shape)\u001b[0m\n\u001b[1;32m      1\u001b[0m \u001b[0;32mdef\u001b[0m \u001b[0mget_area\u001b[0m\u001b[0;34m(\u001b[0m\u001b[0mshape\u001b[0m\u001b[0;34m)\u001b[0m\u001b[0;34m:\u001b[0m\u001b[0;34m\u001b[0m\u001b[0;34m\u001b[0m\u001b[0m\n\u001b[0;32m----> 2\u001b[0;31m     \u001b[0;32mreturn\u001b[0m \u001b[0mshape\u001b[0m\u001b[0;34m.\u001b[0m\u001b[0mget_area\u001b[0m\u001b[0;34m(\u001b[0m\u001b[0;34m)\u001b[0m\u001b[0;34m\u001b[0m\u001b[0;34m\u001b[0m\u001b[0m\n\u001b[0m",
      "\u001b[0;32m<ipython-input-183-36925b6bf413>\u001b[0m in \u001b[0;36mget_area\u001b[0;34m(self)\u001b[0m\n\u001b[1;32m     10\u001b[0m \u001b[0;34m\u001b[0m\u001b[0m\n\u001b[1;32m     11\u001b[0m     \u001b[0;32mdef\u001b[0m \u001b[0mget_area\u001b[0m\u001b[0;34m(\u001b[0m\u001b[0mself\u001b[0m\u001b[0;34m)\u001b[0m\u001b[0;34m:\u001b[0m\u001b[0;34m\u001b[0m\u001b[0;34m\u001b[0m\u001b[0m\n\u001b[0;32m---> 12\u001b[0;31m         \u001b[0;32mraise\u001b[0m \u001b[0mAssertionError\u001b[0m\u001b[0;34m(\u001b[0m\u001b[0;34m'No area for line!'\u001b[0m\u001b[0;34m)\u001b[0m\u001b[0;34m\u001b[0m\u001b[0;34m\u001b[0m\u001b[0m\n\u001b[0m",
      "\u001b[0;31mAssertionError\u001b[0m: No area for line!"
     ]
    }
   ],
   "source": [
    "get_area(line)"
   ]
  },
  {
   "cell_type": "code",
   "execution_count": null,
   "metadata": {},
   "outputs": [],
   "source": []
  },
  {
   "cell_type": "code",
   "execution_count": null,
   "metadata": {},
   "outputs": [],
   "source": []
  },
  {
   "cell_type": "markdown",
   "metadata": {},
   "source": [
    "# Interface Segregation Principle\n",
    "Make fine grained interfaces that are client specific Clients should not be\n",
    "forced to depend upon interfaces that they do not use. "
   ]
  },
  {
   "cell_type": "code",
   "execution_count": 211,
   "metadata": {},
   "outputs": [],
   "source": [
    "class Flying:\n",
    "    \n",
    "    def fly(self):\n",
    "        print('This creature can fly!')"
   ]
  },
  {
   "cell_type": "code",
   "execution_count": 212,
   "metadata": {},
   "outputs": [],
   "source": [
    "class Swimming:\n",
    "    \n",
    "    def swim(self):\n",
    "        print('This creature can swim')"
   ]
  },
  {
   "cell_type": "code",
   "execution_count": 213,
   "metadata": {},
   "outputs": [],
   "source": [
    "class Feeding:\n",
    "    \n",
    "    def feed(self):\n",
    "        print('This creature eats food.')"
   ]
  },
  {
   "cell_type": "code",
   "execution_count": 214,
   "metadata": {},
   "outputs": [],
   "source": [
    "class Birthing:\n",
    "    \n",
    "    def birth(self):\n",
    "        print('This creature gives birth to young')"
   ]
  },
  {
   "cell_type": "code",
   "execution_count": 215,
   "metadata": {},
   "outputs": [],
   "source": [
    "def make_fly(flying):\n",
    "\n",
    "    flying.fly()"
   ]
  },
  {
   "cell_type": "code",
   "execution_count": 216,
   "metadata": {},
   "outputs": [],
   "source": [
    "def eat_food(feeding):\n",
    "    \n",
    "    feeding.feed()"
   ]
  },
  {
   "cell_type": "code",
   "execution_count": 208,
   "metadata": {},
   "outputs": [],
   "source": [
    "def give_birth(birthing):\n",
    "    \n",
    "    birthing.birth()"
   ]
  },
  {
   "cell_type": "code",
   "execution_count": 218,
   "metadata": {},
   "outputs": [],
   "source": [
    "def make_swim(swimming):\n",
    "    \n",
    "    swimming.swim()"
   ]
  },
  {
   "cell_type": "code",
   "execution_count": 219,
   "metadata": {},
   "outputs": [],
   "source": [
    "class Eagle(Flying, Feeding, Birthing):\n",
    "    \n",
    "    def birth(self):\n",
    "        print('Eagles give birth by laying eggs!')"
   ]
  },
  {
   "cell_type": "code",
   "execution_count": 220,
   "metadata": {},
   "outputs": [],
   "source": [
    "class Dolphin(Swimming, Feeding, Birthing):\n",
    "    pass"
   ]
  },
  {
   "cell_type": "code",
   "execution_count": 223,
   "metadata": {},
   "outputs": [],
   "source": [
    "eagle = Eagle()"
   ]
  },
  {
   "cell_type": "code",
   "execution_count": 224,
   "metadata": {},
   "outputs": [
    {
     "name": "stdout",
     "output_type": "stream",
     "text": [
      "This creature can fly!\n"
     ]
    }
   ],
   "source": [
    "make_fly(eagle)"
   ]
  },
  {
   "cell_type": "code",
   "execution_count": 225,
   "metadata": {},
   "outputs": [
    {
     "name": "stdout",
     "output_type": "stream",
     "text": [
      "This creature eats food.\n"
     ]
    }
   ],
   "source": [
    "eat_food(eagle)"
   ]
  },
  {
   "cell_type": "code",
   "execution_count": 226,
   "metadata": {},
   "outputs": [
    {
     "name": "stdout",
     "output_type": "stream",
     "text": [
      "Eagles give birth by laying eggs!\n"
     ]
    }
   ],
   "source": [
    "give_birth(eagle)"
   ]
  },
  {
   "cell_type": "code",
   "execution_count": 228,
   "metadata": {},
   "outputs": [
    {
     "ename": "AttributeError",
     "evalue": "'Eagle' object has no attribute 'swim'",
     "output_type": "error",
     "traceback": [
      "\u001b[0;31m---------------------------------------------------------------------------\u001b[0m",
      "\u001b[0;31mAttributeError\u001b[0m                            Traceback (most recent call last)",
      "\u001b[0;32m<ipython-input-228-771364f3c0a7>\u001b[0m in \u001b[0;36m<module>\u001b[0;34m\u001b[0m\n\u001b[0;32m----> 1\u001b[0;31m \u001b[0mmake_swim\u001b[0m\u001b[0;34m(\u001b[0m\u001b[0meagle\u001b[0m\u001b[0;34m)\u001b[0m\u001b[0;34m\u001b[0m\u001b[0;34m\u001b[0m\u001b[0m\n\u001b[0m",
      "\u001b[0;32m<ipython-input-218-510ab5c8c922>\u001b[0m in \u001b[0;36mmake_swim\u001b[0;34m(swimming)\u001b[0m\n\u001b[1;32m      1\u001b[0m \u001b[0;32mdef\u001b[0m \u001b[0mmake_swim\u001b[0m\u001b[0;34m(\u001b[0m\u001b[0mswimming\u001b[0m\u001b[0;34m)\u001b[0m\u001b[0;34m:\u001b[0m\u001b[0;34m\u001b[0m\u001b[0;34m\u001b[0m\u001b[0m\n\u001b[1;32m      2\u001b[0m \u001b[0;34m\u001b[0m\u001b[0m\n\u001b[0;32m----> 3\u001b[0;31m     \u001b[0mswimming\u001b[0m\u001b[0;34m.\u001b[0m\u001b[0mswim\u001b[0m\u001b[0;34m(\u001b[0m\u001b[0;34m)\u001b[0m\u001b[0;34m\u001b[0m\u001b[0;34m\u001b[0m\u001b[0m\n\u001b[0m",
      "\u001b[0;31mAttributeError\u001b[0m: 'Eagle' object has no attribute 'swim'"
     ]
    }
   ],
   "source": [
    "make_swim(eagle)"
   ]
  },
  {
   "cell_type": "code",
   "execution_count": 229,
   "metadata": {},
   "outputs": [],
   "source": [
    "dolphin = Dolphin()"
   ]
  },
  {
   "cell_type": "code",
   "execution_count": 230,
   "metadata": {},
   "outputs": [
    {
     "name": "stdout",
     "output_type": "stream",
     "text": [
      "This creature can swim\n"
     ]
    }
   ],
   "source": [
    "make_swim(dolphin)"
   ]
  },
  {
   "cell_type": "code",
   "execution_count": 231,
   "metadata": {},
   "outputs": [
    {
     "ename": "AttributeError",
     "evalue": "'Dolphin' object has no attribute 'fly'",
     "output_type": "error",
     "traceback": [
      "\u001b[0;31m---------------------------------------------------------------------------\u001b[0m",
      "\u001b[0;31mAttributeError\u001b[0m                            Traceback (most recent call last)",
      "\u001b[0;32m<ipython-input-231-8b469e41594f>\u001b[0m in \u001b[0;36m<module>\u001b[0;34m\u001b[0m\n\u001b[0;32m----> 1\u001b[0;31m \u001b[0mmake_fly\u001b[0m\u001b[0;34m(\u001b[0m\u001b[0mdolphin\u001b[0m\u001b[0;34m)\u001b[0m\u001b[0;34m\u001b[0m\u001b[0;34m\u001b[0m\u001b[0m\n\u001b[0m",
      "\u001b[0;32m<ipython-input-215-4f0b95c1d723>\u001b[0m in \u001b[0;36mmake_fly\u001b[0;34m(flying)\u001b[0m\n\u001b[1;32m      1\u001b[0m \u001b[0;32mdef\u001b[0m \u001b[0mmake_fly\u001b[0m\u001b[0;34m(\u001b[0m\u001b[0mflying\u001b[0m\u001b[0;34m)\u001b[0m\u001b[0;34m:\u001b[0m\u001b[0;34m\u001b[0m\u001b[0;34m\u001b[0m\u001b[0m\n\u001b[1;32m      2\u001b[0m \u001b[0;34m\u001b[0m\u001b[0m\n\u001b[0;32m----> 3\u001b[0;31m     \u001b[0mflying\u001b[0m\u001b[0;34m.\u001b[0m\u001b[0mfly\u001b[0m\u001b[0;34m(\u001b[0m\u001b[0;34m)\u001b[0m\u001b[0;34m\u001b[0m\u001b[0;34m\u001b[0m\u001b[0m\n\u001b[0m",
      "\u001b[0;31mAttributeError\u001b[0m: 'Dolphin' object has no attribute 'fly'"
     ]
    }
   ],
   "source": [
    "make_fly(dolphin)"
   ]
  },
  {
   "cell_type": "code",
   "execution_count": 234,
   "metadata": {},
   "outputs": [],
   "source": [
    "class Mammal:\n",
    "    \n",
    "    def aerial(self):\n",
    "        raise NotImplementedError\n",
    "    \n",
    "    def aquatic(self):\n",
    "        raise NotImplementedError\n",
    "    \n",
    "    def terrestrial(self):\n",
    "        raise NotImplementedError"
   ]
  },
  {
   "cell_type": "code",
   "execution_count": 235,
   "metadata": {},
   "outputs": [],
   "source": [
    "class Human(Mammal):\n",
    "    \n",
    "    def aerial(self):\n",
    "        pass\n",
    "    \n",
    "    def aquatic(self):\n",
    "        pass\n",
    "    \n",
    "    def terrestrial(self):\n",
    "        print(\"humans are bipeds\")\n",
    "        \n",
    "\n",
    "class Bat(Mammal):\n",
    "    \n",
    "    def aerial(self):\n",
    "        print(\"bats are the only mammals that can truly fly\")\n",
    "    \n",
    "    def aquatic(self):\n",
    "        pass\n",
    "    \n",
    "    def terrestrial(self):\n",
    "        pass\n",
    "\n",
    "class Dolphin(Mammal):\n",
    "\n",
    "    def aerial(self):\n",
    "        pass\n",
    "    \n",
    "    def aquatic(self):\n",
    "        print(\"dolphins are marine mammals\")\n",
    "    \n",
    "    def terrestrial(self):\n",
    "        pass"
   ]
  },
  {
   "cell_type": "code",
   "execution_count": 236,
   "metadata": {},
   "outputs": [],
   "source": [
    "bob = Human()"
   ]
  },
  {
   "cell_type": "code",
   "execution_count": 237,
   "metadata": {},
   "outputs": [
    {
     "name": "stdout",
     "output_type": "stream",
     "text": [
      "humans are bipeds\n"
     ]
    }
   ],
   "source": [
    "bob.terrestrial()"
   ]
  },
  {
   "cell_type": "markdown",
   "metadata": {},
   "source": [
    "It’s quite funny looking at the code above. class dolphin implements methods\n",
    "(aerial and terrestrial) it has no use of, likewise bat and human\n",
    "If we add another method to the Mammal interface, like Arboreal(),\n"
   ]
  },
  {
   "cell_type": "markdown",
   "metadata": {},
   "source": [
    "clients (here Human,Bat, and Dolphin) should not be forced to depend on methods that they do not\n",
    "need or use."
   ]
  },
  {
   "cell_type": "code",
   "execution_count": 238,
   "metadata": {},
   "outputs": [],
   "source": [
    "class Mammal:\n",
    "    def locomotion(self):\n",
    "        raise NotImplementedError"
   ]
  },
  {
   "cell_type": "code",
   "execution_count": 239,
   "metadata": {},
   "outputs": [],
   "source": [
    "class Human(Mammal):\n",
    "    def locomotion(self):\n",
    "        print(\"terrestrial: humans are bipeds\")\n",
    "\n",
    "class Bat(Mammal):\n",
    "    def locomotion(self):\n",
    "        print(\"aerial: bats are the only mammals that can truly fly\")\n",
    "\n",
    "\n",
    "class Dolphin(Mammal):\n",
    "    def locomotion(self):\n",
    "        print(\"aquatic: dolphins are marine mammals\")"
   ]
  },
  {
   "cell_type": "code",
   "execution_count": 240,
   "metadata": {},
   "outputs": [],
   "source": [
    "spinner_dolphin = Dolphin()"
   ]
  },
  {
   "cell_type": "code",
   "execution_count": 241,
   "metadata": {},
   "outputs": [
    {
     "name": "stdout",
     "output_type": "stream",
     "text": [
      "aquatic: dolphins are marine mammals\n"
     ]
    }
   ],
   "source": [
    "spinner_dolphin.locomotion()"
   ]
  },
  {
   "cell_type": "markdown",
   "metadata": {},
   "source": [
    "# The Dependency Inversion Principle (DIP):\n",
    "High level modules should not depend upon low level modules. Both should depend upon abstractions."
   ]
  },
  {
   "cell_type": "code",
   "execution_count": 242,
   "metadata": {},
   "outputs": [],
   "source": [
    "class Organization(): \n",
    "    \n",
    "    def __init__(self): \n",
    "        self.__operations = [] \n",
    "        self.__finance = [] \n",
    "        self.__human_resources = [] \n",
    "  \n",
    "    def add_ops(self, department): \n",
    "        self.__operations.append(department) \n",
    "          \n",
    "    def add_finance(self, department): \n",
    "        self.__finance.append(department) \n",
    "          \n",
    "    def add_hr(self, department): \n",
    "        self.__human_resources.append(department) "
   ]
  },
  {
   "cell_type": "code",
   "execution_count": 243,
   "metadata": {},
   "outputs": [],
   "source": [
    "class Operations():\n",
    "    \n",
    "    def __init__(self): \n",
    "        print (\"Operations department created\")\n",
    "      \n",
    "    \n",
    "class Finance(): \n",
    "    \n",
    "    def __init__(self): \n",
    "        print (\"Finance department created\")\n",
    "        \n",
    "        \n",
    "class HumanResources(): \n",
    "\n",
    "    def __init__(self): \n",
    "        print( \"HR department created\")"
   ]
  },
  {
   "cell_type": "code",
   "execution_count": 249,
   "metadata": {},
   "outputs": [],
   "source": [
    "skillsoft = Organization() "
   ]
  },
  {
   "cell_type": "code",
   "execution_count": 250,
   "metadata": {},
   "outputs": [
    {
     "name": "stdout",
     "output_type": "stream",
     "text": [
      "Operations department created\n",
      "Finance department created\n",
      "HR department created\n"
     ]
    }
   ],
   "source": [
    "ops = Operations()\n",
    "\n",
    "finance = Finance()\n",
    "\n",
    "hr = HumanResources()"
   ]
  },
  {
   "cell_type": "code",
   "execution_count": 251,
   "metadata": {},
   "outputs": [],
   "source": [
    "skillsoft.add_ops(ops)\n",
    "\n",
    "skillsoft.add_finance(finance)\n",
    "\n",
    "skillsoft.add_hr(hr)"
   ]
  },
  {
   "cell_type": "markdown",
   "metadata": {},
   "source": [
    "First, you have exposed everything about the lower layer to the upper layer, i.e. the Organization has details of the individual departments. \n",
    "\n",
    "Now if another type of department is opened in the organisation  lets say, Analytics then we need to change the higher-level Organization class to account for this new department."
   ]
  },
  {
   "cell_type": "code",
   "execution_count": 257,
   "metadata": {},
   "outputs": [],
   "source": [
    "class Department():\n",
    "    \n",
    "    def __init__(self, name, organization):\n",
    "        \n",
    "        self.__name = name\n",
    "        self.__organization = organization\n",
    "        self.__organization.add_department(self)\n",
    "    \n",
    "    def get_name(self): \n",
    "        return self.__name\n",
    "    \n",
    "    def do_work(self): \n",
    "        pass"
   ]
  },
  {
   "cell_type": "code",
   "execution_count": 261,
   "metadata": {},
   "outputs": [],
   "source": [
    "class Organization(): \n",
    "    \n",
    "    def __init__(self): \n",
    "        self.__departments = [] \n",
    "\n",
    "    def add_department(self, department): \n",
    "        self.__departments.append(department)"
   ]
  },
  {
   "cell_type": "code",
   "execution_count": 262,
   "metadata": {},
   "outputs": [],
   "source": [
    "class Operations(Department): \n",
    "\n",
    "    def __init__(self, organization):\n",
    "        Department.__init__(self, \"Operations\", organization)\n",
    "        print (\"Operations department created and added\")\n",
    "    \n",
    "    def do_work(self): \n",
    "        print (\"Managing production of goods and services\")\n",
    "          \n",
    "class Finance(Department):\n",
    "    \n",
    "    def __init__(self, organization):\n",
    "        Department.__init__(self, \"Finance\", organization)\n",
    "        print (\"Finance department created and added\")\n",
    "\n",
    "    def do_work(self): \n",
    "        print (\"Managing a company's finances\")\n",
    "          \n",
    "class HumanResources(Department):\n",
    "    \n",
    "    def __init__(self, organization):\n",
    "        Department.__init__(self, \"HumanResources\", organization)\n",
    "        print (\"Human Resources department created and added\")\n",
    "\n",
    "    def do_work(self): \n",
    "        print (\"Recruitment and engagement\")\n",
    "          "
   ]
  },
  {
   "cell_type": "code",
   "execution_count": 263,
   "metadata": {},
   "outputs": [],
   "source": [
    "skillsoft = Organization() "
   ]
  },
  {
   "cell_type": "code",
   "execution_count": 264,
   "metadata": {},
   "outputs": [
    {
     "name": "stdout",
     "output_type": "stream",
     "text": [
      "Operations department created and added\n",
      "Finance department created and added\n",
      "Human Resources department created and added\n"
     ]
    }
   ],
   "source": [
    "ops = Operations(skillsoft)\n",
    "\n",
    "finance = Finance(skillsoft)\n",
    "\n",
    "hr = HumanResources(skillsoft)"
   ]
  },
  {
   "cell_type": "markdown",
   "metadata": {},
   "source": [
    "Now if any other kind of  department is added it can be simply be added to Organisation without making the organisation explicitly aware of it. Now to add another class of department we can simply call"
   ]
  },
  {
   "cell_type": "code",
   "execution_count": 265,
   "metadata": {},
   "outputs": [],
   "source": [
    "class Analytics(Employee):\n",
    "    \n",
    "    def __init__(self, organization):\n",
    "        Department.__init__(self, \"Analytics\", organization)\n",
    "        print (\"Analytics department created and added\")\n",
    "\n",
    "    def do_work(self):\n",
    "        print(\"Data collection and data analysis\")"
   ]
  },
  {
   "cell_type": "code",
   "execution_count": 266,
   "metadata": {},
   "outputs": [
    {
     "name": "stdout",
     "output_type": "stream",
     "text": [
      "Analytics department created and added\n"
     ]
    }
   ],
   "source": [
    "analytics = Analytics(skillsoft)"
   ]
  },
  {
   "cell_type": "code",
   "execution_count": null,
   "metadata": {},
   "outputs": [],
   "source": []
  },
  {
   "cell_type": "code",
   "execution_count": null,
   "metadata": {},
   "outputs": [],
   "source": []
  },
  {
   "cell_type": "code",
   "execution_count": null,
   "metadata": {},
   "outputs": [],
   "source": []
  }
 ],
 "metadata": {
  "kernelspec": {
   "display_name": "Python 3",
   "language": "python",
   "name": "python3"
  },
  "language_info": {
   "codemirror_mode": {
    "name": "ipython",
    "version": 3
   },
   "file_extension": ".py",
   "mimetype": "text/x-python",
   "name": "python",
   "nbconvert_exporter": "python",
   "pygments_lexer": "ipython3",
   "version": "3.6.9"
  }
 },
 "nbformat": 4,
 "nbformat_minor": 2
}
